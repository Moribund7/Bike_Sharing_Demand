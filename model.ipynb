{
 "cells": [
  {
   "cell_type": "markdown",
   "metadata": {},
   "source": [
    "# <center>Bike Sharing Demand</center>"
   ]
  },
  {
   "cell_type": "markdown",
   "metadata": {},
   "source": [
    "### <div align='right'>Filip Kowalski</right>"
   ]
  },
  {
   "cell_type": "code",
   "execution_count": 324,
   "metadata": {},
   "outputs": [],
   "source": [
    "from pandas import read_csv\n",
    "import pandas as pd\n",
    "import matplotlib.pyplot as plt\n",
    "from sklearn.linear_model import LinearRegression\n",
    "from sklearn.linear_model import Lasso\n",
    "from sklearn.linear_model import ElasticNet\n",
    "from sklearn.model_selection import train_test_split \n",
    "from sklearn.neighbors import KNeighborsRegressor\n",
    "from sklearn.tree import DecisionTreeRegressor\n",
    "from sklearn.svm import SVR\n",
    "from sklearn.model_selection import GridSearchCV"
   ]
  },
  {
   "cell_type": "code",
   "execution_count": 116,
   "metadata": {},
   "outputs": [],
   "source": [
    "# set figure size\n",
    "plt.rcParams['figure.figsize'] = (10,10)"
   ]
  },
  {
   "cell_type": "markdown",
   "metadata": {},
   "source": [
    "# Load Data"
   ]
  },
  {
   "cell_type": "code",
   "execution_count": 222,
   "metadata": {},
   "outputs": [],
   "source": [
    "filename='train.csv'\n",
    "dataset=read_csv(filename)"
   ]
  },
  {
   "cell_type": "markdown",
   "metadata": {},
   "source": [
    "# Looking on data "
   ]
  },
  {
   "cell_type": "code",
   "execution_count": 223,
   "metadata": {},
   "outputs": [],
   "source": [
    "time=pd.to_datetime(dataset.datetime)\n",
    "dataset.datetime=time"
   ]
  },
  {
   "cell_type": "code",
   "execution_count": 224,
   "metadata": {},
   "outputs": [
    {
     "data": {
      "text/html": [
       "<div>\n",
       "<style scoped>\n",
       "    .dataframe tbody tr th:only-of-type {\n",
       "        vertical-align: middle;\n",
       "    }\n",
       "\n",
       "    .dataframe tbody tr th {\n",
       "        vertical-align: top;\n",
       "    }\n",
       "\n",
       "    .dataframe thead th {\n",
       "        text-align: right;\n",
       "    }\n",
       "</style>\n",
       "<table border=\"1\" class=\"dataframe\">\n",
       "  <thead>\n",
       "    <tr style=\"text-align: right;\">\n",
       "      <th></th>\n",
       "      <th>datetime</th>\n",
       "      <th>season</th>\n",
       "      <th>holiday</th>\n",
       "      <th>workingday</th>\n",
       "      <th>weather</th>\n",
       "      <th>temp</th>\n",
       "      <th>atemp</th>\n",
       "      <th>humidity</th>\n",
       "      <th>windspeed</th>\n",
       "      <th>casual</th>\n",
       "      <th>registered</th>\n",
       "      <th>count</th>\n",
       "    </tr>\n",
       "  </thead>\n",
       "  <tbody>\n",
       "    <tr>\n",
       "      <th>0</th>\n",
       "      <td>2011-01-01 00:00:00</td>\n",
       "      <td>1</td>\n",
       "      <td>0</td>\n",
       "      <td>0</td>\n",
       "      <td>1</td>\n",
       "      <td>9.84</td>\n",
       "      <td>14.39</td>\n",
       "      <td>81</td>\n",
       "      <td>0.0</td>\n",
       "      <td>3</td>\n",
       "      <td>13</td>\n",
       "      <td>16</td>\n",
       "    </tr>\n",
       "    <tr>\n",
       "      <th>1</th>\n",
       "      <td>2011-01-01 01:00:00</td>\n",
       "      <td>1</td>\n",
       "      <td>0</td>\n",
       "      <td>0</td>\n",
       "      <td>1</td>\n",
       "      <td>9.02</td>\n",
       "      <td>13.63</td>\n",
       "      <td>80</td>\n",
       "      <td>0.0</td>\n",
       "      <td>8</td>\n",
       "      <td>32</td>\n",
       "      <td>40</td>\n",
       "    </tr>\n",
       "    <tr>\n",
       "      <th>2</th>\n",
       "      <td>2011-01-01 02:00:00</td>\n",
       "      <td>1</td>\n",
       "      <td>0</td>\n",
       "      <td>0</td>\n",
       "      <td>1</td>\n",
       "      <td>9.02</td>\n",
       "      <td>13.63</td>\n",
       "      <td>80</td>\n",
       "      <td>0.0</td>\n",
       "      <td>5</td>\n",
       "      <td>27</td>\n",
       "      <td>32</td>\n",
       "    </tr>\n",
       "    <tr>\n",
       "      <th>3</th>\n",
       "      <td>2011-01-01 03:00:00</td>\n",
       "      <td>1</td>\n",
       "      <td>0</td>\n",
       "      <td>0</td>\n",
       "      <td>1</td>\n",
       "      <td>9.84</td>\n",
       "      <td>14.39</td>\n",
       "      <td>75</td>\n",
       "      <td>0.0</td>\n",
       "      <td>3</td>\n",
       "      <td>10</td>\n",
       "      <td>13</td>\n",
       "    </tr>\n",
       "    <tr>\n",
       "      <th>4</th>\n",
       "      <td>2011-01-01 04:00:00</td>\n",
       "      <td>1</td>\n",
       "      <td>0</td>\n",
       "      <td>0</td>\n",
       "      <td>1</td>\n",
       "      <td>9.84</td>\n",
       "      <td>14.39</td>\n",
       "      <td>75</td>\n",
       "      <td>0.0</td>\n",
       "      <td>0</td>\n",
       "      <td>1</td>\n",
       "      <td>1</td>\n",
       "    </tr>\n",
       "    <tr>\n",
       "      <th>5</th>\n",
       "      <td>2011-01-01 05:00:00</td>\n",
       "      <td>1</td>\n",
       "      <td>0</td>\n",
       "      <td>0</td>\n",
       "      <td>2</td>\n",
       "      <td>9.84</td>\n",
       "      <td>12.88</td>\n",
       "      <td>75</td>\n",
       "      <td>6.0</td>\n",
       "      <td>0</td>\n",
       "      <td>1</td>\n",
       "      <td>1</td>\n",
       "    </tr>\n",
       "    <tr>\n",
       "      <th>6</th>\n",
       "      <td>2011-01-01 06:00:00</td>\n",
       "      <td>1</td>\n",
       "      <td>0</td>\n",
       "      <td>0</td>\n",
       "      <td>1</td>\n",
       "      <td>9.02</td>\n",
       "      <td>13.63</td>\n",
       "      <td>80</td>\n",
       "      <td>0.0</td>\n",
       "      <td>2</td>\n",
       "      <td>0</td>\n",
       "      <td>2</td>\n",
       "    </tr>\n",
       "    <tr>\n",
       "      <th>7</th>\n",
       "      <td>2011-01-01 07:00:00</td>\n",
       "      <td>1</td>\n",
       "      <td>0</td>\n",
       "      <td>0</td>\n",
       "      <td>1</td>\n",
       "      <td>8.20</td>\n",
       "      <td>12.88</td>\n",
       "      <td>86</td>\n",
       "      <td>0.0</td>\n",
       "      <td>1</td>\n",
       "      <td>2</td>\n",
       "      <td>3</td>\n",
       "    </tr>\n",
       "    <tr>\n",
       "      <th>8</th>\n",
       "      <td>2011-01-01 08:00:00</td>\n",
       "      <td>1</td>\n",
       "      <td>0</td>\n",
       "      <td>0</td>\n",
       "      <td>1</td>\n",
       "      <td>9.84</td>\n",
       "      <td>14.39</td>\n",
       "      <td>75</td>\n",
       "      <td>0.0</td>\n",
       "      <td>1</td>\n",
       "      <td>7</td>\n",
       "      <td>8</td>\n",
       "    </tr>\n",
       "    <tr>\n",
       "      <th>9</th>\n",
       "      <td>2011-01-01 09:00:00</td>\n",
       "      <td>1</td>\n",
       "      <td>0</td>\n",
       "      <td>0</td>\n",
       "      <td>1</td>\n",
       "      <td>13.12</td>\n",
       "      <td>17.43</td>\n",
       "      <td>76</td>\n",
       "      <td>0.0</td>\n",
       "      <td>8</td>\n",
       "      <td>6</td>\n",
       "      <td>14</td>\n",
       "    </tr>\n",
       "  </tbody>\n",
       "</table>\n",
       "</div>"
      ],
      "text/plain": [
       "             datetime  season  holiday  workingday  weather   temp  atemp  \\\n",
       "0 2011-01-01 00:00:00       1        0           0        1   9.84  14.39   \n",
       "1 2011-01-01 01:00:00       1        0           0        1   9.02  13.63   \n",
       "2 2011-01-01 02:00:00       1        0           0        1   9.02  13.63   \n",
       "3 2011-01-01 03:00:00       1        0           0        1   9.84  14.39   \n",
       "4 2011-01-01 04:00:00       1        0           0        1   9.84  14.39   \n",
       "5 2011-01-01 05:00:00       1        0           0        2   9.84  12.88   \n",
       "6 2011-01-01 06:00:00       1        0           0        1   9.02  13.63   \n",
       "7 2011-01-01 07:00:00       1        0           0        1   8.20  12.88   \n",
       "8 2011-01-01 08:00:00       1        0           0        1   9.84  14.39   \n",
       "9 2011-01-01 09:00:00       1        0           0        1  13.12  17.43   \n",
       "\n",
       "   humidity  windspeed  casual  registered  count  \n",
       "0        81        0.0       3          13     16  \n",
       "1        80        0.0       8          32     40  \n",
       "2        80        0.0       5          27     32  \n",
       "3        75        0.0       3          10     13  \n",
       "4        75        0.0       0           1      1  \n",
       "5        75        6.0       0           1      1  \n",
       "6        80        0.0       2           0      2  \n",
       "7        86        0.0       1           2      3  \n",
       "8        75        0.0       1           7      8  \n",
       "9        76        0.0       8           6     14  "
      ]
     },
     "execution_count": 224,
     "metadata": {},
     "output_type": "execute_result"
    }
   ],
   "source": [
    "dataset.head(10)"
   ]
  },
  {
   "cell_type": "markdown",
   "metadata": {},
   "source": [
    "### Data Fields\n",
    "<br>\n",
    "**datetime** - hourly date + timestamp  \n",
    "**season** -  1 = spring, 2 = summer, 3 = fall, 4 = winter \n",
    "<br>\n",
    "**holiday** - whether the day is considered a holidayr\n",
    "<br>\n",
    "**workingday** - whether the day is neither a weekend nor holiday\n",
    "<br>\n",
    "**weather**\n",
    "1. : Clear, Few clouds, Partly cloudy, Partly cloudy \n",
    "* : Mist + Cloudy, Mist + Broken clouds, Mist + Few clouds, Mist \n",
    "* : Light Snow, Light Rain + Thunderstorm + Scattered clouds, Light Rain + Scattered clouds \n",
    "* : Heavy Rain + Ice Pallets + Thunderstorm + Mist, Snow + Fog \n",
    "\n",
    "\n",
    "\n",
    "**temp** - temperature in Celsius\n",
    "<br>\n",
    "**atemp** - \"feels like\" temperature in Celsius\n",
    "<br>\n",
    "**humidity** - relative humidity\n",
    "<br>\n",
    "**windspeed** - wind speed\n",
    "<br>\n",
    "**casual** - number of non-registered user rentals initiated\n",
    "<br>\n",
    "**registered** - number of registered user rentals initiated\n",
    "<br>\n",
    "**count** - number of total rentals"
   ]
  },
  {
   "cell_type": "code",
   "execution_count": 121,
   "metadata": {},
   "outputs": [
    {
     "name": "stdout",
     "output_type": "stream",
     "text": [
      "(10886, 12)\n"
     ]
    }
   ],
   "source": [
    "print(dataset.shape)"
   ]
  },
  {
   "cell_type": "markdown",
   "metadata": {},
   "source": [
    "# Descriptions of data"
   ]
  },
  {
   "cell_type": "code",
   "execution_count": 122,
   "metadata": {},
   "outputs": [
    {
     "name": "stdout",
     "output_type": "stream",
     "text": [
      "       datetime    season   holiday  workingday   weather      temp     atemp  \\\n",
      "count  10886.00  10886.00  10886.00    10886.00  10886.00  10886.00  10886.00   \n",
      "mean      11.54      2.51      0.03        0.68      1.42     20.23     23.66   \n",
      "std        6.92      1.12      0.17        0.47      0.63      7.79      8.47   \n",
      "min        0.00      1.00      0.00        0.00      1.00      0.82      0.76   \n",
      "25%        6.00      2.00      0.00        0.00      1.00     13.94     16.66   \n",
      "50%       12.00      3.00      0.00        1.00      1.00     20.50     24.24   \n",
      "75%       18.00      4.00      0.00        1.00      2.00     26.24     31.06   \n",
      "max       23.00      4.00      1.00        1.00      4.00     41.00     45.45   \n",
      "\n",
      "       humidity  windspeed    casual  registered     count  \n",
      "count  10886.00   10886.00  10886.00    10886.00  10886.00  \n",
      "mean      61.89      12.80     36.02      155.55    191.57  \n",
      "std       19.25       8.16     49.96      151.04    181.14  \n",
      "min        0.00       0.00      0.00        0.00      1.00  \n",
      "25%       47.00       7.00      4.00       36.00     42.00  \n",
      "50%       62.00      13.00     17.00      118.00    145.00  \n",
      "75%       77.00      17.00     49.00      222.00    284.00  \n",
      "max      100.00      57.00    367.00      886.00    977.00  \n"
     ]
    }
   ],
   "source": [
    "print(dataset.describe())"
   ]
  },
  {
   "cell_type": "markdown",
   "metadata": {},
   "source": [
    "There is no null values. Data look corect (there is not strange values like negative values or to low or to hight numbers)"
   ]
  },
  {
   "cell_type": "code",
   "execution_count": 123,
   "metadata": {},
   "outputs": [
    {
     "name": "stdout",
     "output_type": "stream",
     "text": [
      "            count     sum\n",
      "count                    \n",
      "(0, 100]     4328  155193\n",
      "(100, 200]   2356  349165\n",
      "(200, 300]   1720  423964\n",
      "(300, 400]   1039  361148\n",
      "(400, 500]    646  289638\n",
      "(500, 600]    385  211001\n",
      "(600, 700]    216  140012\n",
      "(700, 800]    110   81915\n",
      "(800, 900]     78   65891\n"
     ]
    }
   ],
   "source": [
    "bins = pd.cut(dataset['count'], [0, 100, 200,300,400,500,600,700,800,900])\n",
    "groups=dataset.groupby(bins)['count'].agg(['count', 'sum'])\n",
    "print(groups)"
   ]
  },
  {
   "cell_type": "code",
   "execution_count": 124,
   "metadata": {},
   "outputs": [
    {
     "data": {
      "image/png": "[encoded data removed]",
      "text/plain": [
       "<Figure size 720x720 with 12 Axes>"
      ]
     },
     "metadata": {},
     "output_type": "display_data"
    }
   ],
   "source": [
    "dataset.hist()\n",
    "plt.show()"
   ]
  },
  {
   "cell_type": "code",
   "execution_count": 125,
   "metadata": {},
   "outputs": [
    {
     "data": {
      "image/png": "[encoded data removed]",
      "text/plain": [
       "<Figure size 720x720 with 16 Axes>"
      ]
     },
     "metadata": {},
     "output_type": "display_data"
    }
   ],
   "source": [
    "dataset.plot(kind='density',subplots=True,layout=(4,4),sharex=False,sharey=False,legend=True,fontsize=1)\n",
    "plt.show()"
   ]
  },
  {
   "cell_type": "code",
   "execution_count": 126,
   "metadata": {},
   "outputs": [
    {
     "data": {
      "image/png": "[encoded data removed]",
      "text/plain": [
       "<Figure size 720x720 with 144 Axes>"
      ]
     },
     "metadata": {},
     "output_type": "display_data"
    }
   ],
   "source": [
    "pd.plotting.scatter_matrix(dataset)\n",
    "plt.show()"
   ]
  },
  {
   "cell_type": "code",
   "execution_count": 127,
   "metadata": {},
   "outputs": [
    {
     "name": "stdout",
     "output_type": "stream",
     "text": [
      "            datetime    season   holiday  workingday   weather      temp  \\\n",
      "datetime    1.00e+00 -6.55e-03 -3.54e-04    2.78e-03 -2.27e-02  1.45e-01   \n",
      "season     -6.55e-03  1.00e+00  2.94e-02   -8.13e-03  8.88e-03  2.59e-01   \n",
      "holiday    -3.54e-04  2.94e-02  1.00e+00   -2.50e-01 -7.07e-03  2.95e-04   \n",
      "workingday  2.78e-03 -8.13e-03 -2.50e-01    1.00e+00  3.38e-02  3.00e-02   \n",
      "weather    -2.27e-02  8.88e-03 -7.07e-03    3.38e-02  1.00e+00 -5.50e-02   \n",
      "temp        1.45e-01  2.59e-01  2.95e-04    3.00e-02 -5.50e-02  1.00e+00   \n",
      "atemp       1.40e-01  2.65e-01 -5.21e-03    2.47e-02 -5.54e-02  9.85e-01   \n",
      "humidity   -2.78e-01  1.91e-01  1.93e-03   -1.09e-02  4.06e-01 -6.49e-02   \n",
      "windspeed   1.47e-01 -1.47e-01  8.41e-03    1.34e-02  7.26e-03 -1.79e-02   \n",
      "casual      3.02e-01  9.68e-02  4.38e-02   -3.19e-01 -1.36e-01  4.67e-01   \n",
      "registered  3.81e-01  1.64e-01 -2.10e-02    1.19e-01 -1.09e-01  3.19e-01   \n",
      "count       4.01e-01  1.63e-01 -5.39e-03    1.16e-02 -1.29e-01  3.94e-01   \n",
      "\n",
      "               atemp  humidity  windspeed  casual  registered     count  \n",
      "datetime    1.40e-01 -2.78e-01   1.47e-01    0.30        0.38  4.01e-01  \n",
      "season      2.65e-01  1.91e-01  -1.47e-01    0.10        0.16  1.63e-01  \n",
      "holiday    -5.21e-03  1.93e-03   8.41e-03    0.04       -0.02 -5.39e-03  \n",
      "workingday  2.47e-02 -1.09e-02   1.34e-02   -0.32        0.12  1.16e-02  \n",
      "weather    -5.54e-02  4.06e-01   7.26e-03   -0.14       -0.11 -1.29e-01  \n",
      "temp        9.85e-01 -6.49e-02  -1.79e-02    0.47        0.32  3.94e-01  \n",
      "atemp       1.00e+00 -4.35e-02  -5.75e-02    0.46        0.31  3.90e-01  \n",
      "humidity   -4.35e-02  1.00e+00  -3.19e-01   -0.35       -0.27 -3.17e-01  \n",
      "windspeed  -5.75e-02 -3.19e-01   1.00e+00    0.09        0.09  1.01e-01  \n",
      "casual      4.62e-01 -3.48e-01   9.23e-02    1.00        0.50  6.90e-01  \n",
      "registered  3.15e-01 -2.65e-01   9.11e-02    0.50        1.00  9.71e-01  \n",
      "count       3.90e-01 -3.17e-01   1.01e-01    0.69        0.97  1.00e+00  \n"
     ]
    }
   ],
   "source": [
    "pd.set_option('precision',2)\n",
    "print(dataset.corr(method='pearson'))"
   ]
  },
  {
   "cell_type": "code",
   "execution_count": 128,
   "metadata": {},
   "outputs": [
    {
     "data": {
      "image/png": "[encoded data removed]",
      "text/plain": [
       "<Figure size 720x720 with 16 Axes>"
      ]
     },
     "metadata": {},
     "output_type": "display_data"
    }
   ],
   "source": [
    "dataset.plot(kind='box',subplots=True,layout=(4,4),sharex=False,sharey=False)\n",
    "plt.show()"
   ]
  },
  {
   "cell_type": "markdown",
   "metadata": {},
   "source": [
    "# Prepare data"
   ]
  },
  {
   "cell_type": "code",
   "execution_count": 227,
   "metadata": {},
   "outputs": [
    {
     "data": {
      "text/html": [
       "<div>\n",
       "<style scoped>\n",
       "    .dataframe tbody tr th:only-of-type {\n",
       "        vertical-align: middle;\n",
       "    }\n",
       "\n",
       "    .dataframe tbody tr th {\n",
       "        vertical-align: top;\n",
       "    }\n",
       "\n",
       "    .dataframe thead th {\n",
       "        text-align: right;\n",
       "    }\n",
       "</style>\n",
       "<table border=\"1\" class=\"dataframe\">\n",
       "  <thead>\n",
       "    <tr style=\"text-align: right;\">\n",
       "      <th></th>\n",
       "      <th>datetime</th>\n",
       "      <th>season</th>\n",
       "      <th>holiday</th>\n",
       "      <th>workingday</th>\n",
       "      <th>weather</th>\n",
       "      <th>temp</th>\n",
       "      <th>atemp</th>\n",
       "      <th>humidity</th>\n",
       "      <th>windspeed</th>\n",
       "      <th>count</th>\n",
       "    </tr>\n",
       "  </thead>\n",
       "  <tbody>\n",
       "    <tr>\n",
       "      <th>0</th>\n",
       "      <td>0</td>\n",
       "      <td>1</td>\n",
       "      <td>0</td>\n",
       "      <td>0</td>\n",
       "      <td>1</td>\n",
       "      <td>9.84</td>\n",
       "      <td>14.39</td>\n",
       "      <td>81</td>\n",
       "      <td>0.0</td>\n",
       "      <td>16</td>\n",
       "    </tr>\n",
       "    <tr>\n",
       "      <th>1</th>\n",
       "      <td>1</td>\n",
       "      <td>1</td>\n",
       "      <td>0</td>\n",
       "      <td>0</td>\n",
       "      <td>1</td>\n",
       "      <td>9.02</td>\n",
       "      <td>13.63</td>\n",
       "      <td>80</td>\n",
       "      <td>0.0</td>\n",
       "      <td>40</td>\n",
       "    </tr>\n",
       "    <tr>\n",
       "      <th>2</th>\n",
       "      <td>2</td>\n",
       "      <td>1</td>\n",
       "      <td>0</td>\n",
       "      <td>0</td>\n",
       "      <td>1</td>\n",
       "      <td>9.02</td>\n",
       "      <td>13.63</td>\n",
       "      <td>80</td>\n",
       "      <td>0.0</td>\n",
       "      <td>32</td>\n",
       "    </tr>\n",
       "    <tr>\n",
       "      <th>3</th>\n",
       "      <td>3</td>\n",
       "      <td>1</td>\n",
       "      <td>0</td>\n",
       "      <td>0</td>\n",
       "      <td>1</td>\n",
       "      <td>9.84</td>\n",
       "      <td>14.39</td>\n",
       "      <td>75</td>\n",
       "      <td>0.0</td>\n",
       "      <td>13</td>\n",
       "    </tr>\n",
       "    <tr>\n",
       "      <th>4</th>\n",
       "      <td>4</td>\n",
       "      <td>1</td>\n",
       "      <td>0</td>\n",
       "      <td>0</td>\n",
       "      <td>1</td>\n",
       "      <td>9.84</td>\n",
       "      <td>14.39</td>\n",
       "      <td>75</td>\n",
       "      <td>0.0</td>\n",
       "      <td>1</td>\n",
       "    </tr>\n",
       "  </tbody>\n",
       "</table>\n",
       "</div>"
      ],
      "text/plain": [
       "   datetime  season  holiday  workingday  weather  temp  atemp  humidity  \\\n",
       "0         0       1        0           0        1  9.84  14.39        81   \n",
       "1         1       1        0           0        1  9.02  13.63        80   \n",
       "2         2       1        0           0        1  9.02  13.63        80   \n",
       "3         3       1        0           0        1  9.84  14.39        75   \n",
       "4         4       1        0           0        1  9.84  14.39        75   \n",
       "\n",
       "   windspeed  count  \n",
       "0        0.0     16  \n",
       "1        0.0     40  \n",
       "2        0.0     32  \n",
       "3        0.0     13  \n",
       "4        0.0      1  "
      ]
     },
     "execution_count": 227,
     "metadata": {},
     "output_type": "execute_result"
    }
   ],
   "source": [
    "dataset.head()"
   ]
  },
  {
   "cell_type": "code",
   "execution_count": 226,
   "metadata": {
    "scrolled": true
   },
   "outputs": [],
   "source": [
    "dataset['datetime'] = dataset['datetime'].dt.hour\n",
    "dataset=dataset.drop(columns=['registered','casual'])"
   ]
  },
  {
   "cell_type": "code",
   "execution_count": 185,
   "metadata": {
    "scrolled": true
   },
   "outputs": [
    {
     "ename": "KeyError",
     "evalue": "'count'",
     "output_type": "error",
     "traceback": [
      "\u001b[0;31m---------------------------------------------------------------------------\u001b[0m",
      "\u001b[0;31mKeyError\u001b[0m                                  Traceback (most recent call last)",
      "\u001b[0;32m~/anaconda3/lib/python3.6/site-packages/pandas/core/indexes/base.py\u001b[0m in \u001b[0;36mget_loc\u001b[0;34m(self, key, method, tolerance)\u001b[0m\n\u001b[1;32m   3062\u001b[0m             \u001b[0;32mtry\u001b[0m\u001b[0;34m:\u001b[0m\u001b[0;34m\u001b[0m\u001b[0m\n\u001b[0;32m-> 3063\u001b[0;31m                 \u001b[0;32mreturn\u001b[0m \u001b[0mself\u001b[0m\u001b[0;34m.\u001b[0m\u001b[0m_engine\u001b[0m\u001b[0;34m.\u001b[0m\u001b[0mget_loc\u001b[0m\u001b[0;34m(\u001b[0m\u001b[0mkey\u001b[0m\u001b[0;34m)\u001b[0m\u001b[0;34m\u001b[0m\u001b[0m\n\u001b[0m\u001b[1;32m   3064\u001b[0m             \u001b[0;32mexcept\u001b[0m \u001b[0mKeyError\u001b[0m\u001b[0;34m:\u001b[0m\u001b[0;34m\u001b[0m\u001b[0m\n",
      "\u001b[0;32mpandas/_libs/index.pyx\u001b[0m in \u001b[0;36mpandas._libs.index.IndexEngine.get_loc\u001b[0;34m()\u001b[0m\n",
      "\u001b[0;32mpandas/_libs/index.pyx\u001b[0m in \u001b[0;36mpandas._libs.index.IndexEngine.get_loc\u001b[0;34m()\u001b[0m\n",
      "\u001b[0;32mpandas/_libs/hashtable_class_helper.pxi\u001b[0m in \u001b[0;36mpandas._libs.hashtable.PyObjectHashTable.get_item\u001b[0;34m()\u001b[0m\n",
      "\u001b[0;32mpandas/_libs/hashtable_class_helper.pxi\u001b[0m in \u001b[0;36mpandas._libs.hashtable.PyObjectHashTable.get_item\u001b[0;34m()\u001b[0m\n",
      "\u001b[0;31mKeyError\u001b[0m: 'count'",
      "\nDuring handling of the above exception, another exception occurred:\n",
      "\u001b[0;31mKeyError\u001b[0m                                  Traceback (most recent call last)",
      "\u001b[0;32m<ipython-input-185-bac61f405ec3>\u001b[0m in \u001b[0;36m<module>\u001b[0;34m()\u001b[0m\n\u001b[0;32m----> 1\u001b[0;31m \u001b[0;32mdel\u001b[0m \u001b[0mdataset\u001b[0m\u001b[0;34m[\u001b[0m\u001b[0;34m'count'\u001b[0m\u001b[0;34m]\u001b[0m\u001b[0;34m\u001b[0m\u001b[0m\n\u001b[0m",
      "\u001b[0;32m~/anaconda3/lib/python3.6/site-packages/pandas/core/generic.py\u001b[0m in \u001b[0;36m__delitem__\u001b[0;34m(self, key)\u001b[0m\n\u001b[1;32m   2738\u001b[0m             \u001b[0;31m# there was no match, this call should raise the appropriate\u001b[0m\u001b[0;34m\u001b[0m\u001b[0;34m\u001b[0m\u001b[0m\n\u001b[1;32m   2739\u001b[0m             \u001b[0;31m# exception:\u001b[0m\u001b[0;34m\u001b[0m\u001b[0;34m\u001b[0m\u001b[0m\n\u001b[0;32m-> 2740\u001b[0;31m             \u001b[0mself\u001b[0m\u001b[0;34m.\u001b[0m\u001b[0m_data\u001b[0m\u001b[0;34m.\u001b[0m\u001b[0mdelete\u001b[0m\u001b[0;34m(\u001b[0m\u001b[0mkey\u001b[0m\u001b[0;34m)\u001b[0m\u001b[0;34m\u001b[0m\u001b[0m\n\u001b[0m\u001b[1;32m   2741\u001b[0m \u001b[0;34m\u001b[0m\u001b[0m\n\u001b[1;32m   2742\u001b[0m         \u001b[0;31m# delete from the caches\u001b[0m\u001b[0;34m\u001b[0m\u001b[0;34m\u001b[0m\u001b[0m\n",
      "\u001b[0;32m~/anaconda3/lib/python3.6/site-packages/pandas/core/internals.py\u001b[0m in \u001b[0;36mdelete\u001b[0;34m(self, item)\u001b[0m\n\u001b[1;32m   4172\u001b[0m         \u001b[0mDelete\u001b[0m \u001b[0mselected\u001b[0m \u001b[0mitem\u001b[0m \u001b[0;34m(\u001b[0m\u001b[0mitems\u001b[0m \u001b[0;32mif\u001b[0m \u001b[0mnon\u001b[0m\u001b[0;34m-\u001b[0m\u001b[0munique\u001b[0m\u001b[0;34m)\u001b[0m \u001b[0;32min\u001b[0m\u001b[0;34m-\u001b[0m\u001b[0mplace\u001b[0m\u001b[0;34m.\u001b[0m\u001b[0;34m\u001b[0m\u001b[0m\n\u001b[1;32m   4173\u001b[0m         \"\"\"\n\u001b[0;32m-> 4174\u001b[0;31m         \u001b[0mindexer\u001b[0m \u001b[0;34m=\u001b[0m \u001b[0mself\u001b[0m\u001b[0;34m.\u001b[0m\u001b[0mitems\u001b[0m\u001b[0;34m.\u001b[0m\u001b[0mget_loc\u001b[0m\u001b[0;34m(\u001b[0m\u001b[0mitem\u001b[0m\u001b[0;34m)\u001b[0m\u001b[0;34m\u001b[0m\u001b[0m\n\u001b[0m\u001b[1;32m   4175\u001b[0m \u001b[0;34m\u001b[0m\u001b[0m\n\u001b[1;32m   4176\u001b[0m         \u001b[0mis_deleted\u001b[0m \u001b[0;34m=\u001b[0m \u001b[0mnp\u001b[0m\u001b[0;34m.\u001b[0m\u001b[0mzeros\u001b[0m\u001b[0;34m(\u001b[0m\u001b[0mself\u001b[0m\u001b[0;34m.\u001b[0m\u001b[0mshape\u001b[0m\u001b[0;34m[\u001b[0m\u001b[0;36m0\u001b[0m\u001b[0;34m]\u001b[0m\u001b[0;34m,\u001b[0m \u001b[0mdtype\u001b[0m\u001b[0;34m=\u001b[0m\u001b[0mnp\u001b[0m\u001b[0;34m.\u001b[0m\u001b[0mbool_\u001b[0m\u001b[0;34m)\u001b[0m\u001b[0;34m\u001b[0m\u001b[0m\n",
      "\u001b[0;32m~/anaconda3/lib/python3.6/site-packages/pandas/core/indexes/base.py\u001b[0m in \u001b[0;36mget_loc\u001b[0;34m(self, key, method, tolerance)\u001b[0m\n\u001b[1;32m   3063\u001b[0m                 \u001b[0;32mreturn\u001b[0m \u001b[0mself\u001b[0m\u001b[0;34m.\u001b[0m\u001b[0m_engine\u001b[0m\u001b[0;34m.\u001b[0m\u001b[0mget_loc\u001b[0m\u001b[0;34m(\u001b[0m\u001b[0mkey\u001b[0m\u001b[0;34m)\u001b[0m\u001b[0;34m\u001b[0m\u001b[0m\n\u001b[1;32m   3064\u001b[0m             \u001b[0;32mexcept\u001b[0m \u001b[0mKeyError\u001b[0m\u001b[0;34m:\u001b[0m\u001b[0;34m\u001b[0m\u001b[0m\n\u001b[0;32m-> 3065\u001b[0;31m                 \u001b[0;32mreturn\u001b[0m \u001b[0mself\u001b[0m\u001b[0;34m.\u001b[0m\u001b[0m_engine\u001b[0m\u001b[0;34m.\u001b[0m\u001b[0mget_loc\u001b[0m\u001b[0;34m(\u001b[0m\u001b[0mself\u001b[0m\u001b[0;34m.\u001b[0m\u001b[0m_maybe_cast_indexer\u001b[0m\u001b[0;34m(\u001b[0m\u001b[0mkey\u001b[0m\u001b[0;34m)\u001b[0m\u001b[0;34m)\u001b[0m\u001b[0;34m\u001b[0m\u001b[0m\n\u001b[0m\u001b[1;32m   3066\u001b[0m \u001b[0;34m\u001b[0m\u001b[0m\n\u001b[1;32m   3067\u001b[0m         \u001b[0mindexer\u001b[0m \u001b[0;34m=\u001b[0m \u001b[0mself\u001b[0m\u001b[0;34m.\u001b[0m\u001b[0mget_indexer\u001b[0m\u001b[0;34m(\u001b[0m\u001b[0;34m[\u001b[0m\u001b[0mkey\u001b[0m\u001b[0;34m]\u001b[0m\u001b[0;34m,\u001b[0m \u001b[0mmethod\u001b[0m\u001b[0;34m=\u001b[0m\u001b[0mmethod\u001b[0m\u001b[0;34m,\u001b[0m \u001b[0mtolerance\u001b[0m\u001b[0;34m=\u001b[0m\u001b[0mtolerance\u001b[0m\u001b[0;34m)\u001b[0m\u001b[0;34m\u001b[0m\u001b[0m\n",
      "\u001b[0;32mpandas/_libs/index.pyx\u001b[0m in \u001b[0;36mpandas._libs.index.IndexEngine.get_loc\u001b[0;34m()\u001b[0m\n",
      "\u001b[0;32mpandas/_libs/index.pyx\u001b[0m in \u001b[0;36mpandas._libs.index.IndexEngine.get_loc\u001b[0;34m()\u001b[0m\n",
      "\u001b[0;32mpandas/_libs/hashtable_class_helper.pxi\u001b[0m in \u001b[0;36mpandas._libs.hashtable.PyObjectHashTable.get_item\u001b[0;34m()\u001b[0m\n",
      "\u001b[0;32mpandas/_libs/hashtable_class_helper.pxi\u001b[0m in \u001b[0;36mpandas._libs.hashtable.PyObjectHashTable.get_item\u001b[0;34m()\u001b[0m\n",
      "\u001b[0;31mKeyError\u001b[0m: 'count'"
     ]
    }
   ],
   "source": []
  },
  {
   "cell_type": "markdown",
   "metadata": {},
   "source": [
    "# Split-out validation dataset"
   ]
  },
  {
   "cell_type": "code",
   "execution_count": 228,
   "metadata": {},
   "outputs": [],
   "source": [
    "testset=read_csv('sampleSubmission.csv')"
   ]
  },
  {
   "cell_type": "code",
   "execution_count": 229,
   "metadata": {},
   "outputs": [],
   "source": [
    "array=dataset.values"
   ]
  },
  {
   "cell_type": "code",
   "execution_count": 230,
   "metadata": {},
   "outputs": [
    {
     "data": {
      "text/plain": [
       "array([[  0.    ,   1.    ,   0.    , ...,  81.    ,   0.    ,  16.    ],\n",
       "       [  1.    ,   1.    ,   0.    , ...,  80.    ,   0.    ,  40.    ],\n",
       "       [  2.    ,   1.    ,   0.    , ...,  80.    ,   0.    ,  32.    ],\n",
       "       ...,\n",
       "       [ 21.    ,   4.    ,   0.    , ...,  61.    ,  15.0013, 168.    ],\n",
       "       [ 22.    ,   4.    ,   0.    , ...,  61.    ,   6.0032, 129.    ],\n",
       "       [ 23.    ,   4.    ,   0.    , ...,  66.    ,   8.9981,  88.    ]])"
      ]
     },
     "execution_count": 230,
     "metadata": {},
     "output_type": "execute_result"
    }
   ],
   "source": [
    "array"
   ]
  },
  {
   "cell_type": "code",
   "execution_count": 231,
   "metadata": {},
   "outputs": [],
   "source": [
    "X=array[:,:-1]\n",
    "Y=array[:,-1]\n",
    "validation_size=0.2\n",
    "seed=7\n",
    "X_train,X_validation,Y_train,Y_validation = train_test_split(X,Y,test_size=validation_size,random_state=seed)"
   ]
  },
  {
   "cell_type": "code",
   "execution_count": 232,
   "metadata": {},
   "outputs": [
    {
     "data": {
      "text/plain": [
       "(8708, 9)"
      ]
     },
     "execution_count": 232,
     "metadata": {},
     "output_type": "execute_result"
    }
   ],
   "source": [
    "X_train.shape"
   ]
  },
  {
   "cell_type": "code",
   "execution_count": 233,
   "metadata": {},
   "outputs": [
    {
     "data": {
      "text/plain": [
       "(8708,)"
      ]
     },
     "execution_count": 233,
     "metadata": {},
     "output_type": "execute_result"
    }
   ],
   "source": [
    "Y_train.shape"
   ]
  },
  {
   "cell_type": "code",
   "execution_count": 234,
   "metadata": {},
   "outputs": [
    {
     "data": {
      "text/plain": [
       "(10886, 9)"
      ]
     },
     "execution_count": 234,
     "metadata": {},
     "output_type": "execute_result"
    }
   ],
   "source": [
    "X.shape"
   ]
  },
  {
   "cell_type": "code",
   "execution_count": 235,
   "metadata": {},
   "outputs": [
    {
     "data": {
      "text/plain": [
       "(10886,)"
      ]
     },
     "execution_count": 235,
     "metadata": {},
     "output_type": "execute_result"
    }
   ],
   "source": [
    "Y.shape"
   ]
  },
  {
   "cell_type": "code",
   "execution_count": 236,
   "metadata": {},
   "outputs": [
    {
     "data": {
      "text/plain": [
       "array([ 16.,  40.,  32., ..., 168., 129.,  88.])"
      ]
     },
     "execution_count": 236,
     "metadata": {},
     "output_type": "execute_result"
    }
   ],
   "source": [
    "Y"
   ]
  },
  {
   "cell_type": "code",
   "execution_count": null,
   "metadata": {},
   "outputs": [],
   "source": []
  },
  {
   "cell_type": "code",
   "execution_count": null,
   "metadata": {},
   "outputs": [],
   "source": []
  },
  {
   "cell_type": "markdown",
   "metadata": {},
   "source": [
    "# Test options and eveluation metric"
   ]
  },
  {
   "cell_type": "code",
   "execution_count": 237,
   "metadata": {},
   "outputs": [],
   "source": [
    "num_folds=10\n",
    "scoring='neg_mean_squared_error'"
   ]
  },
  {
   "cell_type": "markdown",
   "metadata": {},
   "source": [
    "# Spot-check algorithms"
   ]
  },
  {
   "cell_type": "code",
   "execution_count": 247,
   "metadata": {},
   "outputs": [],
   "source": [
    "models=[]\n",
    "models.append(('LR',LinearRegression()))\n",
    "models.append(('LASSO',Lasso()))\n",
    "models.append(('EN',ElasticNet()))\n",
    "models.append(('KNN',KNeighborsRegressor()))\n",
    "models.append(('CART',DecisionTreeRegressor()))\n",
    "models.append(('SVR',SVR()))"
   ]
  },
  {
   "cell_type": "markdown",
   "metadata": {},
   "source": [
    "# Evaluate models"
   ]
  },
  {
   "cell_type": "code",
   "execution_count": 248,
   "metadata": {},
   "outputs": [],
   "source": [
    "from sklearn.model_selection import cross_val_score\n",
    "from sklearn.model_selection import KFold"
   ]
  },
  {
   "cell_type": "code",
   "execution_count": 338,
   "metadata": {},
   "outputs": [
    {
     "name": "stdout",
     "output_type": "stream",
     "text": [
      "'CART': -6634.697807 (659.579895)\n"
     ]
    }
   ],
   "source": [
    "results=[]\n",
    "names=[]\n",
    "for name, model in models:\n",
    "    kfold=KFold(n_splits=num_folds,random_state=seed,shuffle=True)\n",
    "    cv_results=cross_val_score(model,X_train,Y_train,cv=kfold,scoring=scoring)\n",
    "    results.append(cv_results)\n",
    "    names.append(name)\n",
    "    message=\"%a: %f (%f)\" % (name,cv_results.mean(),cv_results.std())\n",
    "    print(message)"
   ]
  },
  {
   "cell_type": "code",
   "execution_count": 250,
   "metadata": {},
   "outputs": [
    {
     "data": {
      "image/png": "[encoded data removed]",
      "text/plain": [
       "<Figure size 720x720 with 1 Axes>"
      ]
     },
     "metadata": {},
     "output_type": "display_data"
    }
   ],
   "source": [
    "fig=plt.figure()\n",
    "fig.suptitle('Algorithm Comprasion')\n",
    "ax=fig.add_subplot(111)\n",
    "plt.boxplot(results)\n",
    "ax.set_xticklabels(names)\n",
    "plt.show()"
   ]
  },
  {
   "cell_type": "code",
   "execution_count": 256,
   "metadata": {},
   "outputs": [
    {
     "data": {
      "text/plain": [
       "DecisionTreeRegressor(criterion='mse', max_depth=None, max_features=None,\n",
       "           max_leaf_nodes=None, min_impurity_decrease=0.0,\n",
       "           min_impurity_split=None, min_samples_leaf=1,\n",
       "           min_samples_split=2, min_weight_fraction_leaf=0.0,\n",
       "           presort=False, random_state=None, splitter='best')"
      ]
     },
     "execution_count": 256,
     "metadata": {},
     "output_type": "execute_result"
    }
   ],
   "source": [
    "model=DecisionTreeRegressor()\n",
    "model.fit(X=X_train,y=Y_train)"
   ]
  },
  {
   "cell_type": "code",
   "execution_count": 257,
   "metadata": {},
   "outputs": [
    {
     "name": "stdout",
     "output_type": "stream",
     "text": [
      "8917.586776859504\n"
     ]
    }
   ],
   "source": [
    "predictions=model.predict(X_validation)\n",
    "print(mean_squared_error(Y_validation,predictions))"
   ]
  },
  {
   "cell_type": "code",
   "execution_count": 265,
   "metadata": {},
   "outputs": [],
   "source": [
    "from sklearn.metrics import mean_squared_error\n",
    "from sklearn.pipeline import Pipeline\n",
    "from sklearn.preprocessing import  StandardScaler"
   ]
  },
  {
   "cell_type": "code",
   "execution_count": 259,
   "metadata": {},
   "outputs": [
    {
     "data": {
      "text/plain": [
       "array([196., 130., 184., ...,  46.,  74.,  12.])"
      ]
     },
     "execution_count": 259,
     "metadata": {},
     "output_type": "execute_result"
    }
   ],
   "source": [
    "predictions"
   ]
  },
  {
   "cell_type": "code",
   "execution_count": 260,
   "metadata": {},
   "outputs": [
    {
     "data": {
      "text/plain": [
       "array([285., 138., 215., ...,  58.,  76.,   4.])"
      ]
     },
     "execution_count": 260,
     "metadata": {},
     "output_type": "execute_result"
    }
   ],
   "source": [
    "Y_validation"
   ]
  },
  {
   "cell_type": "code",
   "execution_count": 175,
   "metadata": {},
   "outputs": [
    {
     "data": {
      "text/html": [
       "<div>\n",
       "<style scoped>\n",
       "    .dataframe tbody tr th:only-of-type {\n",
       "        vertical-align: middle;\n",
       "    }\n",
       "\n",
       "    .dataframe tbody tr th {\n",
       "        vertical-align: top;\n",
       "    }\n",
       "\n",
       "    .dataframe thead th {\n",
       "        text-align: right;\n",
       "    }\n",
       "</style>\n",
       "<table border=\"1\" class=\"dataframe\">\n",
       "  <thead>\n",
       "    <tr style=\"text-align: right;\">\n",
       "      <th></th>\n",
       "      <th>datetime</th>\n",
       "      <th>season</th>\n",
       "      <th>holiday</th>\n",
       "      <th>workingday</th>\n",
       "      <th>weather</th>\n",
       "      <th>temp</th>\n",
       "      <th>atemp</th>\n",
       "      <th>humidity</th>\n",
       "      <th>windspeed</th>\n",
       "    </tr>\n",
       "  </thead>\n",
       "  <tbody>\n",
       "    <tr>\n",
       "      <th>0</th>\n",
       "      <td>2011-01-20 00:00:00</td>\n",
       "      <td>1</td>\n",
       "      <td>0</td>\n",
       "      <td>1</td>\n",
       "      <td>1</td>\n",
       "      <td>10.66</td>\n",
       "      <td>11.37</td>\n",
       "      <td>56</td>\n",
       "      <td>26.0</td>\n",
       "    </tr>\n",
       "    <tr>\n",
       "      <th>1</th>\n",
       "      <td>2011-01-20 01:00:00</td>\n",
       "      <td>1</td>\n",
       "      <td>0</td>\n",
       "      <td>1</td>\n",
       "      <td>1</td>\n",
       "      <td>10.66</td>\n",
       "      <td>13.63</td>\n",
       "      <td>56</td>\n",
       "      <td>0.0</td>\n",
       "    </tr>\n",
       "    <tr>\n",
       "      <th>2</th>\n",
       "      <td>2011-01-20 02:00:00</td>\n",
       "      <td>1</td>\n",
       "      <td>0</td>\n",
       "      <td>1</td>\n",
       "      <td>1</td>\n",
       "      <td>10.66</td>\n",
       "      <td>13.63</td>\n",
       "      <td>56</td>\n",
       "      <td>0.0</td>\n",
       "    </tr>\n",
       "    <tr>\n",
       "      <th>3</th>\n",
       "      <td>2011-01-20 03:00:00</td>\n",
       "      <td>1</td>\n",
       "      <td>0</td>\n",
       "      <td>1</td>\n",
       "      <td>1</td>\n",
       "      <td>10.66</td>\n",
       "      <td>12.88</td>\n",
       "      <td>56</td>\n",
       "      <td>11.0</td>\n",
       "    </tr>\n",
       "    <tr>\n",
       "      <th>4</th>\n",
       "      <td>2011-01-20 04:00:00</td>\n",
       "      <td>1</td>\n",
       "      <td>0</td>\n",
       "      <td>1</td>\n",
       "      <td>1</td>\n",
       "      <td>10.66</td>\n",
       "      <td>12.88</td>\n",
       "      <td>56</td>\n",
       "      <td>11.0</td>\n",
       "    </tr>\n",
       "  </tbody>\n",
       "</table>\n",
       "</div>"
      ],
      "text/plain": [
       "              datetime  season  holiday  workingday  weather   temp  atemp  \\\n",
       "0  2011-01-20 00:00:00       1        0           1        1  10.66  11.37   \n",
       "1  2011-01-20 01:00:00       1        0           1        1  10.66  13.63   \n",
       "2  2011-01-20 02:00:00       1        0           1        1  10.66  13.63   \n",
       "3  2011-01-20 03:00:00       1        0           1        1  10.66  12.88   \n",
       "4  2011-01-20 04:00:00       1        0           1        1  10.66  12.88   \n",
       "\n",
       "   humidity  windspeed  \n",
       "0        56       26.0  \n",
       "1        56        0.0  \n",
       "2        56        0.0  \n",
       "3        56       11.0  \n",
       "4        56       11.0  "
      ]
     },
     "execution_count": 175,
     "metadata": {},
     "output_type": "execute_result"
    }
   ],
   "source": [
    "\n",
    "\n",
    "testset=pd.read_csv('test.csv')\n",
    "testset.head()"
   ]
  },
  {
   "cell_type": "code",
   "execution_count": null,
   "metadata": {},
   "outputs": [],
   "source": []
  },
  {
   "cell_type": "markdown",
   "metadata": {},
   "source": [
    "This models dont look nice. We should standardize the data."
   ]
  },
  {
   "cell_type": "markdown",
   "metadata": {},
   "source": [
    "# Standardize the data"
   ]
  },
  {
   "cell_type": "code",
   "execution_count": 333,
   "metadata": {},
   "outputs": [
    {
     "name": "stdout",
     "output_type": "stream",
     "text": [
      "'ScaledLR': -21898.694250 (1049.588501)\n",
      "'ScaledLASSO': -21895.584944 (1053.275361)\n",
      "'ScaledEN': -22536.531118 (1061.807631)\n",
      "'ScaledKNN': -11839.255028 (762.649234)\n",
      "'ScaledCART': -8954.503368 (628.177960)\n",
      "'ScaledSVR': -22177.324622 (1719.631824)\n"
     ]
    }
   ],
   "source": [
    "piplines=[]\n",
    "piplines.append(('ScaledLR',Pipeline([('Scaler',StandardScaler()),('LR',LinearRegression())])))\n",
    "piplines.append(('ScaledLASSO',Pipeline([('Scaler',StandardScaler()),('LASSO',Lasso())])))\n",
    "piplines.append(('ScaledEN',Pipeline([('Scaler',StandardScaler()),('EN',ElasticNet())])))\n",
    "piplines.append(('ScaledKNN',Pipeline([('Scaler',StandardScaler()),('KNN',KNeighborsRegressor())])))\n",
    "piplines.append(('ScaledCART',Pipeline([('Scaler',StandardScaler()),('CART',DecisionTreeRegressor())])))\n",
    "piplines.append(('ScaledSVR',Pipeline([('Scaler',StandardScaler()),('SVR',SVR())])))\n",
    "\n",
    "results=[]\n",
    "names=[]\n",
    "for name, model in piplines:\n",
    "    kfold=KFold(n_splits=num_folds,random_state=seed,shuffle=True)\n",
    "    cv_results=cross_val_score(model,X_train,Y_train,cv=kfold,scoring=scoring)\n",
    "    results.append(cv_results)\n",
    "    names.append(name)\n",
    "    message=\"%a: %f (%f)\" % (name,cv_results.mean(),cv_results.std())\n",
    "    print(message)\n",
    "\n",
    "\n"
   ]
  },
  {
   "cell_type": "code",
   "execution_count": 334,
   "metadata": {},
   "outputs": [
    {
     "data": {
      "image/png": "[encoded data removed]",
      "text/plain": [
       "<Figure size 720x720 with 1 Axes>"
      ]
     },
     "metadata": {},
     "output_type": "display_data"
    }
   ],
   "source": [
    "fig=plt.figure()\n",
    "fig.suptitle('Algorithm Comprasion')\n",
    "ax=fig.add_subplot(111)\n",
    "plt.boxplot(results)\n",
    "ax.set_xticklabels(names)\n",
    "plt.show()"
   ]
  },
  {
   "cell_type": "markdown",
   "metadata": {},
   "source": [
    "# Tuning ScaledCART"
   ]
  },
  {
   "cell_type": "code",
   "execution_count": 335,
   "metadata": {},
   "outputs": [
    {
     "name": "stdout",
     "output_type": "stream",
     "text": [
      "{'splitter': ['best', 'random'], 'max_depth': [2, 16, 31, 46, 61, 76, 90, 105, 120, 135, 150, None], 'min_samples_split': [2, 5, 10, 3, 7, 15], 'min_samples_leaf': [1, 2, 4, 6, 8, 12]}\n"
     ]
    },
    {
     "data": {
      "text/plain": [
       "{'bootstrap': [True, False],\n",
       " 'max_depth': [10, 20, 30, 40, 50, 60, 70, 80, 90, 100, None],\n",
       " 'splitter': ['auto', 'sqrt'],\n",
       " 'min_samples_leaf': [1, 2, 4],\n",
       " 'min_samples_split': [2, 5, 10],\n",
       " 'n_estimators': [200, 400, 600, 800, 1000, 1200, 1400, 1600, 1800, 2000]}"
      ]
     },
     "execution_count": 335,
     "metadata": {},
     "output_type": "execute_result"
    }
   ],
   "source": [
    "from sklearn.model_selection import RandomizedSearchCV\n",
    "import numpy as np\n",
    "# Number of trees in random forest\n",
    "n_estimators = [int(x) for x in np.linspace(start = 10, stop = 4000, num = 10)]\n",
    "# Number of features to consider at every split\n",
    "splitter = ['best','random']\n",
    "# Maximum number of levels in tree\n",
    "max_depth = [int(x) for x in np.linspace(2, 150, num = 11)]\n",
    "max_depth.append(None)\n",
    "# Minimum number of samples required to split a node\n",
    "min_samples_split = [2, 5, 10,3,7,15]\n",
    "# Minimum number of samples required at each leaf node\n",
    "min_samples_leaf = [1, 2, 4,6,8,12]\n",
    "# Method of selecting samples for training each tree\n",
    "bootstrap = [True, False]\n",
    "# Create the random grid\n",
    "random_grid = {\n",
    "               'splitter': splitter,\n",
    "               'max_depth': max_depth,\n",
    "               'min_samples_split': min_samples_split,\n",
    "               'min_samples_leaf': min_samples_leaf,\n",
    "               }\n",
    "print(random_grid)\n",
    "\n",
    "{'bootstrap': [True, False],\n",
    " 'max_depth': [10, 20, 30, 40, 50, 60, 70, 80, 90, 100, None],\n",
    " 'splitter': ['auto', 'sqrt'],\n",
    " 'min_samples_leaf': [1, 2, 4],\n",
    " 'min_samples_split': [2, 5, 10],\n",
    " 'n_estimators': [200, 400, 600, 800, 1000, 1200, 1400, 1600, 1800, 2000]}"
   ]
  },
  {
   "cell_type": "code",
   "execution_count": 336,
   "metadata": {},
   "outputs": [
    {
     "name": "stdout",
     "output_type": "stream",
     "text": [
      "Fitting 3 folds for each of 100 candidates, totalling 300 fits\n",
      "[CV] splitter=best, min_samples_split=3, min_samples_leaf=8, max_depth=31 \n",
      "[CV] splitter=best, min_samples_split=3, min_samples_leaf=8, max_depth=31 \n",
      "[CV] splitter=best, min_samples_split=3, min_samples_leaf=8, max_depth=31 \n",
      "[CV] splitter=best, min_samples_split=2, min_samples_leaf=1, max_depth=150 \n",
      "[CV]  splitter=best, min_samples_split=3, min_samples_leaf=8, max_depth=31, total=   0.0s\n",
      "[CV]  splitter=best, min_samples_split=3, min_samples_leaf=8, max_depth=31, total=   0.0s\n",
      "[CV] splitter=best, min_samples_split=2, min_samples_leaf=1, max_depth=150 \n",
      "[CV] splitter=best, min_samples_split=2, min_samples_leaf=1, max_depth=150 \n",
      "[CV]  splitter=best, min_samples_split=3, min_samples_leaf=8, max_depth=31, total=   0.0s\n",
      "[CV] splitter=random, min_samples_split=15, min_samples_leaf=8, max_depth=120 \n",
      "[CV]  splitter=best, min_samples_split=2, min_samples_leaf=1, max_depth=150, total=   0.1s\n",
      "[CV]  splitter=best, min_samples_split=2, min_samples_leaf=1, max_depth=150, total=   0.0s\n",
      "[CV]  splitter=random, min_samples_split=15, min_samples_leaf=8, max_depth=120, total=   0.0s\n",
      "[CV] splitter=random, min_samples_split=15, min_samples_leaf=8, max_depth=120 \n",
      "[CV]  splitter=best, min_samples_split=2, min_samples_leaf=1, max_depth=150, total=   0.1s\n",
      "[CV]  splitter=random, min_samples_split=15, min_samples_leaf=8, max_depth=120, total=   0.0s\n",
      "[CV] splitter=random, min_samples_split=15, min_samples_leaf=8, max_depth=120 \n",
      "[CV] splitter=random, min_samples_split=15, min_samples_leaf=2, max_depth=2 \n",
      "[CV] splitter=random, min_samples_split=10, min_samples_leaf=2, max_depth=120 \n",
      "[CV]  splitter=random, min_samples_split=15, min_samples_leaf=8, max_depth=120, total=   0.0s\n",
      "[CV] splitter=random, min_samples_split=15, min_samples_leaf=1, max_depth=61 \n",
      "[CV]  splitter=random, min_samples_split=15, min_samples_leaf=2, max_depth=2, total=   0.0s\n",
      "[CV] splitter=random, min_samples_split=15, min_samples_leaf=2, max_depth=2 \n",
      "[CV]  splitter=random, min_samples_split=15, min_samples_leaf=1, max_depth=61, total=   0.0s\n",
      "[CV] splitter=random, min_samples_split=15, min_samples_leaf=1, max_depth=61 \n",
      "[CV]  splitter=random, min_samples_split=15, min_samples_leaf=2, max_depth=2, total=   0.0s\n",
      "[CV] splitter=random, min_samples_split=15, min_samples_leaf=2, max_depth=2 \n",
      "[CV]  splitter=random, min_samples_split=15, min_samples_leaf=2, max_depth=2, total=   0.0s\n",
      "[CV] splitter=random, min_samples_split=7, min_samples_leaf=2, max_depth=61 \n",
      "[CV]  splitter=random, min_samples_split=15, min_samples_leaf=1, max_depth=61, total=   0.0s\n",
      "[CV] splitter=random, min_samples_split=15, min_samples_leaf=1, max_depth=61 \n",
      "[CV] splitter=random, min_samples_split=10, min_samples_leaf=2, max_depth=120 \n",
      "[CV]  splitter=random, min_samples_split=10, min_samples_leaf=2, max_depth=120, total=   0.0s\n",
      "[CV]  splitter=random, min_samples_split=15, min_samples_leaf=1, max_depth=61, total=   0.0s\n",
      "[CV] splitter=best, min_samples_split=15, min_samples_leaf=1, max_depth=61 \n",
      "[CV] splitter=random, min_samples_split=10, min_samples_leaf=8, max_depth=90 \n",
      "[CV]  splitter=random, min_samples_split=7, min_samples_leaf=2, max_depth=61, total=   0.0s\n",
      "[CV]  splitter=random, min_samples_split=10, min_samples_leaf=2, max_depth=120, total=   0.0s\n",
      "[CV] splitter=random, min_samples_split=10, min_samples_leaf=2, max_depth=120 \n",
      "[CV]  splitter=random, min_samples_split=10, min_samples_leaf=8, max_depth=90, total=   0.0s\n",
      "[CV] splitter=random, min_samples_split=10, min_samples_leaf=8, max_depth=90 \n",
      "[CV] splitter=random, min_samples_split=7, min_samples_leaf=2, max_depth=61 \n",
      "[CV]  splitter=random, min_samples_split=10, min_samples_leaf=8, max_depth=90, total=   0.0s\n",
      "[CV]  splitter=random, min_samples_split=10, min_samples_leaf=2, max_depth=120, total=   0.0s\n",
      "[CV]  splitter=random, min_samples_split=7, min_samples_leaf=2, max_depth=61, total=   0.0s\n",
      "[CV] splitter=random, min_samples_split=7, min_samples_leaf=2, max_depth=61 \n",
      "[CV] splitter=random, min_samples_split=10, min_samples_leaf=8, max_depth=90 \n",
      "[CV]  splitter=best, min_samples_split=15, min_samples_leaf=1, max_depth=61, total=   0.1s\n",
      "[CV]  splitter=random, min_samples_split=10, min_samples_leaf=8, max_depth=90, total=   0.0s\n",
      "[CV]  splitter=random, min_samples_split=7, min_samples_leaf=2, max_depth=61, total=   0.0s\n",
      "[CV] splitter=random, min_samples_split=2, min_samples_leaf=8, max_depth=120 \n",
      "[CV] splitter=random, min_samples_split=2, min_samples_leaf=8, max_depth=120 \n",
      "[CV] splitter=best, min_samples_split=15, min_samples_leaf=1, max_depth=61 \n",
      "[CV] splitter=random, min_samples_split=7, min_samples_leaf=4, max_depth=76 \n",
      "[CV]  splitter=random, min_samples_split=7, min_samples_leaf=4, max_depth=76, total=   0.0s\n",
      "[CV] splitter=best, min_samples_split=15, min_samples_leaf=8, max_depth=150 \n",
      "[CV]  splitter=random, min_samples_split=2, min_samples_leaf=8, max_depth=120, total=   0.0s\n",
      "[CV] splitter=random, min_samples_split=2, min_samples_leaf=8, max_depth=120 \n",
      "[CV]  splitter=random, min_samples_split=2, min_samples_leaf=8, max_depth=120, total=   0.0s\n",
      "[CV] splitter=random, min_samples_split=3, min_samples_leaf=8, max_depth=120 \n",
      "[CV]  splitter=best, min_samples_split=15, min_samples_leaf=1, max_depth=61, total=   0.0s\n",
      "[CV]  splitter=random, min_samples_split=2, min_samples_leaf=8, max_depth=120, total=   0.0s\n",
      "[CV] splitter=best, min_samples_split=15, min_samples_leaf=1, max_depth=61 \n",
      "[CV] splitter=random, min_samples_split=7, min_samples_leaf=4, max_depth=76 \n",
      "[CV]  splitter=best, min_samples_split=15, min_samples_leaf=8, max_depth=150, total=   0.0s\n",
      "[CV] splitter=best, min_samples_split=15, min_samples_leaf=8, max_depth=150 \n",
      "[CV]  splitter=random, min_samples_split=7, min_samples_leaf=4, max_depth=76, total=   0.0s\n",
      "[CV]  splitter=random, min_samples_split=3, min_samples_leaf=8, max_depth=120, total=   0.0s\n",
      "[CV] splitter=random, min_samples_split=3, min_samples_leaf=8, max_depth=120 \n",
      "[CV]  splitter=best, min_samples_split=15, min_samples_leaf=8, max_depth=150, total=   0.0s\n",
      "[CV] splitter=random, min_samples_split=7, min_samples_leaf=4, max_depth=76 \n",
      "[CV] splitter=best, min_samples_split=15, min_samples_leaf=8, max_depth=150 \n",
      "[CV]  splitter=random, min_samples_split=3, min_samples_leaf=8, max_depth=120, total=   0.0s\n",
      "[CV] splitter=random, min_samples_split=3, min_samples_leaf=8, max_depth=120 \n",
      "[CV]  splitter=best, min_samples_split=15, min_samples_leaf=1, max_depth=61, total=   0.1s\n",
      "[CV]  splitter=random, min_samples_split=3, min_samples_leaf=8, max_depth=120, total=   0.0s\n",
      "[CV]  splitter=random, min_samples_split=7, min_samples_leaf=4, max_depth=76, total=   0.0s\n",
      "[CV] splitter=best, min_samples_split=7, min_samples_leaf=4, max_depth=90 \n",
      "[CV] splitter=best, min_samples_split=7, min_samples_leaf=4, max_depth=90 \n",
      "[CV]  splitter=best, min_samples_split=15, min_samples_leaf=8, max_depth=150, total=   0.0s\n",
      "[CV] splitter=random, min_samples_split=3, min_samples_leaf=12, max_depth=2 \n",
      "[CV] splitter=best, min_samples_split=7, min_samples_leaf=12, max_depth=135 \n",
      "[CV]  splitter=random, min_samples_split=3, min_samples_leaf=12, max_depth=2, total=   0.0s\n",
      "[CV]  splitter=best, min_samples_split=7, min_samples_leaf=4, max_depth=90, total=   0.1s\n",
      "[CV]  splitter=best, min_samples_split=7, min_samples_leaf=4, max_depth=90, total=   0.0s\n",
      "[CV]  splitter=best, min_samples_split=7, min_samples_leaf=12, max_depth=135, total=   0.0s\n",
      "[CV] splitter=random, min_samples_split=3, min_samples_leaf=12, max_depth=2 \n",
      "[CV] splitter=best, min_samples_split=7, min_samples_leaf=4, max_depth=90 \n",
      "[CV] splitter=best, min_samples_split=2, min_samples_leaf=4, max_depth=16 \n",
      "[CV] splitter=random, min_samples_split=15, min_samples_leaf=1, max_depth=135 \n",
      "[CV]  splitter=random, min_samples_split=3, min_samples_leaf=12, max_depth=2, total=   0.0s\n",
      "[CV] splitter=random, min_samples_split=3, min_samples_leaf=12, max_depth=2 \n",
      "[CV]  splitter=random, min_samples_split=15, min_samples_leaf=1, max_depth=135, total=   0.0s\n",
      "[CV] splitter=random, min_samples_split=15, min_samples_leaf=1, max_depth=135 \n",
      "[CV]  splitter=random, min_samples_split=15, min_samples_leaf=1, max_depth=135, total=   0.0s\n",
      "[CV] splitter=best, min_samples_split=7, min_samples_leaf=12, max_depth=90 \n",
      "[CV]  splitter=best, min_samples_split=7, min_samples_leaf=4, max_depth=90, total=   0.0s\n"
     ]
    },
    {
     "name": "stdout",
     "output_type": "stream",
     "text": [
      "[CV]  splitter=random, min_samples_split=3, min_samples_leaf=12, max_depth=2, total=   0.0s\n",
      "[CV]  splitter=best, min_samples_split=2, min_samples_leaf=4, max_depth=16, total=   0.1s\n",
      "[CV] splitter=best, min_samples_split=2, min_samples_leaf=4, max_depth=16 \n",
      "[CV] splitter=best, min_samples_split=15, min_samples_leaf=4, max_depth=135 \n",
      "[CV] splitter=random, min_samples_split=7, min_samples_leaf=8, max_depth=None \n",
      "[CV]  splitter=best, min_samples_split=15, min_samples_leaf=4, max_depth=135, total=   0.0s\n",
      "[CV]  splitter=best, min_samples_split=7, min_samples_leaf=12, max_depth=90, total=   0.0s\n",
      "[CV]  splitter=random, min_samples_split=7, min_samples_leaf=8, max_depth=None, total=   0.0s\n",
      "[CV] splitter=random, min_samples_split=7, min_samples_leaf=8, max_depth=None \n",
      "[CV] splitter=best, min_samples_split=7, min_samples_leaf=12, max_depth=90 \n",
      "[CV] splitter=best, min_samples_split=15, min_samples_leaf=4, max_depth=135 \n",
      "[CV]  splitter=best, min_samples_split=2, min_samples_leaf=4, max_depth=16, total=   0.1s\n",
      "[CV] splitter=best, min_samples_split=2, min_samples_leaf=4, max_depth=16 \n",
      "[CV]  splitter=best, min_samples_split=7, min_samples_leaf=12, max_depth=90, total=   0.0s\n",
      "[CV] splitter=best, min_samples_split=7, min_samples_leaf=12, max_depth=90 \n",
      "[CV]  splitter=random, min_samples_split=7, min_samples_leaf=8, max_depth=None, total=   0.1s\n",
      "[CV]  splitter=best, min_samples_split=2, min_samples_leaf=4, max_depth=16, total=   0.0s\n",
      "[CV]  splitter=best, min_samples_split=7, min_samples_leaf=12, max_depth=90, total=   0.0s\n",
      "[CV]  splitter=best, min_samples_split=15, min_samples_leaf=4, max_depth=135, total=   0.1s\n",
      "[CV] splitter=best, min_samples_split=15, min_samples_leaf=4, max_depth=135 \n",
      "[CV] splitter=best, min_samples_split=10, min_samples_leaf=2, max_depth=135 \n",
      "[CV] splitter=random, min_samples_split=7, min_samples_leaf=8, max_depth=None \n",
      "[CV] splitter=random, min_samples_split=10, min_samples_leaf=1, max_depth=120 \n",
      "[CV]  splitter=random, min_samples_split=10, min_samples_leaf=1, max_depth=120, total=   0.0s\n",
      "[CV]  splitter=random, min_samples_split=7, min_samples_leaf=8, max_depth=None, total=   0.0s\n",
      "[CV]  splitter=best, min_samples_split=10, min_samples_leaf=2, max_depth=135, total=   0.0s\n",
      "[CV] splitter=random, min_samples_split=10, min_samples_leaf=1, max_depth=120 \n",
      "[CV]  splitter=best, min_samples_split=15, min_samples_leaf=4, max_depth=135, total=   0.1s\n",
      "[CV] splitter=best, min_samples_split=10, min_samples_leaf=2, max_depth=135 \n",
      "[CV] splitter=best, min_samples_split=7, min_samples_leaf=12, max_depth=135 \n",
      "[CV] splitter=random, min_samples_split=2, min_samples_leaf=4, max_depth=150 \n",
      "[CV]  splitter=random, min_samples_split=10, min_samples_leaf=1, max_depth=120, total=   0.0s\n",
      "[CV] splitter=random, min_samples_split=10, min_samples_leaf=1, max_depth=120 \n",
      "[CV]  splitter=random, min_samples_split=2, min_samples_leaf=4, max_depth=150, total=   0.0s\n",
      "[CV]  splitter=best, min_samples_split=7, min_samples_leaf=12, max_depth=135, total=   0.0s\n",
      "[CV] splitter=random, min_samples_split=2, min_samples_leaf=4, max_depth=150 \n",
      "[CV]  splitter=best, min_samples_split=10, min_samples_leaf=2, max_depth=135, total=   0.0s\n",
      "[CV]  splitter=random, min_samples_split=10, min_samples_leaf=1, max_depth=120, total=   0.0s\n",
      "[CV] splitter=best, min_samples_split=7, min_samples_leaf=12, max_depth=135 \n",
      "[CV] splitter=best, min_samples_split=10, min_samples_leaf=2, max_depth=135 \n",
      "[CV] splitter=best, min_samples_split=5, min_samples_leaf=2, max_depth=16 \n",
      "[CV]  splitter=random, min_samples_split=2, min_samples_leaf=4, max_depth=150, total=   0.0s\n",
      "[CV] splitter=random, min_samples_split=2, min_samples_leaf=4, max_depth=150 \n",
      "[CV]  splitter=random, min_samples_split=2, min_samples_leaf=4, max_depth=150, total=   0.0s\n",
      "[CV]  splitter=best, min_samples_split=7, min_samples_leaf=12, max_depth=135, total=   0.1s\n",
      "[CV]  splitter=best, min_samples_split=5, min_samples_leaf=2, max_depth=16, total=   0.1s\n",
      "[CV] splitter=best, min_samples_split=5, min_samples_leaf=2, max_depth=16 \n",
      "[CV] splitter=random, min_samples_split=15, min_samples_leaf=1, max_depth=135 \n",
      "[CV]  splitter=best, min_samples_split=10, min_samples_leaf=2, max_depth=135, total=   0.1s\n",
      "[CV] splitter=random, min_samples_split=10, min_samples_leaf=12, max_depth=16 \n",
      "[CV] splitter=random, min_samples_split=2, min_samples_leaf=1, max_depth=76 \n",
      "[CV]  splitter=best, min_samples_split=5, min_samples_leaf=2, max_depth=16, total=   0.0s\n",
      "[CV]  splitter=random, min_samples_split=10, min_samples_leaf=12, max_depth=16, total=   0.0s\n",
      "[CV]  splitter=random, min_samples_split=2, min_samples_leaf=1, max_depth=76, total=   0.0s\n",
      "[CV]  splitter=random, min_samples_split=15, min_samples_leaf=1, max_depth=135, total=   0.0s\n",
      "[CV] splitter=best, min_samples_split=5, min_samples_leaf=2, max_depth=16 \n",
      "[CV] splitter=random, min_samples_split=5, min_samples_leaf=8, max_depth=76 \n",
      "[CV]  splitter=random, min_samples_split=5, min_samples_leaf=8, max_depth=76, total=   0.0s\n",
      "[CV] splitter=best, min_samples_split=5, min_samples_leaf=4, max_depth=None \n",
      "[CV] splitter=random, min_samples_split=2, min_samples_leaf=1, max_depth=76 \n",
      "[CV]  splitter=best, min_samples_split=5, min_samples_leaf=2, max_depth=16, total=   0.0s\n",
      "[CV] splitter=random, min_samples_split=2, min_samples_leaf=4, max_depth=90 \n",
      "[CV]  splitter=random, min_samples_split=2, min_samples_leaf=4, max_depth=90, total=   0.0s\n",
      "[CV]  splitter=random, min_samples_split=2, min_samples_leaf=1, max_depth=76, total=   0.0s\n",
      "[CV] splitter=random, min_samples_split=2, min_samples_leaf=4, max_depth=90 \n",
      "[CV] splitter=random, min_samples_split=5, min_samples_leaf=8, max_depth=76 \n",
      "[CV]  splitter=best, min_samples_split=5, min_samples_leaf=4, max_depth=None, total=   0.0s\n",
      "[CV] splitter=best, min_samples_split=5, min_samples_leaf=4, max_depth=None \n",
      "[CV]  splitter=random, min_samples_split=2, min_samples_leaf=4, max_depth=90, total=   0.0s\n",
      "[CV] splitter=random, min_samples_split=2, min_samples_leaf=4, max_depth=90 \n",
      "[CV] splitter=best, min_samples_split=5, min_samples_leaf=6, max_depth=61 \n",
      "[CV]  splitter=random, min_samples_split=5, min_samples_leaf=8, max_depth=76, total=   0.0s\n",
      "[CV] splitter=random, min_samples_split=5, min_samples_leaf=8, max_depth=76 \n",
      "[CV]  splitter=best, min_samples_split=5, min_samples_leaf=4, max_depth=None, total=   0.0s\n",
      "[CV]  splitter=random, min_samples_split=2, min_samples_leaf=4, max_depth=90, total=   0.0s\n",
      "[CV]  splitter=random, min_samples_split=5, min_samples_leaf=8, max_depth=76, total=   0.0s\n",
      "[CV] splitter=random, min_samples_split=10, min_samples_leaf=12, max_depth=16 \n",
      "[CV] splitter=best, min_samples_split=5, min_samples_leaf=4, max_depth=None \n",
      "[CV]  splitter=random, min_samples_split=10, min_samples_leaf=12, max_depth=16, total=   0.0s\n",
      "[CV] splitter=best, min_samples_split=15, min_samples_leaf=4, max_depth=46 \n",
      "[CV]  splitter=best, min_samples_split=5, min_samples_leaf=6, max_depth=61, total=   0.0s\n",
      "[CV] splitter=random, min_samples_split=10, min_samples_leaf=12, max_depth=16 \n",
      "[CV] splitter=best, min_samples_split=5, min_samples_leaf=6, max_depth=61 \n",
      "[CV]  splitter=best, min_samples_split=5, min_samples_leaf=4, max_depth=None, total=   0.0s\n",
      "[CV] splitter=random, min_samples_split=5, min_samples_leaf=1, max_depth=76 \n",
      "[CV]  splitter=random, min_samples_split=10, min_samples_leaf=12, max_depth=16, total=   0.0s\n",
      "[CV]  splitter=best, min_samples_split=5, min_samples_leaf=6, max_depth=61, total=   0.0s\n",
      "[CV] splitter=best, min_samples_split=5, min_samples_leaf=6, max_depth=61 \n",
      "[CV] splitter=best, min_samples_split=3, min_samples_leaf=2, max_depth=105 \n",
      "[CV]  splitter=best, min_samples_split=15, min_samples_leaf=4, max_depth=46, total=   0.0s\n",
      "[CV]  splitter=random, min_samples_split=5, min_samples_leaf=1, max_depth=76, total=   0.0s\n",
      "[CV] splitter=random, min_samples_split=5, min_samples_leaf=1, max_depth=76 \n",
      "[CV] splitter=best, min_samples_split=15, min_samples_leaf=4, max_depth=46 \n",
      "[CV]  splitter=best, min_samples_split=5, min_samples_leaf=6, max_depth=61, total=   0.0s\n",
      "[CV]  splitter=random, min_samples_split=5, min_samples_leaf=1, max_depth=76, total=   0.0s\n",
      "[CV] splitter=best, min_samples_split=15, min_samples_leaf=8, max_depth=61 \n",
      "[CV] splitter=random, min_samples_split=5, min_samples_leaf=1, max_depth=76 \n",
      "[CV]  splitter=best, min_samples_split=15, min_samples_leaf=4, max_depth=46, total=   0.0s\n"
     ]
    },
    {
     "name": "stdout",
     "output_type": "stream",
     "text": [
      "[CV]  splitter=random, min_samples_split=5, min_samples_leaf=1, max_depth=76, total=   0.0s\n",
      "[CV]  splitter=best, min_samples_split=3, min_samples_leaf=2, max_depth=105, total=   0.0s\n",
      "[CV] splitter=best, min_samples_split=10, min_samples_leaf=12, max_depth=16 \n",
      "[CV]  splitter=best, min_samples_split=15, min_samples_leaf=8, max_depth=61, total=   0.0s\n",
      "[CV] splitter=best, min_samples_split=3, min_samples_leaf=2, max_depth=105 \n",
      "[CV] splitter=best, min_samples_split=15, min_samples_leaf=8, max_depth=61 \n",
      "[CV] splitter=best, min_samples_split=15, min_samples_leaf=4, max_depth=46 \n",
      "[CV]  splitter=best, min_samples_split=10, min_samples_leaf=12, max_depth=16, total=   0.0s\n",
      "[CV] splitter=best, min_samples_split=10, min_samples_leaf=12, max_depth=16 \n",
      "[CV]  splitter=best, min_samples_split=15, min_samples_leaf=4, max_depth=46, total=   0.0s\n",
      "[CV] splitter=random, min_samples_split=2, min_samples_leaf=1, max_depth=76 \n",
      "[CV]  splitter=best, min_samples_split=15, min_samples_leaf=8, max_depth=61, total=   0.0s\n",
      "[CV] splitter=best, min_samples_split=15, min_samples_leaf=8, max_depth=61 \n",
      "[CV]  splitter=best, min_samples_split=3, min_samples_leaf=2, max_depth=105, total=   0.0s\n",
      "[CV]  splitter=best, min_samples_split=10, min_samples_leaf=12, max_depth=16, total=   0.0s\n",
      "[CV] splitter=best, min_samples_split=10, min_samples_leaf=12, max_depth=16 \n",
      "[CV] splitter=best, min_samples_split=3, min_samples_leaf=2, max_depth=105 \n",
      "[CV]  splitter=random, min_samples_split=2, min_samples_leaf=1, max_depth=76, total=   0.0s\n",
      "[CV] splitter=random, min_samples_split=15, min_samples_leaf=2, max_depth=46 \n",
      "[CV]  splitter=best, min_samples_split=15, min_samples_leaf=8, max_depth=61, total=   0.0s\n",
      "[CV] splitter=random, min_samples_split=15, min_samples_leaf=2, max_depth=46 \n",
      "[CV]  splitter=random, min_samples_split=15, min_samples_leaf=2, max_depth=46, total=   0.0s\n",
      "[CV] splitter=random, min_samples_split=10, min_samples_leaf=4, max_depth=150 \n",
      "[CV]  splitter=best, min_samples_split=10, min_samples_leaf=12, max_depth=16, total=   0.0s\n",
      "[CV]  splitter=random, min_samples_split=15, min_samples_leaf=2, max_depth=46, total=   0.0s\n",
      "[CV]  splitter=best, min_samples_split=3, min_samples_leaf=2, max_depth=105, total=   0.0s\n",
      "[CV] splitter=random, min_samples_split=3, min_samples_leaf=2, max_depth=None \n",
      "[CV] splitter=random, min_samples_split=3, min_samples_leaf=12, max_depth=16 \n",
      "[CV] splitter=random, min_samples_split=10, min_samples_leaf=2, max_depth=76 \n",
      "[CV]  splitter=random, min_samples_split=10, min_samples_leaf=4, max_depth=150, total=   0.0s\n",
      "[CV]  splitter=random, min_samples_split=3, min_samples_leaf=2, max_depth=None, total=   0.0s\n",
      "[CV]  splitter=random, min_samples_split=3, min_samples_leaf=12, max_depth=16, total=   0.0s\n",
      "[CV] splitter=random, min_samples_split=3, min_samples_leaf=2, max_depth=None \n",
      "[CV] splitter=random, min_samples_split=3, min_samples_leaf=12, max_depth=16 \n",
      "[CV] splitter=random, min_samples_split=10, min_samples_leaf=4, max_depth=150 \n",
      "[CV]  splitter=random, min_samples_split=3, min_samples_leaf=12, max_depth=16, total=   0.0s\n",
      "[CV]  splitter=random, min_samples_split=10, min_samples_leaf=2, max_depth=76, total=   0.0s\n",
      "[CV] splitter=best, min_samples_split=5, min_samples_leaf=2, max_depth=61 \n",
      "[CV] splitter=random, min_samples_split=3, min_samples_leaf=12, max_depth=16 \n",
      "[CV]  splitter=random, min_samples_split=3, min_samples_leaf=2, max_depth=None, total=   0.0s\n",
      "[CV] splitter=random, min_samples_split=3, min_samples_leaf=2, max_depth=None \n",
      "[CV]  splitter=random, min_samples_split=3, min_samples_leaf=12, max_depth=16, total=   0.0s\n",
      "[CV] splitter=random, min_samples_split=7, min_samples_leaf=2, max_depth=105 \n",
      "[CV]  splitter=random, min_samples_split=10, min_samples_leaf=4, max_depth=150, total=   0.0s\n",
      "[CV]  splitter=best, min_samples_split=5, min_samples_leaf=2, max_depth=61, total=   0.0s\n",
      "[CV]  splitter=random, min_samples_split=3, min_samples_leaf=2, max_depth=None, total=   0.0s\n",
      "[CV]  splitter=random, min_samples_split=7, min_samples_leaf=2, max_depth=105, total=   0.0s\n",
      "[CV] splitter=best, min_samples_split=5, min_samples_leaf=2, max_depth=61 \n",
      "[CV] splitter=random, min_samples_split=10, min_samples_leaf=4, max_depth=150 \n",
      "[CV] splitter=random, min_samples_split=7, min_samples_leaf=2, max_depth=105 \n",
      "[CV] splitter=random, min_samples_split=15, min_samples_leaf=2, max_depth=46 \n",
      "[CV]  splitter=random, min_samples_split=7, min_samples_leaf=2, max_depth=105, total=   0.0s\n",
      "[CV]  splitter=random, min_samples_split=10, min_samples_leaf=4, max_depth=150, total=   0.0s\n",
      "[CV] splitter=random, min_samples_split=7, min_samples_leaf=2, max_depth=105 \n",
      "[CV] splitter=random, min_samples_split=10, min_samples_leaf=12, max_depth=31 \n",
      "[CV]  splitter=random, min_samples_split=15, min_samples_leaf=2, max_depth=46, total=   0.0s\n",
      "[CV]  splitter=random, min_samples_split=10, min_samples_leaf=12, max_depth=31, total=   0.0s\n",
      "[CV]  splitter=best, min_samples_split=5, min_samples_leaf=2, max_depth=61, total=   0.1s\n",
      "[CV] splitter=random, min_samples_split=10, min_samples_leaf=12, max_depth=31 \n",
      "[CV] splitter=best, min_samples_split=5, min_samples_leaf=2, max_depth=61 \n",
      "[CV]  splitter=random, min_samples_split=7, min_samples_leaf=2, max_depth=105, total=   0.0s\n",
      "[CV] splitter=best, min_samples_split=3, min_samples_leaf=12, max_depth=31 \n",
      "[CV] splitter=random, min_samples_split=2, min_samples_leaf=4, max_depth=120 \n",
      "[CV]  splitter=random, min_samples_split=10, min_samples_leaf=12, max_depth=31, total=   0.0s\n",
      "[CV] splitter=random, min_samples_split=10, min_samples_leaf=12, max_depth=31 \n",
      "[CV]  splitter=random, min_samples_split=10, min_samples_leaf=12, max_depth=31, total=   0.0s\n",
      "[CV]  splitter=best, min_samples_split=3, min_samples_leaf=12, max_depth=31, total=   0.0s\n",
      "[CV]  splitter=best, min_samples_split=5, min_samples_leaf=2, max_depth=61, total=   0.1s\n",
      "[CV] splitter=random, min_samples_split=10, min_samples_leaf=2, max_depth=76 \n",
      "[CV] splitter=best, min_samples_split=3, min_samples_leaf=12, max_depth=31 \n",
      "[CV]  splitter=random, min_samples_split=2, min_samples_leaf=4, max_depth=120, total=   0.0s\n",
      "[CV] splitter=random, min_samples_split=5, min_samples_leaf=1, max_depth=61 \n",
      "[CV] splitter=random, min_samples_split=2, min_samples_leaf=4, max_depth=120 \n",
      "[CV]  splitter=random, min_samples_split=10, min_samples_leaf=2, max_depth=76, total=   0.0s\n",
      "[CV]  splitter=random, min_samples_split=5, min_samples_leaf=1, max_depth=61, total=   0.0s\n",
      "[CV]  splitter=best, min_samples_split=3, min_samples_leaf=12, max_depth=31, total=   0.0s\n",
      "[CV] splitter=random, min_samples_split=5, min_samples_leaf=6, max_depth=2 \n",
      "[CV]  splitter=random, min_samples_split=2, min_samples_leaf=4, max_depth=120, total=   0.0s\n",
      "[CV] splitter=random, min_samples_split=10, min_samples_leaf=2, max_depth=76 \n",
      "[CV] splitter=random, min_samples_split=5, min_samples_leaf=1, max_depth=61 \n",
      "[CV] splitter=random, min_samples_split=2, min_samples_leaf=4, max_depth=120 \n",
      "[CV]  splitter=random, min_samples_split=10, min_samples_leaf=2, max_depth=76, total=   0.0s\n",
      "[CV]  splitter=random, min_samples_split=5, min_samples_leaf=6, max_depth=2, total=   0.0s\n",
      "[CV]  splitter=random, min_samples_split=5, min_samples_leaf=1, max_depth=61, total=   0.0s\n",
      "[CV]  splitter=random, min_samples_split=2, min_samples_leaf=4, max_depth=120, total=   0.0s\n",
      "[CV] splitter=random, min_samples_split=5, min_samples_leaf=1, max_depth=61 \n",
      "[CV] splitter=best, min_samples_split=7, min_samples_leaf=6, max_depth=61 \n",
      "[CV] splitter=best, min_samples_split=5, min_samples_leaf=8, max_depth=61 \n",
      "[CV] splitter=random, min_samples_split=5, min_samples_leaf=6, max_depth=2 \n",
      "[CV]  splitter=best, min_samples_split=7, min_samples_leaf=6, max_depth=61, total=   0.0s\n",
      "[CV]  splitter=random, min_samples_split=5, min_samples_leaf=6, max_depth=2, total=   0.0s\n",
      "[CV] splitter=random, min_samples_split=5, min_samples_leaf=6, max_depth=2 \n",
      "[CV]  splitter=best, min_samples_split=5, min_samples_leaf=8, max_depth=61, total=   0.0s\n",
      "[CV]  splitter=random, min_samples_split=5, min_samples_leaf=6, max_depth=2, total=   0.0s\n",
      "[CV] splitter=best, min_samples_split=7, min_samples_leaf=6, max_depth=61 \n",
      "[CV] splitter=best, min_samples_split=3, min_samples_leaf=4, max_depth=2 \n",
      "[CV]  splitter=best, min_samples_split=3, min_samples_leaf=4, max_depth=2, total=   0.0s\n"
     ]
    },
    {
     "name": "stdout",
     "output_type": "stream",
     "text": [
      "[CV] splitter=best, min_samples_split=3, min_samples_leaf=4, max_depth=2 \n",
      "[CV] splitter=random, min_samples_split=5, min_samples_leaf=2, max_depth=76 \n",
      "[CV]  splitter=best, min_samples_split=3, min_samples_leaf=4, max_depth=2, total=   0.0s\n",
      "[CV]  splitter=random, min_samples_split=5, min_samples_leaf=1, max_depth=61, total=   0.1s\n",
      "[CV] splitter=best, min_samples_split=3, min_samples_leaf=12, max_depth=31 \n",
      "[CV] splitter=best, min_samples_split=3, min_samples_leaf=4, max_depth=2 \n",
      "[CV]  splitter=random, min_samples_split=5, min_samples_leaf=2, max_depth=76, total=   0.0s\n",
      "[CV] splitter=random, min_samples_split=5, min_samples_leaf=2, max_depth=76 \n",
      "[CV]  splitter=best, min_samples_split=3, min_samples_leaf=4, max_depth=2, total=   0.0s\n",
      "[CV]  splitter=best, min_samples_split=7, min_samples_leaf=6, max_depth=61, total=   0.1s\n",
      "[CV]  splitter=best, min_samples_split=3, min_samples_leaf=12, max_depth=31, total=   0.0s\n",
      "[CV] splitter=best, min_samples_split=10, min_samples_leaf=4, max_depth=46 \n",
      "[CV]  splitter=random, min_samples_split=5, min_samples_leaf=2, max_depth=76, total=   0.0s\n",
      "[CV] splitter=best, min_samples_split=7, min_samples_leaf=6, max_depth=61 \n",
      "[CV] splitter=random, min_samples_split=5, min_samples_leaf=2, max_depth=76 \n",
      "[CV] splitter=random, min_samples_split=7, min_samples_leaf=12, max_depth=135 \n",
      "[CV]  splitter=best, min_samples_split=7, min_samples_leaf=6, max_depth=61, total=   0.0s\n",
      "[CV] splitter=best, min_samples_split=5, min_samples_leaf=8, max_depth=61 \n",
      "[CV]  splitter=random, min_samples_split=5, min_samples_leaf=2, max_depth=76, total=   0.0s\n",
      "[CV]  splitter=best, min_samples_split=10, min_samples_leaf=4, max_depth=46, total=   0.0s\n",
      "[CV]  splitter=random, min_samples_split=7, min_samples_leaf=12, max_depth=135, total=   0.0s\n",
      "[CV] splitter=random, min_samples_split=7, min_samples_leaf=12, max_depth=135 \n",
      "[CV] splitter=random, min_samples_split=7, min_samples_leaf=12, max_depth=31 \n",
      "[CV] splitter=best, min_samples_split=10, min_samples_leaf=4, max_depth=46 \n",
      "[CV]  splitter=best, min_samples_split=5, min_samples_leaf=8, max_depth=61, total=   0.0s\n",
      "[CV] splitter=best, min_samples_split=5, min_samples_leaf=8, max_depth=61 \n",
      "[CV]  splitter=best, min_samples_split=5, min_samples_leaf=8, max_depth=61, total=   0.0s\n",
      "[CV]  splitter=random, min_samples_split=7, min_samples_leaf=12, max_depth=135, total=   0.0s\n",
      "[CV]  splitter=random, min_samples_split=7, min_samples_leaf=12, max_depth=31, total=   0.0s\n",
      "[CV] splitter=random, min_samples_split=7, min_samples_leaf=12, max_depth=31 \n",
      "[CV] splitter=best, min_samples_split=7, min_samples_leaf=8, max_depth=135 \n",
      "[CV] splitter=best, min_samples_split=3, min_samples_leaf=4, max_depth=None \n",
      "[CV]  splitter=best, min_samples_split=10, min_samples_leaf=4, max_depth=46, total=   0.1s\n",
      "[CV]  splitter=random, min_samples_split=7, min_samples_leaf=12, max_depth=31, total=   0.0s\n",
      "[CV] splitter=best, min_samples_split=10, min_samples_leaf=4, max_depth=46 \n",
      "[CV]  splitter=best, min_samples_split=7, min_samples_leaf=8, max_depth=135, total=   0.0s\n",
      "[CV] splitter=random, min_samples_split=5, min_samples_leaf=12, max_depth=61 \n",
      "[CV]  splitter=random, min_samples_split=5, min_samples_leaf=12, max_depth=61, total=   0.0s\n",
      "[CV] splitter=random, min_samples_split=7, min_samples_leaf=12, max_depth=31 \n",
      "[CV] splitter=random, min_samples_split=5, min_samples_leaf=12, max_depth=61 \n",
      "[CV]  splitter=best, min_samples_split=10, min_samples_leaf=4, max_depth=46, total=   0.0s\n",
      "[CV] splitter=random, min_samples_split=7, min_samples_leaf=12, max_depth=135 \n",
      "[CV]  splitter=random, min_samples_split=5, min_samples_leaf=12, max_depth=61, total=   0.0s\n",
      "[CV]  splitter=random, min_samples_split=7, min_samples_leaf=12, max_depth=31, total=   0.0s\n",
      "[CV]  splitter=best, min_samples_split=3, min_samples_leaf=4, max_depth=None, total=   0.1s\n",
      "[CV] splitter=best, min_samples_split=3, min_samples_leaf=4, max_depth=None \n",
      "[CV] splitter=random, min_samples_split=5, min_samples_leaf=12, max_depth=61 \n",
      "[CV] splitter=best, min_samples_split=7, min_samples_leaf=8, max_depth=76 \n",
      "[CV]  splitter=random, min_samples_split=7, min_samples_leaf=12, max_depth=135, total=   0.0s\n",
      "[CV]  splitter=random, min_samples_split=5, min_samples_leaf=12, max_depth=61, total=   0.0s\n",
      "[CV] splitter=best, min_samples_split=5, min_samples_leaf=4, max_depth=120 \n",
      "[CV] splitter=random, min_samples_split=7, min_samples_leaf=6, max_depth=61 \n",
      "[CV]  splitter=best, min_samples_split=7, min_samples_leaf=8, max_depth=76, total=   0.0s\n",
      "[CV]  splitter=best, min_samples_split=3, min_samples_leaf=4, max_depth=None, total=   0.0s\n",
      "[CV] splitter=best, min_samples_split=7, min_samples_leaf=8, max_depth=76 \n",
      "[CV] splitter=best, min_samples_split=3, min_samples_leaf=4, max_depth=None \n",
      "[CV]  splitter=random, min_samples_split=7, min_samples_leaf=6, max_depth=61, total=   0.0s\n",
      "[CV] splitter=random, min_samples_split=7, min_samples_leaf=6, max_depth=61 \n",
      "[CV]  splitter=best, min_samples_split=7, min_samples_leaf=8, max_depth=76, total=   0.0s\n",
      "[CV]  splitter=best, min_samples_split=5, min_samples_leaf=4, max_depth=120, total=   0.0s\n",
      "[CV] splitter=best, min_samples_split=7, min_samples_leaf=8, max_depth=76 \n",
      "[CV] splitter=best, min_samples_split=5, min_samples_leaf=4, max_depth=120 \n",
      "[CV]  splitter=best, min_samples_split=3, min_samples_leaf=4, max_depth=None, total=   0.0s\n",
      "[CV]  splitter=random, min_samples_split=7, min_samples_leaf=6, max_depth=61, total=   0.0s\n",
      "[CV] splitter=random, min_samples_split=15, min_samples_leaf=4, max_depth=None \n",
      "[CV] splitter=random, min_samples_split=7, min_samples_leaf=6, max_depth=61 \n",
      "[CV]  splitter=random, min_samples_split=15, min_samples_leaf=4, max_depth=None, total=   0.0s\n",
      "[CV]  splitter=random, min_samples_split=7, min_samples_leaf=6, max_depth=61, total=   0.0s\n",
      "[CV]  splitter=best, min_samples_split=7, min_samples_leaf=8, max_depth=76, total=   0.0s\n",
      "[CV] splitter=random, min_samples_split=15, min_samples_leaf=4, max_depth=None \n",
      "[CV] splitter=best, min_samples_split=7, min_samples_leaf=8, max_depth=135 \n",
      "[CV] splitter=best, min_samples_split=5, min_samples_leaf=4, max_depth=120 \n",
      "[CV]  splitter=random, min_samples_split=15, min_samples_leaf=4, max_depth=None, total=   0.0s\n",
      "[CV]  splitter=best, min_samples_split=5, min_samples_leaf=4, max_depth=120, total=   0.0s\n",
      "[CV] splitter=random, min_samples_split=15, min_samples_leaf=4, max_depth=90 \n",
      "[CV] splitter=random, min_samples_split=15, min_samples_leaf=4, max_depth=None \n",
      "[CV]  splitter=best, min_samples_split=7, min_samples_leaf=8, max_depth=135, total=   0.0s\n",
      "[CV] splitter=best, min_samples_split=7, min_samples_leaf=8, max_depth=135 \n",
      "[CV]  splitter=random, min_samples_split=15, min_samples_leaf=4, max_depth=90, total=   0.0s\n",
      "[CV] splitter=random, min_samples_split=15, min_samples_leaf=4, max_depth=90 \n",
      "[CV]  splitter=best, min_samples_split=5, min_samples_leaf=4, max_depth=120, total=   0.0s\n",
      "[CV]  splitter=random, min_samples_split=15, min_samples_leaf=4, max_depth=None, total=   0.0s\n",
      "[CV] splitter=random, min_samples_split=10, min_samples_leaf=12, max_depth=46 \n",
      "[CV]  splitter=random, min_samples_split=15, min_samples_leaf=4, max_depth=90, total=   0.0s\n",
      "[CV]  splitter=best, min_samples_split=7, min_samples_leaf=8, max_depth=135, total=   0.0s\n",
      "[CV] splitter=random, min_samples_split=15, min_samples_leaf=4, max_depth=90 \n",
      "[CV] splitter=random, min_samples_split=3, min_samples_leaf=12, max_depth=None \n",
      "[CV] splitter=best, min_samples_split=10, min_samples_leaf=1, max_depth=None \n",
      "[CV]  splitter=random, min_samples_split=10, min_samples_leaf=12, max_depth=46, total=   0.0s\n",
      "[CV]  splitter=random, min_samples_split=3, min_samples_leaf=12, max_depth=None, total=   0.0s\n",
      "[CV] splitter=random, min_samples_split=5, min_samples_leaf=2, max_depth=120 \n",
      "[CV] splitter=random, min_samples_split=10, min_samples_leaf=12, max_depth=46 \n",
      "[CV]  splitter=random, min_samples_split=15, min_samples_leaf=4, max_depth=90, total=   0.0s\n",
      "[CV]  splitter=random, min_samples_split=10, min_samples_leaf=12, max_depth=46, total=   0.0s\n",
      "[CV]  splitter=random, min_samples_split=5, min_samples_leaf=2, max_depth=120, total=   0.0s\n",
      "[CV] splitter=random, min_samples_split=5, min_samples_leaf=2, max_depth=120 \n",
      "[CV] splitter=best, min_samples_split=7, min_samples_leaf=1, max_depth=76 \n"
     ]
    },
    {
     "name": "stdout",
     "output_type": "stream",
     "text": [
      "[CV] splitter=random, min_samples_split=10, min_samples_leaf=12, max_depth=46 \n",
      "[CV]  splitter=random, min_samples_split=5, min_samples_leaf=2, max_depth=120, total=   0.0s\n",
      "[CV] splitter=random, min_samples_split=5, min_samples_leaf=2, max_depth=120 \n",
      "[CV]  splitter=best, min_samples_split=10, min_samples_leaf=1, max_depth=None, total=   0.0s\n",
      "[CV]  splitter=random, min_samples_split=10, min_samples_leaf=12, max_depth=46, total=   0.0s\n",
      "[CV] splitter=best, min_samples_split=3, min_samples_leaf=12, max_depth=2 \n",
      "[CV]  splitter=random, min_samples_split=5, min_samples_leaf=2, max_depth=120, total=   0.0s\n",
      "[CV] splitter=best, min_samples_split=10, min_samples_leaf=1, max_depth=None \n",
      "[CV] splitter=best, min_samples_split=7, min_samples_leaf=12, max_depth=120 \n",
      "[CV]  splitter=best, min_samples_split=3, min_samples_leaf=12, max_depth=2, total=   0.0s\n",
      "[CV]  splitter=best, min_samples_split=7, min_samples_leaf=1, max_depth=76, total=   0.0s\n",
      "[CV] splitter=best, min_samples_split=3, min_samples_leaf=12, max_depth=2 \n",
      "[CV] splitter=best, min_samples_split=7, min_samples_leaf=1, max_depth=76 \n",
      "[CV]  splitter=best, min_samples_split=3, min_samples_leaf=12, max_depth=2, total=   0.0s\n",
      "[CV]  splitter=best, min_samples_split=10, min_samples_leaf=1, max_depth=None, total=   0.0s\n",
      "[CV] splitter=random, min_samples_split=3, min_samples_leaf=6, max_depth=46 \n",
      "[CV] splitter=best, min_samples_split=3, min_samples_leaf=12, max_depth=2 \n",
      "[CV]  splitter=best, min_samples_split=7, min_samples_leaf=12, max_depth=120, total=   0.0s\n",
      "[CV] splitter=best, min_samples_split=7, min_samples_leaf=12, max_depth=120 \n",
      "[CV]  splitter=best, min_samples_split=3, min_samples_leaf=12, max_depth=2, total=   0.0s\n",
      "[CV] splitter=random, min_samples_split=3, min_samples_leaf=12, max_depth=None \n",
      "[CV]  splitter=best, min_samples_split=7, min_samples_leaf=1, max_depth=76, total=   0.0s\n",
      "[CV]  splitter=random, min_samples_split=3, min_samples_leaf=6, max_depth=46, total=   0.0s\n",
      "[CV] splitter=best, min_samples_split=7, min_samples_leaf=1, max_depth=76 \n",
      "[CV] splitter=random, min_samples_split=3, min_samples_leaf=6, max_depth=46 \n"
     ]
    },
    {
     "name": "stderr",
     "output_type": "stream",
     "text": [
      "[Parallel(n_jobs=-1)]: Done 176 tasks      | elapsed:    2.4s\n"
     ]
    },
    {
     "name": "stdout",
     "output_type": "stream",
     "text": [
      "[CV]  splitter=best, min_samples_split=7, min_samples_leaf=12, max_depth=120, total=   0.0s\n",
      "[CV]  splitter=random, min_samples_split=3, min_samples_leaf=12, max_depth=None, total=   0.0s\n",
      "[CV] splitter=best, min_samples_split=7, min_samples_leaf=12, max_depth=120 \n",
      "[CV]  splitter=random, min_samples_split=3, min_samples_leaf=6, max_depth=46, total=   0.0s\n",
      "[CV] splitter=random, min_samples_split=3, min_samples_leaf=12, max_depth=None \n",
      "[CV] splitter=random, min_samples_split=3, min_samples_leaf=6, max_depth=46 \n",
      "[CV]  splitter=random, min_samples_split=3, min_samples_leaf=12, max_depth=None, total=   0.0s\n",
      "[CV] splitter=best, min_samples_split=2, min_samples_leaf=12, max_depth=120 \n",
      "[CV]  splitter=random, min_samples_split=3, min_samples_leaf=6, max_depth=46, total=   0.0s\n",
      "[CV]  splitter=best, min_samples_split=7, min_samples_leaf=1, max_depth=76, total=   0.0s\n",
      "[CV] splitter=best, min_samples_split=5, min_samples_leaf=1, max_depth=135 \n",
      "[CV] splitter=best, min_samples_split=15, min_samples_leaf=1, max_depth=90 \n",
      "[CV]  splitter=best, min_samples_split=7, min_samples_leaf=12, max_depth=120, total=   0.1s\n",
      "[CV] splitter=best, min_samples_split=10, min_samples_leaf=1, max_depth=None \n",
      "[CV]  splitter=best, min_samples_split=2, min_samples_leaf=12, max_depth=120, total=   0.0s\n",
      "[CV]  splitter=best, min_samples_split=15, min_samples_leaf=1, max_depth=90, total=   0.0s\n",
      "[CV] splitter=best, min_samples_split=2, min_samples_leaf=12, max_depth=120 \n",
      "[CV] splitter=best, min_samples_split=15, min_samples_leaf=1, max_depth=90 \n",
      "[CV]  splitter=best, min_samples_split=5, min_samples_leaf=1, max_depth=135, total=   0.0s\n",
      "[CV]  splitter=best, min_samples_split=10, min_samples_leaf=1, max_depth=None, total=   0.0s\n",
      "[CV] splitter=best, min_samples_split=5, min_samples_leaf=8, max_depth=None \n",
      "[CV] splitter=random, min_samples_split=5, min_samples_leaf=2, max_depth=90 \n",
      "[CV]  splitter=best, min_samples_split=2, min_samples_leaf=12, max_depth=120, total=   0.0s\n",
      "[CV]  splitter=best, min_samples_split=5, min_samples_leaf=8, max_depth=None, total=   0.0s\n",
      "[CV] splitter=best, min_samples_split=5, min_samples_leaf=8, max_depth=None \n",
      "[CV] splitter=best, min_samples_split=2, min_samples_leaf=12, max_depth=120 \n",
      "[CV]  splitter=best, min_samples_split=15, min_samples_leaf=1, max_depth=90, total=   0.0s\n",
      "[CV] splitter=best, min_samples_split=15, min_samples_leaf=1, max_depth=90 \n",
      "[CV]  splitter=best, min_samples_split=2, min_samples_leaf=12, max_depth=120, total=   0.0s\n",
      "[CV]  splitter=random, min_samples_split=5, min_samples_leaf=2, max_depth=90, total=   0.0s\n",
      "[CV]  splitter=best, min_samples_split=5, min_samples_leaf=8, max_depth=None, total=   0.0s\n",
      "[CV] splitter=random, min_samples_split=5, min_samples_leaf=2, max_depth=90 \n",
      "[CV] splitter=best, min_samples_split=5, min_samples_leaf=12, max_depth=120 \n",
      "[CV] splitter=best, min_samples_split=5, min_samples_leaf=8, max_depth=None \n",
      "[CV]  splitter=random, min_samples_split=5, min_samples_leaf=2, max_depth=90, total=   0.0s\n",
      "[CV] splitter=random, min_samples_split=2, min_samples_leaf=4, max_depth=135 \n",
      "[CV]  splitter=best, min_samples_split=15, min_samples_leaf=1, max_depth=90, total=   0.0s\n",
      "[CV]  splitter=best, min_samples_split=5, min_samples_leaf=8, max_depth=None, total=   0.0s\n",
      "[CV] splitter=random, min_samples_split=7, min_samples_leaf=8, max_depth=120 \n",
      "[CV]  splitter=random, min_samples_split=2, min_samples_leaf=4, max_depth=135, total=   0.0s\n",
      "[CV]  splitter=best, min_samples_split=5, min_samples_leaf=12, max_depth=120, total=   0.0s\n",
      "[CV] splitter=best, min_samples_split=5, min_samples_leaf=12, max_depth=120 \n",
      "[CV]  splitter=random, min_samples_split=7, min_samples_leaf=8, max_depth=120, total=   0.0s\n",
      "[CV] splitter=best, min_samples_split=10, min_samples_leaf=6, max_depth=150 \n",
      "[CV] splitter=random, min_samples_split=2, min_samples_leaf=4, max_depth=135 \n",
      "[CV] splitter=random, min_samples_split=7, min_samples_leaf=8, max_depth=120 \n",
      "[CV]  splitter=random, min_samples_split=2, min_samples_leaf=4, max_depth=135, total=   0.0s\n",
      "[CV] splitter=random, min_samples_split=2, min_samples_leaf=4, max_depth=135 \n",
      "[CV] splitter=best, min_samples_split=10, min_samples_leaf=6, max_depth=150 \n",
      "[CV]  splitter=best, min_samples_split=5, min_samples_leaf=12, max_depth=120, total=   0.0s\n",
      "[CV] splitter=best, min_samples_split=5, min_samples_leaf=12, max_depth=120 \n",
      "[CV]  splitter=best, min_samples_split=10, min_samples_leaf=6, max_depth=150, total=   0.0s\n",
      "[CV]  splitter=random, min_samples_split=7, min_samples_leaf=8, max_depth=120, total=   0.0s\n",
      "[CV]  splitter=random, min_samples_split=2, min_samples_leaf=4, max_depth=135, total=   0.0s\n",
      "[CV] splitter=random, min_samples_split=7, min_samples_leaf=8, max_depth=120 \n",
      "[CV] splitter=best, min_samples_split=10, min_samples_leaf=6, max_depth=105 \n",
      "[CV]  splitter=best, min_samples_split=10, min_samples_leaf=6, max_depth=150, total=   0.0s\n",
      "[CV] splitter=best, min_samples_split=10, min_samples_leaf=6, max_depth=150 \n",
      "[CV]  splitter=best, min_samples_split=5, min_samples_leaf=12, max_depth=120, total=   0.0s\n",
      "[CV]  splitter=random, min_samples_split=7, min_samples_leaf=8, max_depth=120, total=   0.0s\n",
      "[CV] splitter=best, min_samples_split=5, min_samples_leaf=1, max_depth=135 \n",
      "[CV] splitter=random, min_samples_split=5, min_samples_leaf=12, max_depth=2 \n",
      "[CV]  splitter=best, min_samples_split=10, min_samples_leaf=6, max_depth=105, total=   0.0s\n",
      "[CV]  splitter=best, min_samples_split=10, min_samples_leaf=6, max_depth=150, total=   0.0s\n",
      "[CV]  splitter=random, min_samples_split=5, min_samples_leaf=12, max_depth=2, total=   0.0s\n",
      "[CV] splitter=random, min_samples_split=5, min_samples_leaf=12, max_depth=2 \n",
      "[CV] splitter=random, min_samples_split=5, min_samples_leaf=2, max_depth=90 \n",
      "[CV] splitter=best, min_samples_split=10, min_samples_leaf=6, max_depth=105 \n",
      "[CV]  splitter=best, min_samples_split=5, min_samples_leaf=1, max_depth=135, total=   0.0s\n",
      "[CV]  splitter=random, min_samples_split=5, min_samples_leaf=12, max_depth=2, total=   0.0s\n",
      "[CV] splitter=random, min_samples_split=5, min_samples_leaf=12, max_depth=2 \n",
      "[CV]  splitter=random, min_samples_split=5, min_samples_leaf=2, max_depth=90, total=   0.0s\n",
      "[CV] splitter=best, min_samples_split=5, min_samples_leaf=1, max_depth=135 \n",
      "[CV] splitter=best, min_samples_split=15, min_samples_leaf=12, max_depth=150 \n",
      "[CV]  splitter=random, min_samples_split=5, min_samples_leaf=12, max_depth=2, total=   0.0s\n",
      "[CV] splitter=best, min_samples_split=15, min_samples_leaf=12, max_depth=150 \n",
      "[CV]  splitter=best, min_samples_split=10, min_samples_leaf=6, max_depth=105, total=   0.0s\n",
      "[CV]  splitter=best, min_samples_split=15, min_samples_leaf=12, max_depth=150, total=   0.0s\n",
      "[CV] splitter=best, min_samples_split=10, min_samples_leaf=6, max_depth=105 \n",
      "[CV] splitter=random, min_samples_split=2, min_samples_leaf=4, max_depth=105 \n",
      "[CV]  splitter=best, min_samples_split=15, min_samples_leaf=12, max_depth=150, total=   0.0s\n",
      "[CV]  splitter=random, min_samples_split=2, min_samples_leaf=4, max_depth=105, total=   0.0s\n",
      "[CV] splitter=best, min_samples_split=15, min_samples_leaf=12, max_depth=150 \n",
      "[CV] splitter=random, min_samples_split=2, min_samples_leaf=4, max_depth=105 \n",
      "[CV]  splitter=best, min_samples_split=10, min_samples_leaf=6, max_depth=105, total=   0.0s\n",
      "[CV]  splitter=best, min_samples_split=5, min_samples_leaf=1, max_depth=135, total=   0.1s\n",
      "[CV]  splitter=random, min_samples_split=2, min_samples_leaf=4, max_depth=105, total=   0.0s\n",
      "[CV]  splitter=best, min_samples_split=15, min_samples_leaf=12, max_depth=150, total=   0.0s\n",
      "[CV] splitter=random, min_samples_split=10, min_samples_leaf=12, max_depth=2 \n",
      "[CV] splitter=random, min_samples_split=2, min_samples_leaf=4, max_depth=105 \n",
      "[CV]  splitter=random, min_samples_split=10, min_samples_leaf=12, max_depth=2, total=   0.0s\n",
      "[CV] splitter=best, min_samples_split=3, min_samples_leaf=1, max_depth=16 \n",
      "[CV] splitter=random, min_samples_split=10, min_samples_leaf=12, max_depth=2 \n",
      "[CV]  splitter=random, min_samples_split=2, min_samples_leaf=4, max_depth=105, total=   0.0s\n",
      "[CV] splitter=best, min_samples_split=5, min_samples_leaf=8, max_depth=46 \n",
      "[CV] splitter=random, min_samples_split=3, min_samples_leaf=6, max_depth=61 \n",
      "[CV]  splitter=random, min_samples_split=10, min_samples_leaf=12, max_depth=2, total=   0.0s\n"
     ]
    },
    {
     "name": "stdout",
     "output_type": "stream",
     "text": [
      "[CV] splitter=best, min_samples_split=2, min_samples_leaf=4, max_depth=135 \n",
      "[CV]  splitter=best, min_samples_split=5, min_samples_leaf=8, max_depth=46, total=   0.0s\n",
      "[CV]  splitter=random, min_samples_split=3, min_samples_leaf=6, max_depth=61, total=   0.0s\n",
      "[CV] splitter=random, min_samples_split=7, min_samples_leaf=1, max_depth=105 \n",
      "[CV]  splitter=best, min_samples_split=3, min_samples_leaf=1, max_depth=16, total=   0.0s\n",
      "[CV] splitter=random, min_samples_split=3, min_samples_leaf=6, max_depth=61 \n",
      "[CV]  splitter=best, min_samples_split=2, min_samples_leaf=4, max_depth=135, total=   0.0s\n",
      "[CV] splitter=best, min_samples_split=3, min_samples_leaf=1, max_depth=16 \n",
      "[CV] splitter=best, min_samples_split=2, min_samples_leaf=4, max_depth=135 \n",
      "[CV]  splitter=random, min_samples_split=7, min_samples_leaf=1, max_depth=105, total=   0.0s\n",
      "[CV]  splitter=random, min_samples_split=3, min_samples_leaf=6, max_depth=61, total=   0.0s\n",
      "[CV] splitter=random, min_samples_split=7, min_samples_leaf=1, max_depth=105 \n",
      "[CV] splitter=random, min_samples_split=3, min_samples_leaf=6, max_depth=61 \n",
      "[CV]  splitter=best, min_samples_split=2, min_samples_leaf=4, max_depth=135, total=   0.0s\n",
      "[CV]  splitter=best, min_samples_split=3, min_samples_leaf=1, max_depth=16, total=   0.0s\n",
      "[CV]  splitter=random, min_samples_split=7, min_samples_leaf=1, max_depth=105, total=   0.0s\n",
      "[CV] splitter=best, min_samples_split=3, min_samples_leaf=1, max_depth=16 \n",
      "[CV] splitter=best, min_samples_split=2, min_samples_leaf=4, max_depth=135 \n",
      "[CV] splitter=random, min_samples_split=7, min_samples_leaf=1, max_depth=105 \n",
      "[CV]  splitter=random, min_samples_split=3, min_samples_leaf=6, max_depth=61, total=   0.0s\n",
      "[CV]  splitter=random, min_samples_split=7, min_samples_leaf=1, max_depth=105, total=   0.0s\n",
      "[CV] splitter=best, min_samples_split=2, min_samples_leaf=12, max_depth=135 \n",
      "[CV]  splitter=best, min_samples_split=2, min_samples_leaf=4, max_depth=135, total=   0.0s\n",
      "[CV] splitter=random, min_samples_split=10, min_samples_leaf=12, max_depth=2 \n",
      "[CV]  splitter=best, min_samples_split=3, min_samples_leaf=1, max_depth=16, total=   0.0s\n",
      "[CV] splitter=best, min_samples_split=2, min_samples_leaf=8, max_depth=16 \n",
      "[CV]  splitter=random, min_samples_split=10, min_samples_leaf=12, max_depth=2, total=   0.0s\n",
      "[CV]  splitter=best, min_samples_split=2, min_samples_leaf=12, max_depth=135, total=   0.0s\n",
      "[CV] splitter=best, min_samples_split=3, min_samples_leaf=12, max_depth=76 \n",
      "[CV] splitter=best, min_samples_split=2, min_samples_leaf=12, max_depth=135 \n",
      "[CV] splitter=random, min_samples_split=10, min_samples_leaf=12, max_depth=105 \n",
      "[CV]  splitter=random, min_samples_split=10, min_samples_leaf=12, max_depth=105, total=   0.0s\n",
      "[CV]  splitter=best, min_samples_split=2, min_samples_leaf=8, max_depth=16, total=   0.0s\n",
      "[CV]  splitter=best, min_samples_split=3, min_samples_leaf=12, max_depth=76, total=   0.0s\n",
      "[CV] splitter=random, min_samples_split=10, min_samples_leaf=12, max_depth=105 \n",
      "[CV] splitter=best, min_samples_split=3, min_samples_leaf=12, max_depth=76 \n",
      "[CV]  splitter=random, min_samples_split=10, min_samples_leaf=12, max_depth=105, total=   0.0s\n",
      "[CV]  splitter=best, min_samples_split=2, min_samples_leaf=12, max_depth=135, total=   0.0s\n",
      "[CV] splitter=best, min_samples_split=2, min_samples_leaf=8, max_depth=16 \n",
      "[CV] splitter=random, min_samples_split=10, min_samples_leaf=12, max_depth=105 \n",
      "[CV] splitter=best, min_samples_split=2, min_samples_leaf=12, max_depth=135 \n",
      "[CV]  splitter=best, min_samples_split=3, min_samples_leaf=12, max_depth=76, total=   0.0s\n",
      "[CV] splitter=best, min_samples_split=15, min_samples_leaf=2, max_depth=150 \n",
      "[CV]  splitter=random, min_samples_split=10, min_samples_leaf=12, max_depth=105, total=   0.0s\n",
      "[CV]  splitter=best, min_samples_split=2, min_samples_leaf=12, max_depth=135, total=   0.0s\n",
      "[CV] splitter=best, min_samples_split=5, min_samples_leaf=8, max_depth=46 \n",
      "[CV] splitter=best, min_samples_split=3, min_samples_leaf=12, max_depth=76 \n",
      "[CV]  splitter=best, min_samples_split=15, min_samples_leaf=2, max_depth=150, total=   0.0s\n",
      "[CV] splitter=best, min_samples_split=15, min_samples_leaf=2, max_depth=150 \n",
      "[CV]  splitter=best, min_samples_split=2, min_samples_leaf=8, max_depth=16, total=   0.1s\n",
      "[CV]  splitter=best, min_samples_split=3, min_samples_leaf=12, max_depth=76, total=   0.0s\n",
      "[CV] splitter=best, min_samples_split=5, min_samples_leaf=6, max_depth=16 \n",
      "[CV]  splitter=best, min_samples_split=5, min_samples_leaf=8, max_depth=46, total=   0.0s\n",
      "[CV] splitter=best, min_samples_split=2, min_samples_leaf=8, max_depth=16 \n",
      "[CV] splitter=best, min_samples_split=5, min_samples_leaf=8, max_depth=46 \n",
      "[CV]  splitter=best, min_samples_split=15, min_samples_leaf=2, max_depth=150, total=   0.0s\n",
      "[CV]  splitter=best, min_samples_split=2, min_samples_leaf=8, max_depth=16, total=   0.0s\n",
      "[CV] splitter=best, min_samples_split=15, min_samples_leaf=2, max_depth=150 \n",
      "[CV] splitter=random, min_samples_split=2, min_samples_leaf=8, max_depth=2 \n",
      "[CV]  splitter=random, min_samples_split=2, min_samples_leaf=8, max_depth=2, total=   0.0s\n",
      "[CV] splitter=best, min_samples_split=10, min_samples_leaf=12, max_depth=120 \n",
      "[CV]  splitter=best, min_samples_split=5, min_samples_leaf=8, max_depth=46, total=   0.0s\n",
      "[CV]  splitter=best, min_samples_split=5, min_samples_leaf=6, max_depth=16, total=   0.0s\n",
      "[CV] splitter=best, min_samples_split=5, min_samples_leaf=6, max_depth=16 \n",
      "[CV]  splitter=best, min_samples_split=15, min_samples_leaf=2, max_depth=150, total=   0.0s\n",
      "[CV]  splitter=best, min_samples_split=10, min_samples_leaf=12, max_depth=120, total=   0.0s\n",
      "[CV]  splitter=best, min_samples_split=5, min_samples_leaf=6, max_depth=16, total=   0.0s\n",
      "[CV] splitter=random, min_samples_split=3, min_samples_leaf=2, max_depth=105 \n",
      "[CV] splitter=best, min_samples_split=5, min_samples_leaf=6, max_depth=16 \n",
      "[CV] splitter=best, min_samples_split=10, min_samples_leaf=12, max_depth=120 \n",
      "[CV]  splitter=best, min_samples_split=5, min_samples_leaf=6, max_depth=16, total=   0.0s\n",
      "[CV] splitter=best, min_samples_split=15, min_samples_leaf=8, max_depth=120 \n",
      "[CV]  splitter=random, min_samples_split=3, min_samples_leaf=2, max_depth=105, total=   0.0s\n",
      "[CV]  splitter=best, min_samples_split=10, min_samples_leaf=12, max_depth=120, total=   0.0s\n",
      "[CV] splitter=random, min_samples_split=3, min_samples_leaf=2, max_depth=105 \n",
      "[CV] splitter=best, min_samples_split=10, min_samples_leaf=12, max_depth=120 \n",
      "[CV]  splitter=best, min_samples_split=15, min_samples_leaf=8, max_depth=120, total=   0.0s\n",
      "[CV]  splitter=random, min_samples_split=3, min_samples_leaf=2, max_depth=105, total=   0.0s\n",
      "[CV] splitter=random, min_samples_split=3, min_samples_leaf=2, max_depth=105 \n",
      "[CV] splitter=best, min_samples_split=15, min_samples_leaf=8, max_depth=120 \n",
      "[CV]  splitter=random, min_samples_split=3, min_samples_leaf=2, max_depth=105, total=   0.0s\n",
      "[CV]  splitter=best, min_samples_split=10, min_samples_leaf=12, max_depth=120, total=   0.0s\n",
      "[CV]  splitter=best, min_samples_split=15, min_samples_leaf=8, max_depth=120, total=   0.0s\n",
      "[CV] splitter=best, min_samples_split=15, min_samples_leaf=8, max_depth=120 \n",
      "[CV]  splitter=best, min_samples_split=15, min_samples_leaf=8, max_depth=120, total=   0.0s\n",
      "[CV] splitter=random, min_samples_split=2, min_samples_leaf=8, max_depth=2 \n",
      "[CV]  splitter=random, min_samples_split=2, min_samples_leaf=8, max_depth=2, total=   0.0s\n",
      "[CV] splitter=random, min_samples_split=2, min_samples_leaf=8, max_depth=2 \n",
      "[CV]  splitter=random, min_samples_split=2, min_samples_leaf=8, max_depth=2, total=   0.0s\n"
     ]
    },
    {
     "name": "stderr",
     "output_type": "stream",
     "text": [
      "[Parallel(n_jobs=-1)]: Done 300 out of 300 | elapsed:    3.7s finished\n"
     ]
    },
    {
     "data": {
      "text/plain": [
       "RandomizedSearchCV(cv=3, error_score='raise',\n",
       "          estimator=DecisionTreeRegressor(criterion='mse', max_depth=None, max_features=None,\n",
       "           max_leaf_nodes=None, min_impurity_decrease=0.0,\n",
       "           min_impurity_split=None, min_samples_leaf=1,\n",
       "           min_samples_split=2, min_weight_fraction_leaf=0.0,\n",
       "           presort=False, random_state=None, splitter='best'),\n",
       "          fit_params=None, iid=True, n_iter=100, n_jobs=-1,\n",
       "          param_distributions={'splitter': ['best', 'random'], 'max_depth': [2, 16, 31, 46, 61, 76, 90, 105, 120, 135, 150, None], 'min_samples_split': [2, 5, 10, 3, 7, 15], 'min_samples_leaf': [1, 2, 4, 6, 8, 12]},\n",
       "          pre_dispatch='2*n_jobs', random_state=42, refit=True,\n",
       "          return_train_score='warn', scoring=None, verbose=2)"
      ]
     },
     "execution_count": 336,
     "metadata": {},
     "output_type": "execute_result"
    }
   ],
   "source": [
    "# Use the random grid to search for best hyperparameters\n",
    "# First create the base model to tune\n",
    "CART = DecisionTreeRegressor()\n",
    "# Random search of parameters, using 3 fofld cross validation, \n",
    "# search across 100 different combinations, and use all available cores\n",
    "CART_random = RandomizedSearchCV(estimator = CART, param_distributions = random_grid, n_iter = 100, cv = 3, verbose=2, random_state=42, n_jobs = -1)\n",
    "# Fit the random search model\n",
    "CART_random.fit(X_train,Y_train)"
   ]
  },
  {
   "cell_type": "code",
   "execution_count": 337,
   "metadata": {},
   "outputs": [
    {
     "data": {
      "text/plain": [
       "{'splitter': 'best',\n",
       " 'min_samples_split': 2,\n",
       " 'min_samples_leaf': 12,\n",
       " 'max_depth': 120}"
      ]
     },
     "execution_count": 337,
     "metadata": {},
     "output_type": "execute_result"
    }
   ],
   "source": [
    "CART_random.best_params_"
   ]
  },
  {
   "cell_type": "markdown",
   "metadata": {},
   "source": [
    "Best parameters for this model"
   ]
  },
  {
   "cell_type": "markdown",
   "metadata": {},
   "source": [
    "# Evaluate tuned model"
   ]
  },
  {
   "cell_type": "code",
   "execution_count": 327,
   "metadata": {},
   "outputs": [
    {
     "name": "stdout",
     "output_type": "stream",
     "text": [
      "'CART': -6647.906556 (662.874671)\n"
     ]
    }
   ],
   "source": [
    "models=[]\n",
    "models.append(('CART',DecisionTreeRegressor(splitter='best',min_samples_split=7,min_samples_leaf=12,max_depth=90)))\n",
    "results=[]\n",
    "names=[]\n",
    "for name, model in models:\n",
    "    kfold=KFold(n_splits=num_folds,random_state=seed,shuffle=True)\n",
    "    cv_results=cross_val_score(model,X_train,Y_train,cv=kfold,scoring=scoring)\n",
    "    results.append(cv_results)\n",
    "    names.append(name)\n",
    "    message=\"%a: %f (%f)\" % (name,cv_results.mean(),cv_results.std())\n",
    "    print(message)"
   ]
  },
  {
   "cell_type": "code",
   "execution_count": 328,
   "metadata": {},
   "outputs": [
    {
     "name": "stdout",
     "output_type": "stream",
     "text": [
      "6117.281293646435\n"
     ]
    }
   ],
   "source": [
    "model=DecisionTreeRegressor(splitter='best',min_samples_split=7,min_samples_leaf=12,max_depth=90)\n",
    "results=[]\n",
    "model.fit(X=X_train,y=Y_train)\n",
    "predictions=model.predict(X_validation)\n",
    "print(mean_squared_error(Y_validation,predictions))"
   ]
  },
  {
   "cell_type": "markdown",
   "metadata": {},
   "source": [
    "Model get much bether result then with defult parameters"
   ]
  },
  {
   "cell_type": "markdown",
   "metadata": {},
   "source": [
    "# Ensemble Methods"
   ]
  },
  {
   "cell_type": "code",
   "execution_count": 319,
   "metadata": {},
   "outputs": [],
   "source": [
    "from sklearn.ensemble import AdaBoostRegressor\n",
    "from sklearn.ensemble import ExtraTreesRegressor\n",
    "from sklearn.ensemble import GradientBoostingRegressor\n",
    "from sklearn.ensemble import RandomForestRegressor"
   ]
  },
  {
   "cell_type": "code",
   "execution_count": 329,
   "metadata": {},
   "outputs": [
    {
     "name": "stdout",
     "output_type": "stream",
     "text": [
      "'ScaledAB': -12577.179520 (874.464860)\n",
      "'ScaledGBM': -6971.631294 (480.414507)\n",
      "'ScaledRF': -5535.749496 (556.405314)\n",
      "'ScaledET': -5634.228881 (623.527981)\n"
     ]
    }
   ],
   "source": [
    "ensembles=[]\n",
    "ensembles.append(('ScaledAB',Pipeline([('Scaler',StandardScaler()),('AB',AdaBoostRegressor())])))\n",
    "ensembles.append(('ScaledGBM',Pipeline([('Scaler',StandardScaler()),('GBM',GradientBoostingRegressor())])))\n",
    "ensembles.append(('ScaledRF',Pipeline([('Scaler',StandardScaler()),('RF',RandomForestRegressor())])))\n",
    "ensembles.append(('ScaledET',Pipeline([('Scaler',StandardScaler()),('ET',ExtraTreesRegressor())])))\n",
    "\n",
    "results=[]\n",
    "names=[]\n",
    "for name, model in ensembles:\n",
    "    kfold=KFold(n_splits=num_folds,random_state=seed,shuffle=True)\n",
    "    cv_results=cross_val_score(model,X_train,Y_train,cv=kfold,scoring=scoring)\n",
    "    results.append(cv_results)\n",
    "    names.append(name)\n",
    "    message=\"%a: %f (%f)\" % (name,cv_results.mean(),cv_results.std())\n",
    "    print(message)"
   ]
  },
  {
   "cell_type": "code",
   "execution_count": 330,
   "metadata": {},
   "outputs": [
    {
     "data": {
      "image/png": "[encoded data removed]",
      "text/plain": [
       "<Figure size 720x720 with 1 Axes>"
      ]
     },
     "metadata": {},
     "output_type": "display_data"
    }
   ],
   "source": [
    "fig=plt.figure()\n",
    "fig.suptitle('Algorithm Comprasion')\n",
    "ax=fig.add_subplot(111)\n",
    "plt.boxplot(results)\n",
    "ax.set_xticklabels(names)\n",
    "plt.show()"
   ]
  },
  {
   "cell_type": "markdown",
   "metadata": {},
   "source": [
    "# Tunning RF"
   ]
  },
  {
   "cell_type": "code",
   "execution_count": 352,
   "metadata": {},
   "outputs": [
    {
     "name": "stdout",
     "output_type": "stream",
     "text": [
      "{'n_estimators': [200, 400, 600, 800, 1000, 1200, 1400, 1600, 1800, 2000], 'max_features': ['auto', 'sqrt'], 'max_depth': [10, 20, 30, 40, 50, 60, 70, 80, 90, 100, 110, None], 'min_samples_split': [2, 5, 10], 'min_samples_leaf': [1, 2, 4], 'bootstrap': [True, False]}\n"
     ]
    },
    {
     "data": {
      "text/plain": [
       "{'bootstrap': [True, False],\n",
       " 'max_depth': [10, 20, 30, 40, 50, 60, 70, 80, 90, 100, None],\n",
       " 'max_features': ['auto', 'sqrt'],\n",
       " 'min_samples_leaf': [1, 2, 4],\n",
       " 'min_samples_split': [2, 5, 10],\n",
       " 'n_estimators': [200, 400, 600, 800, 1000, 1200, 1400, 1600, 1800, 2000]}"
      ]
     },
     "execution_count": 352,
     "metadata": {},
     "output_type": "execute_result"
    }
   ],
   "source": [
    "# Number of trees in random forest\n",
    "n_estimators = [int(x) for x in np.linspace(start = 200, stop = 2000, num = 10)]\n",
    "# Number of features to consider at every split\n",
    "max_features = ['auto', 'sqrt']\n",
    "# Maximum number of levels in tree\n",
    "max_depth = [int(x) for x in np.linspace(10, 110, num = 11)]\n",
    "max_depth.append(None)\n",
    "# Minimum number of samples required to split a node\n",
    "min_samples_split = [2, 5, 10]\n",
    "# Minimum number of samples required at each leaf node\n",
    "min_samples_leaf = [1, 2, 4]\n",
    "# Method of selecting samples for training each tree\n",
    "bootstrap = [True, False]\n",
    "# Create the random grid\n",
    "random_grid = {'n_estimators': n_estimators,\n",
    "               'max_features': max_features,\n",
    "               'max_depth': max_depth,\n",
    "               'min_samples_split': min_samples_split,\n",
    "               'min_samples_leaf': min_samples_leaf,\n",
    "               'bootstrap': bootstrap}\n",
    "print(random_grid)\n",
    "{'bootstrap': [True, False],\n",
    " 'max_depth': [10, 20, 30, 40, 50, 60, 70, 80, 90, 100, None],\n",
    " 'max_features': ['auto', 'sqrt'],\n",
    " 'min_samples_leaf': [1, 2, 4],\n",
    " 'min_samples_split': [2, 5, 10],\n",
    " 'n_estimators': [200, 400, 600, 800, 1000, 1200, 1400, 1600, 1800, 2000]}\n"
   ]
  },
  {
   "cell_type": "code",
   "execution_count": 362,
   "metadata": {},
   "outputs": [
    {
     "name": "stdout",
     "output_type": "stream",
     "text": [
      "Fitting 3 folds for each of 100 candidates, totalling 300 fits\n",
      "[CV] n_estimators=400, min_samples_split=5, min_samples_leaf=1, max_features=sqrt, max_depth=30, bootstrap=True \n",
      "[CV] n_estimators=400, min_samples_split=5, min_samples_leaf=1, max_features=sqrt, max_depth=30, bootstrap=True \n",
      "[CV] n_estimators=400, min_samples_split=5, min_samples_leaf=1, max_features=sqrt, max_depth=30, bootstrap=True \n",
      "[CV] n_estimators=2000, min_samples_split=5, min_samples_leaf=1, max_features=sqrt, max_depth=10, bootstrap=True \n",
      "[CV]  n_estimators=400, min_samples_split=5, min_samples_leaf=1, max_features=sqrt, max_depth=30, bootstrap=True, total=   4.4s\n",
      "[CV] n_estimators=2000, min_samples_split=5, min_samples_leaf=1, max_features=sqrt, max_depth=10, bootstrap=True \n",
      "[CV]  n_estimators=400, min_samples_split=5, min_samples_leaf=1, max_features=sqrt, max_depth=30, bootstrap=True, total=   4.5s\n",
      "[CV] n_estimators=2000, min_samples_split=5, min_samples_leaf=1, max_features=sqrt, max_depth=10, bootstrap=True \n",
      "[CV]  n_estimators=400, min_samples_split=5, min_samples_leaf=1, max_features=sqrt, max_depth=30, bootstrap=True, total=   4.6s\n",
      "[CV] n_estimators=1200, min_samples_split=5, min_samples_leaf=2, max_features=sqrt, max_depth=10, bootstrap=False \n",
      "[CV]  n_estimators=1200, min_samples_split=5, min_samples_leaf=2, max_features=sqrt, max_depth=10, bootstrap=False, total=  11.5s\n",
      "[CV] n_estimators=1200, min_samples_split=5, min_samples_leaf=2, max_features=sqrt, max_depth=10, bootstrap=False \n",
      "[CV]  n_estimators=2000, min_samples_split=5, min_samples_leaf=1, max_features=sqrt, max_depth=10, bootstrap=True, total=  16.0s\n",
      "[CV] n_estimators=1200, min_samples_split=5, min_samples_leaf=2, max_features=sqrt, max_depth=10, bootstrap=False \n",
      "[CV]  n_estimators=2000, min_samples_split=5, min_samples_leaf=1, max_features=sqrt, max_depth=10, bootstrap=True, total=  15.8s\n",
      "[CV] n_estimators=2000, min_samples_split=2, min_samples_leaf=4, max_features=auto, max_depth=30, bootstrap=False \n",
      "[CV]  n_estimators=2000, min_samples_split=5, min_samples_leaf=1, max_features=sqrt, max_depth=10, bootstrap=True, total=  15.8s\n",
      "[CV] n_estimators=2000, min_samples_split=2, min_samples_leaf=4, max_features=auto, max_depth=30, bootstrap=False \n",
      "[CV]  n_estimators=1200, min_samples_split=5, min_samples_leaf=2, max_features=sqrt, max_depth=10, bootstrap=False, total=  12.2s\n",
      "[CV] n_estimators=2000, min_samples_split=2, min_samples_leaf=4, max_features=auto, max_depth=30, bootstrap=False \n",
      "[CV]  n_estimators=1200, min_samples_split=5, min_samples_leaf=2, max_features=sqrt, max_depth=10, bootstrap=False, total=  12.2s\n",
      "[CV] n_estimators=1600, min_samples_split=2, min_samples_leaf=4, max_features=sqrt, max_depth=10, bootstrap=True \n",
      "[CV]  n_estimators=1600, min_samples_split=2, min_samples_leaf=4, max_features=sqrt, max_depth=10, bootstrap=True, total=  12.4s\n",
      "[CV] n_estimators=1600, min_samples_split=2, min_samples_leaf=4, max_features=sqrt, max_depth=10, bootstrap=True \n",
      "[CV]  n_estimators=1600, min_samples_split=2, min_samples_leaf=4, max_features=sqrt, max_depth=10, bootstrap=True, total=  14.2s\n",
      "[CV] n_estimators=1600, min_samples_split=2, min_samples_leaf=4, max_features=sqrt, max_depth=10, bootstrap=True \n",
      "[CV]  n_estimators=1600, min_samples_split=2, min_samples_leaf=4, max_features=sqrt, max_depth=10, bootstrap=True, total=  11.8s\n",
      "[CV] n_estimators=800, min_samples_split=5, min_samples_leaf=4, max_features=sqrt, max_depth=30, bootstrap=False \n",
      "[CV]  n_estimators=2000, min_samples_split=2, min_samples_leaf=4, max_features=auto, max_depth=30, bootstrap=False, total=  55.9s\n",
      "[CV] n_estimators=800, min_samples_split=5, min_samples_leaf=4, max_features=sqrt, max_depth=30, bootstrap=False \n",
      "[CV]  n_estimators=2000, min_samples_split=2, min_samples_leaf=4, max_features=auto, max_depth=30, bootstrap=False, total=  56.6s\n",
      "[CV] n_estimators=800, min_samples_split=5, min_samples_leaf=4, max_features=sqrt, max_depth=30, bootstrap=False \n",
      "[CV]  n_estimators=800, min_samples_split=5, min_samples_leaf=4, max_features=sqrt, max_depth=30, bootstrap=False, total=   9.7s\n",
      "[CV] n_estimators=1000, min_samples_split=5, min_samples_leaf=2, max_features=sqrt, max_depth=100, bootstrap=False \n",
      "[CV]  n_estimators=2000, min_samples_split=2, min_samples_leaf=4, max_features=auto, max_depth=30, bootstrap=False, total=  56.4s\n",
      "[CV] n_estimators=1000, min_samples_split=5, min_samples_leaf=2, max_features=sqrt, max_depth=100, bootstrap=False \n",
      "[CV]  n_estimators=800, min_samples_split=5, min_samples_leaf=4, max_features=sqrt, max_depth=30, bootstrap=False, total=   9.4s\n",
      "[CV] n_estimators=1000, min_samples_split=5, min_samples_leaf=2, max_features=sqrt, max_depth=100, bootstrap=False \n",
      "[CV]  n_estimators=800, min_samples_split=5, min_samples_leaf=4, max_features=sqrt, max_depth=30, bootstrap=False, total=   9.7s\n",
      "[CV] n_estimators=600, min_samples_split=5, min_samples_leaf=1, max_features=sqrt, max_depth=60, bootstrap=False \n",
      "[CV]  n_estimators=1000, min_samples_split=5, min_samples_leaf=2, max_features=sqrt, max_depth=100, bootstrap=False, total=  14.1s\n",
      "[CV] n_estimators=600, min_samples_split=5, min_samples_leaf=1, max_features=sqrt, max_depth=60, bootstrap=False \n",
      "[CV]  n_estimators=600, min_samples_split=5, min_samples_leaf=1, max_features=sqrt, max_depth=60, bootstrap=False, total=   9.6s\n",
      "[CV] n_estimators=600, min_samples_split=5, min_samples_leaf=1, max_features=sqrt, max_depth=60, bootstrap=False \n",
      "[CV]  n_estimators=1000, min_samples_split=5, min_samples_leaf=2, max_features=sqrt, max_depth=100, bootstrap=False, total=  14.1s\n",
      "[CV] n_estimators=1000, min_samples_split=2, min_samples_leaf=1, max_features=auto, max_depth=50, bootstrap=False \n",
      "[CV]  n_estimators=1000, min_samples_split=5, min_samples_leaf=2, max_features=sqrt, max_depth=100, bootstrap=False, total=  13.6s\n",
      "[CV] n_estimators=1000, min_samples_split=2, min_samples_leaf=1, max_features=auto, max_depth=50, bootstrap=False \n",
      "[CV]  n_estimators=600, min_samples_split=5, min_samples_leaf=1, max_features=sqrt, max_depth=60, bootstrap=False, total=   8.8s\n",
      "[CV] n_estimators=1000, min_samples_split=2, min_samples_leaf=1, max_features=auto, max_depth=50, bootstrap=False \n",
      "[CV]  n_estimators=600, min_samples_split=5, min_samples_leaf=1, max_features=sqrt, max_depth=60, bootstrap=False, total=   8.9s\n",
      "[CV] n_estimators=1800, min_samples_split=5, min_samples_leaf=4, max_features=auto, max_depth=10, bootstrap=False \n",
      "[CV]  n_estimators=1000, min_samples_split=2, min_samples_leaf=1, max_features=auto, max_depth=50, bootstrap=False, total=  39.3s\n",
      "[CV] n_estimators=1800, min_samples_split=5, min_samples_leaf=4, max_features=auto, max_depth=10, bootstrap=False \n",
      "[CV]  n_estimators=1000, min_samples_split=2, min_samples_leaf=1, max_features=auto, max_depth=50, bootstrap=False, total=  39.3s\n",
      "[CV] n_estimators=1800, min_samples_split=5, min_samples_leaf=4, max_features=auto, max_depth=10, bootstrap=False \n",
      "[CV]  n_estimators=1000, min_samples_split=2, min_samples_leaf=1, max_features=auto, max_depth=50, bootstrap=False, total=  39.5s\n",
      "[CV] n_estimators=400, min_samples_split=10, min_samples_leaf=4, max_features=auto, max_depth=70, bootstrap=True \n",
      "[CV]  n_estimators=1800, min_samples_split=5, min_samples_leaf=4, max_features=auto, max_depth=10, bootstrap=False, total=  38.2s\n",
      "[CV] n_estimators=400, min_samples_split=10, min_samples_leaf=4, max_features=auto, max_depth=70, bootstrap=True \n",
      "[CV]  n_estimators=400, min_samples_split=10, min_samples_leaf=4, max_features=auto, max_depth=70, bootstrap=True, total=   6.6s\n",
      "[CV] n_estimators=400, min_samples_split=10, min_samples_leaf=4, max_features=auto, max_depth=70, bootstrap=True \n",
      "[CV]  n_estimators=400, min_samples_split=10, min_samples_leaf=4, max_features=auto, max_depth=70, bootstrap=True, total=   6.8s\n",
      "[CV] n_estimators=800, min_samples_split=5, min_samples_leaf=1, max_features=sqrt, max_depth=90, bootstrap=False \n",
      "[CV]  n_estimators=400, min_samples_split=10, min_samples_leaf=4, max_features=auto, max_depth=70, bootstrap=True, total=   7.0s\n",
      "[CV] n_estimators=800, min_samples_split=5, min_samples_leaf=1, max_features=sqrt, max_depth=90, bootstrap=False \n",
      "[CV]  n_estimators=800, min_samples_split=5, min_samples_leaf=1, max_features=sqrt, max_depth=90, bootstrap=False, total=  11.5s\n"
     ]
    },
    {
     "name": "stdout",
     "output_type": "stream",
     "text": [
      "[CV] n_estimators=800, min_samples_split=5, min_samples_leaf=1, max_features=sqrt, max_depth=90, bootstrap=False \n",
      "[CV]  n_estimators=800, min_samples_split=5, min_samples_leaf=1, max_features=sqrt, max_depth=90, bootstrap=False, total=  11.6s\n",
      "[CV] n_estimators=2000, min_samples_split=10, min_samples_leaf=1, max_features=sqrt, max_depth=10, bootstrap=False \n"
     ]
    },
    {
     "name": "stderr",
     "output_type": "stream",
     "text": [
      "[Parallel(n_jobs=-1)]: Done  33 tasks      | elapsed:  3.0min\n"
     ]
    },
    {
     "name": "stdout",
     "output_type": "stream",
     "text": [
      "[CV]  n_estimators=800, min_samples_split=5, min_samples_leaf=1, max_features=sqrt, max_depth=90, bootstrap=False, total=  11.4s\n",
      "[CV] n_estimators=2000, min_samples_split=10, min_samples_leaf=1, max_features=sqrt, max_depth=10, bootstrap=False \n",
      "[CV]  n_estimators=1800, min_samples_split=5, min_samples_leaf=4, max_features=auto, max_depth=10, bootstrap=False, total=  37.9s\n",
      "[CV] n_estimators=2000, min_samples_split=10, min_samples_leaf=1, max_features=sqrt, max_depth=10, bootstrap=False \n",
      "[CV]  n_estimators=1800, min_samples_split=5, min_samples_leaf=4, max_features=auto, max_depth=10, bootstrap=False, total=  37.3s\n",
      "[CV] n_estimators=1600, min_samples_split=5, min_samples_leaf=2, max_features=sqrt, max_depth=10, bootstrap=False \n",
      "[CV]  n_estimators=2000, min_samples_split=10, min_samples_leaf=1, max_features=sqrt, max_depth=10, bootstrap=False, total=  18.4s\n",
      "[CV] n_estimators=1600, min_samples_split=5, min_samples_leaf=2, max_features=sqrt, max_depth=10, bootstrap=False \n",
      "[CV]  n_estimators=1600, min_samples_split=5, min_samples_leaf=2, max_features=sqrt, max_depth=10, bootstrap=False, total=  15.3s\n",
      "[CV] n_estimators=1600, min_samples_split=5, min_samples_leaf=2, max_features=sqrt, max_depth=10, bootstrap=False \n",
      "[CV]  n_estimators=2000, min_samples_split=10, min_samples_leaf=1, max_features=sqrt, max_depth=10, bootstrap=False, total=  18.5s\n",
      "[CV] n_estimators=800, min_samples_split=10, min_samples_leaf=2, max_features=sqrt, max_depth=30, bootstrap=False \n",
      "[CV]  n_estimators=2000, min_samples_split=10, min_samples_leaf=1, max_features=sqrt, max_depth=10, bootstrap=False, total=  18.8s\n",
      "[CV] n_estimators=800, min_samples_split=10, min_samples_leaf=2, max_features=sqrt, max_depth=30, bootstrap=False \n",
      "[CV]  n_estimators=800, min_samples_split=10, min_samples_leaf=2, max_features=sqrt, max_depth=30, bootstrap=False, total=   9.6s\n",
      "[CV] n_estimators=800, min_samples_split=10, min_samples_leaf=2, max_features=sqrt, max_depth=30, bootstrap=False \n",
      "[CV]  n_estimators=1600, min_samples_split=5, min_samples_leaf=2, max_features=sqrt, max_depth=10, bootstrap=False, total=  15.1s\n",
      "[CV] n_estimators=1800, min_samples_split=2, min_samples_leaf=4, max_features=auto, max_depth=50, bootstrap=False \n",
      "[CV]  n_estimators=800, min_samples_split=10, min_samples_leaf=2, max_features=sqrt, max_depth=30, bootstrap=False, total=   9.6s\n",
      "[CV] n_estimators=1800, min_samples_split=2, min_samples_leaf=4, max_features=auto, max_depth=50, bootstrap=False \n",
      "[CV]  n_estimators=1600, min_samples_split=5, min_samples_leaf=2, max_features=sqrt, max_depth=10, bootstrap=False, total=  15.1s\n",
      "[CV] n_estimators=1800, min_samples_split=2, min_samples_leaf=4, max_features=auto, max_depth=50, bootstrap=False \n",
      "[CV]  n_estimators=800, min_samples_split=10, min_samples_leaf=2, max_features=sqrt, max_depth=30, bootstrap=False, total=   9.6s\n",
      "[CV] n_estimators=600, min_samples_split=5, min_samples_leaf=2, max_features=auto, max_depth=70, bootstrap=False \n",
      "[CV]  n_estimators=600, min_samples_split=5, min_samples_leaf=2, max_features=auto, max_depth=70, bootstrap=False, total=  17.9s\n",
      "[CV] n_estimators=600, min_samples_split=5, min_samples_leaf=2, max_features=auto, max_depth=70, bootstrap=False \n",
      "[CV]  n_estimators=600, min_samples_split=5, min_samples_leaf=2, max_features=auto, max_depth=70, bootstrap=False, total=  17.6s\n",
      "[CV] n_estimators=600, min_samples_split=5, min_samples_leaf=2, max_features=auto, max_depth=70, bootstrap=False \n",
      "[CV]  n_estimators=1800, min_samples_split=2, min_samples_leaf=4, max_features=auto, max_depth=50, bootstrap=False, total=  46.1s\n",
      "[CV] n_estimators=1000, min_samples_split=2, min_samples_leaf=1, max_features=sqrt, max_depth=20, bootstrap=True \n",
      "[CV]  n_estimators=1800, min_samples_split=2, min_samples_leaf=4, max_features=auto, max_depth=50, bootstrap=False, total=  45.8s\n",
      "[CV] n_estimators=1000, min_samples_split=2, min_samples_leaf=1, max_features=sqrt, max_depth=20, bootstrap=True \n",
      "[CV]  n_estimators=1800, min_samples_split=2, min_samples_leaf=4, max_features=auto, max_depth=50, bootstrap=False, total=  46.3s\n",
      "[CV] n_estimators=1000, min_samples_split=2, min_samples_leaf=1, max_features=sqrt, max_depth=20, bootstrap=True \n",
      "[CV]  n_estimators=1000, min_samples_split=2, min_samples_leaf=1, max_features=sqrt, max_depth=20, bootstrap=True, total=  12.8s\n",
      "[CV] n_estimators=1800, min_samples_split=10, min_samples_leaf=2, max_features=auto, max_depth=110, bootstrap=False \n",
      "[CV]  n_estimators=1000, min_samples_split=2, min_samples_leaf=1, max_features=sqrt, max_depth=20, bootstrap=True, total=  12.7s\n",
      "[CV] n_estimators=1800, min_samples_split=10, min_samples_leaf=2, max_features=auto, max_depth=110, bootstrap=False \n",
      "[CV]  n_estimators=600, min_samples_split=5, min_samples_leaf=2, max_features=auto, max_depth=70, bootstrap=False, total=  18.1s\n",
      "[CV]  n_estimators=1000, min_samples_split=2, min_samples_leaf=1, max_features=sqrt, max_depth=20, bootstrap=True, total=  12.6s\n",
      "[CV] n_estimators=1800, min_samples_split=10, min_samples_leaf=2, max_features=auto, max_depth=110, bootstrap=False \n",
      "[CV] n_estimators=600, min_samples_split=5, min_samples_leaf=1, max_features=auto, max_depth=80, bootstrap=True \n",
      "[CV]  n_estimators=600, min_samples_split=5, min_samples_leaf=1, max_features=auto, max_depth=80, bootstrap=True, total=  12.5s\n",
      "[CV] n_estimators=600, min_samples_split=5, min_samples_leaf=1, max_features=auto, max_depth=80, bootstrap=True \n",
      "[CV]  n_estimators=600, min_samples_split=5, min_samples_leaf=1, max_features=auto, max_depth=80, bootstrap=True, total=  12.4s\n",
      "[CV] n_estimators=600, min_samples_split=5, min_samples_leaf=1, max_features=auto, max_depth=80, bootstrap=True \n",
      "[CV]  n_estimators=600, min_samples_split=5, min_samples_leaf=1, max_features=auto, max_depth=80, bootstrap=True, total=  12.4s\n",
      "[CV] n_estimators=1800, min_samples_split=10, min_samples_leaf=1, max_features=sqrt, max_depth=30, bootstrap=False \n",
      "[CV]  n_estimators=1800, min_samples_split=10, min_samples_leaf=2, max_features=auto, max_depth=110, bootstrap=False, total=  47.3s\n",
      "[CV] n_estimators=1800, min_samples_split=10, min_samples_leaf=1, max_features=sqrt, max_depth=30, bootstrap=False \n",
      "[CV]  n_estimators=1800, min_samples_split=10, min_samples_leaf=2, max_features=auto, max_depth=110, bootstrap=False, total=  47.8s\n",
      "[CV] n_estimators=1800, min_samples_split=10, min_samples_leaf=1, max_features=sqrt, max_depth=30, bootstrap=False \n",
      "[CV]  n_estimators=1800, min_samples_split=10, min_samples_leaf=2, max_features=auto, max_depth=110, bootstrap=False, total=  47.4s\n",
      "[CV] n_estimators=1600, min_samples_split=5, min_samples_leaf=1, max_features=sqrt, max_depth=70, bootstrap=False \n",
      "[CV]  n_estimators=1800, min_samples_split=10, min_samples_leaf=1, max_features=sqrt, max_depth=30, bootstrap=False, total=  22.0s\n",
      "[CV] n_estimators=1600, min_samples_split=5, min_samples_leaf=1, max_features=sqrt, max_depth=70, bootstrap=False \n",
      "[CV]  n_estimators=1800, min_samples_split=10, min_samples_leaf=1, max_features=sqrt, max_depth=30, bootstrap=False, total=  22.0s\n",
      "[CV] n_estimators=1600, min_samples_split=5, min_samples_leaf=1, max_features=sqrt, max_depth=70, bootstrap=False \n",
      "[CV]  n_estimators=1800, min_samples_split=10, min_samples_leaf=1, max_features=sqrt, max_depth=30, bootstrap=False, total=  22.0s\n",
      "[CV] n_estimators=1400, min_samples_split=5, min_samples_leaf=4, max_features=sqrt, max_depth=80, bootstrap=True \n",
      "[CV]  n_estimators=1600, min_samples_split=5, min_samples_leaf=1, max_features=sqrt, max_depth=70, bootstrap=False, total=  23.3s\n",
      "[CV] n_estimators=1400, min_samples_split=5, min_samples_leaf=4, max_features=sqrt, max_depth=80, bootstrap=True \n",
      "[CV]  n_estimators=1400, min_samples_split=5, min_samples_leaf=4, max_features=sqrt, max_depth=80, bootstrap=True, total=  12.3s\n",
      "[CV] n_estimators=1400, min_samples_split=5, min_samples_leaf=4, max_features=sqrt, max_depth=80, bootstrap=True \n",
      "[CV]  n_estimators=1400, min_samples_split=5, min_samples_leaf=4, max_features=sqrt, max_depth=80, bootstrap=True, total=  12.2s\n",
      "[CV] n_estimators=1800, min_samples_split=2, min_samples_leaf=2, max_features=auto, max_depth=None, bootstrap=True \n",
      "[CV]  n_estimators=1600, min_samples_split=5, min_samples_leaf=1, max_features=sqrt, max_depth=70, bootstrap=False, total=  23.1s\n"
     ]
    },
    {
     "name": "stdout",
     "output_type": "stream",
     "text": [
      "[CV] n_estimators=1800, min_samples_split=2, min_samples_leaf=2, max_features=auto, max_depth=None, bootstrap=True \n",
      "[CV]  n_estimators=1600, min_samples_split=5, min_samples_leaf=1, max_features=sqrt, max_depth=70, bootstrap=False, total=  23.5s\n",
      "[CV] n_estimators=1800, min_samples_split=2, min_samples_leaf=2, max_features=auto, max_depth=None, bootstrap=True \n",
      "[CV]  n_estimators=1400, min_samples_split=5, min_samples_leaf=4, max_features=sqrt, max_depth=80, bootstrap=True, total=  12.1s\n",
      "[CV] n_estimators=1400, min_samples_split=5, min_samples_leaf=1, max_features=sqrt, max_depth=80, bootstrap=False \n",
      "[CV]  n_estimators=1400, min_samples_split=5, min_samples_leaf=1, max_features=sqrt, max_depth=80, bootstrap=False, total=  19.8s\n",
      "[CV] n_estimators=1400, min_samples_split=5, min_samples_leaf=1, max_features=sqrt, max_depth=80, bootstrap=False \n",
      "[CV]  n_estimators=1800, min_samples_split=2, min_samples_leaf=2, max_features=auto, max_depth=None, bootstrap=True, total=  36.8s\n",
      "[CV] n_estimators=1400, min_samples_split=5, min_samples_leaf=1, max_features=sqrt, max_depth=80, bootstrap=False \n",
      "[CV]  n_estimators=1800, min_samples_split=2, min_samples_leaf=2, max_features=auto, max_depth=None, bootstrap=True, total=  37.2s\n",
      "[CV] n_estimators=400, min_samples_split=2, min_samples_leaf=1, max_features=sqrt, max_depth=None, bootstrap=False \n",
      "[CV]  n_estimators=1800, min_samples_split=2, min_samples_leaf=2, max_features=auto, max_depth=None, bootstrap=True, total=  37.1s\n",
      "[CV] n_estimators=400, min_samples_split=2, min_samples_leaf=1, max_features=sqrt, max_depth=None, bootstrap=False \n",
      "[CV]  n_estimators=400, min_samples_split=2, min_samples_leaf=1, max_features=sqrt, max_depth=None, bootstrap=False, total=   7.3s\n",
      "[CV] n_estimators=400, min_samples_split=2, min_samples_leaf=1, max_features=sqrt, max_depth=None, bootstrap=False \n",
      "[CV]  n_estimators=400, min_samples_split=2, min_samples_leaf=1, max_features=sqrt, max_depth=None, bootstrap=False, total=   7.1s\n",
      "[CV] n_estimators=1400, min_samples_split=2, min_samples_leaf=1, max_features=auto, max_depth=40, bootstrap=False \n",
      "[CV]  n_estimators=1400, min_samples_split=5, min_samples_leaf=1, max_features=sqrt, max_depth=80, bootstrap=False, total=  20.5s\n",
      "[CV] n_estimators=1400, min_samples_split=2, min_samples_leaf=1, max_features=auto, max_depth=40, bootstrap=False \n",
      "[CV]  n_estimators=400, min_samples_split=2, min_samples_leaf=1, max_features=sqrt, max_depth=None, bootstrap=False, total=   7.4s\n",
      "[CV] n_estimators=1400, min_samples_split=2, min_samples_leaf=1, max_features=auto, max_depth=40, bootstrap=False \n",
      "[CV]  n_estimators=1400, min_samples_split=5, min_samples_leaf=1, max_features=sqrt, max_depth=80, bootstrap=False, total=  19.9s\n",
      "[CV] n_estimators=1000, min_samples_split=5, min_samples_leaf=2, max_features=sqrt, max_depth=20, bootstrap=True \n",
      "[CV]  n_estimators=1000, min_samples_split=5, min_samples_leaf=2, max_features=sqrt, max_depth=20, bootstrap=True, total=   9.6s\n",
      "[CV] n_estimators=1000, min_samples_split=5, min_samples_leaf=2, max_features=sqrt, max_depth=20, bootstrap=True \n",
      "[CV]  n_estimators=1000, min_samples_split=5, min_samples_leaf=2, max_features=sqrt, max_depth=20, bootstrap=True, total=   9.8s\n",
      "[CV] n_estimators=1000, min_samples_split=5, min_samples_leaf=2, max_features=sqrt, max_depth=20, bootstrap=True \n",
      "[CV]  n_estimators=1000, min_samples_split=5, min_samples_leaf=2, max_features=sqrt, max_depth=20, bootstrap=True, total=   9.6s\n",
      "[CV] n_estimators=2000, min_samples_split=10, min_samples_leaf=4, max_features=auto, max_depth=100, bootstrap=False \n",
      "[CV]  n_estimators=1400, min_samples_split=2, min_samples_leaf=1, max_features=auto, max_depth=40, bootstrap=False, total=  53.0s\n",
      "[CV] n_estimators=2000, min_samples_split=10, min_samples_leaf=4, max_features=auto, max_depth=100, bootstrap=False \n",
      "[CV]  n_estimators=1400, min_samples_split=2, min_samples_leaf=1, max_features=auto, max_depth=40, bootstrap=False, total=  52.6s\n",
      "[CV] n_estimators=2000, min_samples_split=10, min_samples_leaf=4, max_features=auto, max_depth=100, bootstrap=False \n",
      "[CV]  n_estimators=1400, min_samples_split=2, min_samples_leaf=1, max_features=auto, max_depth=40, bootstrap=False, total=  52.8s\n",
      "[CV] n_estimators=1200, min_samples_split=2, min_samples_leaf=2, max_features=sqrt, max_depth=20, bootstrap=True \n",
      "[CV]  n_estimators=1200, min_samples_split=2, min_samples_leaf=2, max_features=sqrt, max_depth=20, bootstrap=True, total=  11.8s\n",
      "[CV] n_estimators=1200, min_samples_split=2, min_samples_leaf=2, max_features=sqrt, max_depth=20, bootstrap=True \n",
      "[CV]  n_estimators=1200, min_samples_split=2, min_samples_leaf=2, max_features=sqrt, max_depth=20, bootstrap=True, total=  11.7s\n",
      "[CV] n_estimators=1200, min_samples_split=2, min_samples_leaf=2, max_features=sqrt, max_depth=20, bootstrap=True \n",
      "[CV]  n_estimators=2000, min_samples_split=10, min_samples_leaf=4, max_features=auto, max_depth=100, bootstrap=False, total=  49.3s\n",
      "[CV] n_estimators=1200, min_samples_split=10, min_samples_leaf=4, max_features=sqrt, max_depth=20, bootstrap=False \n",
      "[CV]  n_estimators=1200, min_samples_split=2, min_samples_leaf=2, max_features=sqrt, max_depth=20, bootstrap=True, total=  12.2s\n",
      "[CV] n_estimators=1200, min_samples_split=10, min_samples_leaf=4, max_features=sqrt, max_depth=20, bootstrap=False \n",
      "[CV]  n_estimators=1200, min_samples_split=10, min_samples_leaf=4, max_features=sqrt, max_depth=20, bootstrap=False, total=  14.1s\n",
      "[CV] n_estimators=1200, min_samples_split=10, min_samples_leaf=4, max_features=sqrt, max_depth=20, bootstrap=False \n",
      "[CV]  n_estimators=2000, min_samples_split=10, min_samples_leaf=4, max_features=auto, max_depth=100, bootstrap=False, total=  49.9s\n",
      "[CV] n_estimators=800, min_samples_split=2, min_samples_leaf=2, max_features=sqrt, max_depth=50, bootstrap=False \n",
      "[CV]  n_estimators=2000, min_samples_split=10, min_samples_leaf=4, max_features=auto, max_depth=100, bootstrap=False, total=  50.3s\n",
      "[CV] n_estimators=800, min_samples_split=2, min_samples_leaf=2, max_features=sqrt, max_depth=50, bootstrap=False \n",
      "[CV]  n_estimators=1200, min_samples_split=10, min_samples_leaf=4, max_features=sqrt, max_depth=20, bootstrap=False, total=  14.6s\n",
      "[CV] n_estimators=800, min_samples_split=2, min_samples_leaf=2, max_features=sqrt, max_depth=50, bootstrap=False \n",
      "[CV]  n_estimators=800, min_samples_split=2, min_samples_leaf=2, max_features=sqrt, max_depth=50, bootstrap=False, total=  11.5s\n",
      "[CV] n_estimators=800, min_samples_split=5, min_samples_leaf=1, max_features=sqrt, max_depth=100, bootstrap=False \n",
      "[CV]  n_estimators=800, min_samples_split=2, min_samples_leaf=2, max_features=sqrt, max_depth=50, bootstrap=False, total=  11.5s\n",
      "[CV] n_estimators=800, min_samples_split=5, min_samples_leaf=1, max_features=sqrt, max_depth=100, bootstrap=False \n",
      "[CV]  n_estimators=1200, min_samples_split=10, min_samples_leaf=4, max_features=sqrt, max_depth=20, bootstrap=False, total=  14.0s\n",
      "[CV] n_estimators=800, min_samples_split=5, min_samples_leaf=1, max_features=sqrt, max_depth=100, bootstrap=False \n",
      "[CV]  n_estimators=800, min_samples_split=2, min_samples_leaf=2, max_features=sqrt, max_depth=50, bootstrap=False, total=  11.4s\n",
      "[CV] n_estimators=800, min_samples_split=10, min_samples_leaf=4, max_features=sqrt, max_depth=50, bootstrap=True \n",
      "[CV]  n_estimators=800, min_samples_split=5, min_samples_leaf=1, max_features=sqrt, max_depth=100, bootstrap=False, total=  11.4s\n",
      "[CV] n_estimators=800, min_samples_split=10, min_samples_leaf=4, max_features=sqrt, max_depth=50, bootstrap=True \n",
      "[CV]  n_estimators=800, min_samples_split=10, min_samples_leaf=4, max_features=sqrt, max_depth=50, bootstrap=True, total=   6.7s\n",
      "[CV] n_estimators=800, min_samples_split=10, min_samples_leaf=4, max_features=sqrt, max_depth=50, bootstrap=True \n",
      "[CV]  n_estimators=800, min_samples_split=5, min_samples_leaf=1, max_features=sqrt, max_depth=100, bootstrap=False, total=  11.3s\n",
      "[CV] n_estimators=1800, min_samples_split=2, min_samples_leaf=4, max_features=sqrt, max_depth=90, bootstrap=True \n",
      "[CV]  n_estimators=800, min_samples_split=5, min_samples_leaf=1, max_features=sqrt, max_depth=100, bootstrap=False, total=  11.6s\n",
      "[CV] n_estimators=1800, min_samples_split=2, min_samples_leaf=4, max_features=sqrt, max_depth=90, bootstrap=True \n"
     ]
    },
    {
     "name": "stdout",
     "output_type": "stream",
     "text": [
      "[CV]  n_estimators=800, min_samples_split=10, min_samples_leaf=4, max_features=sqrt, max_depth=50, bootstrap=True, total=   6.7s\n",
      "[CV] n_estimators=1800, min_samples_split=2, min_samples_leaf=4, max_features=sqrt, max_depth=90, bootstrap=True \n",
      "[CV]  n_estimators=800, min_samples_split=10, min_samples_leaf=4, max_features=sqrt, max_depth=50, bootstrap=True, total=   6.7s\n",
      "[CV] n_estimators=800, min_samples_split=10, min_samples_leaf=2, max_features=sqrt, max_depth=20, bootstrap=False \n",
      "[CV]  n_estimators=1800, min_samples_split=2, min_samples_leaf=4, max_features=sqrt, max_depth=90, bootstrap=True, total=  15.5s\n",
      "[CV] n_estimators=800, min_samples_split=10, min_samples_leaf=2, max_features=sqrt, max_depth=20, bootstrap=False \n",
      "[CV]  n_estimators=800, min_samples_split=10, min_samples_leaf=2, max_features=sqrt, max_depth=20, bootstrap=False, total=   9.5s\n",
      "[CV] n_estimators=800, min_samples_split=10, min_samples_leaf=2, max_features=sqrt, max_depth=20, bootstrap=False \n",
      "[CV]  n_estimators=1800, min_samples_split=2, min_samples_leaf=4, max_features=sqrt, max_depth=90, bootstrap=True, total=  15.6s\n",
      "[CV] n_estimators=1200, min_samples_split=5, min_samples_leaf=2, max_features=sqrt, max_depth=20, bootstrap=True \n",
      "[CV]  n_estimators=1800, min_samples_split=2, min_samples_leaf=4, max_features=sqrt, max_depth=90, bootstrap=True, total=  15.5s\n",
      "[CV] n_estimators=1200, min_samples_split=5, min_samples_leaf=2, max_features=sqrt, max_depth=20, bootstrap=True \n",
      "[CV]  n_estimators=800, min_samples_split=10, min_samples_leaf=2, max_features=sqrt, max_depth=20, bootstrap=False, total=   9.7s\n",
      "[CV] n_estimators=1200, min_samples_split=5, min_samples_leaf=2, max_features=sqrt, max_depth=20, bootstrap=True \n",
      "[CV]  n_estimators=800, min_samples_split=10, min_samples_leaf=2, max_features=sqrt, max_depth=20, bootstrap=False, total=   9.6s\n",
      "[CV] n_estimators=800, min_samples_split=2, min_samples_leaf=1, max_features=auto, max_depth=100, bootstrap=True \n",
      "[CV]  n_estimators=1200, min_samples_split=5, min_samples_leaf=2, max_features=sqrt, max_depth=20, bootstrap=True, total=  11.5s\n",
      "[CV] n_estimators=800, min_samples_split=2, min_samples_leaf=1, max_features=auto, max_depth=100, bootstrap=True \n",
      "[CV]  n_estimators=1200, min_samples_split=5, min_samples_leaf=2, max_features=sqrt, max_depth=20, bootstrap=True, total=  11.9s\n",
      "[CV] n_estimators=800, min_samples_split=2, min_samples_leaf=1, max_features=auto, max_depth=100, bootstrap=True \n",
      "[CV]  n_estimators=1200, min_samples_split=5, min_samples_leaf=2, max_features=sqrt, max_depth=20, bootstrap=True, total=  11.6s\n",
      "[CV] n_estimators=800, min_samples_split=5, min_samples_leaf=2, max_features=auto, max_depth=None, bootstrap=True \n",
      "[CV]  n_estimators=800, min_samples_split=2, min_samples_leaf=1, max_features=auto, max_depth=100, bootstrap=True, total=  20.1s\n",
      "[CV] n_estimators=800, min_samples_split=5, min_samples_leaf=2, max_features=auto, max_depth=None, bootstrap=True \n",
      "[CV]  n_estimators=800, min_samples_split=2, min_samples_leaf=1, max_features=auto, max_depth=100, bootstrap=True, total=  20.1s\n",
      "[CV] n_estimators=800, min_samples_split=5, min_samples_leaf=2, max_features=auto, max_depth=None, bootstrap=True \n",
      "[CV]  n_estimators=800, min_samples_split=5, min_samples_leaf=2, max_features=auto, max_depth=None, bootstrap=True, total=  16.1s\n",
      "[CV] n_estimators=1000, min_samples_split=2, min_samples_leaf=2, max_features=sqrt, max_depth=60, bootstrap=True \n",
      "[CV]  n_estimators=800, min_samples_split=2, min_samples_leaf=1, max_features=auto, max_depth=100, bootstrap=True, total=  20.1s\n",
      "[CV] n_estimators=1000, min_samples_split=2, min_samples_leaf=2, max_features=sqrt, max_depth=60, bootstrap=True \n",
      "[CV]  n_estimators=800, min_samples_split=5, min_samples_leaf=2, max_features=auto, max_depth=None, bootstrap=True, total=  15.9s\n",
      "[CV] n_estimators=1000, min_samples_split=2, min_samples_leaf=2, max_features=sqrt, max_depth=60, bootstrap=True \n",
      "[CV]  n_estimators=1000, min_samples_split=2, min_samples_leaf=2, max_features=sqrt, max_depth=60, bootstrap=True, total=  10.2s\n",
      "[CV] n_estimators=200, min_samples_split=5, min_samples_leaf=4, max_features=auto, max_depth=10, bootstrap=True \n",
      "[CV]  n_estimators=800, min_samples_split=5, min_samples_leaf=2, max_features=auto, max_depth=None, bootstrap=True, total=  15.9s\n",
      "[CV] n_estimators=200, min_samples_split=5, min_samples_leaf=4, max_features=auto, max_depth=10, bootstrap=True \n",
      "[CV]  n_estimators=1000, min_samples_split=2, min_samples_leaf=2, max_features=sqrt, max_depth=60, bootstrap=True, total=  10.1s\n",
      "[CV] n_estimators=200, min_samples_split=5, min_samples_leaf=4, max_features=auto, max_depth=10, bootstrap=True \n",
      "[CV]  n_estimators=200, min_samples_split=5, min_samples_leaf=4, max_features=auto, max_depth=10, bootstrap=True, total=   3.0s\n",
      "[CV] n_estimators=600, min_samples_split=10, min_samples_leaf=2, max_features=sqrt, max_depth=60, bootstrap=True \n",
      "[CV]  n_estimators=200, min_samples_split=5, min_samples_leaf=4, max_features=auto, max_depth=10, bootstrap=True, total=   3.0s\n",
      "[CV] n_estimators=600, min_samples_split=10, min_samples_leaf=2, max_features=sqrt, max_depth=60, bootstrap=True \n",
      "[CV]  n_estimators=200, min_samples_split=5, min_samples_leaf=4, max_features=auto, max_depth=10, bootstrap=True, total=   3.0s\n",
      "[CV] n_estimators=600, min_samples_split=10, min_samples_leaf=2, max_features=sqrt, max_depth=60, bootstrap=True \n",
      "[CV]  n_estimators=1000, min_samples_split=2, min_samples_leaf=2, max_features=sqrt, max_depth=60, bootstrap=True, total=  10.3s\n",
      "[CV] n_estimators=800, min_samples_split=2, min_samples_leaf=4, max_features=sqrt, max_depth=90, bootstrap=True \n",
      "[CV]  n_estimators=600, min_samples_split=10, min_samples_leaf=2, max_features=sqrt, max_depth=60, bootstrap=True, total=   5.4s\n",
      "[CV] n_estimators=800, min_samples_split=2, min_samples_leaf=4, max_features=sqrt, max_depth=90, bootstrap=True \n",
      "[CV]  n_estimators=600, min_samples_split=10, min_samples_leaf=2, max_features=sqrt, max_depth=60, bootstrap=True, total=   5.3s\n",
      "[CV] n_estimators=800, min_samples_split=2, min_samples_leaf=4, max_features=sqrt, max_depth=90, bootstrap=True \n",
      "[CV]  n_estimators=600, min_samples_split=10, min_samples_leaf=2, max_features=sqrt, max_depth=60, bootstrap=True, total=   5.4s\n",
      "[CV] n_estimators=400, min_samples_split=10, min_samples_leaf=4, max_features=sqrt, max_depth=90, bootstrap=True \n",
      "[CV]  n_estimators=400, min_samples_split=10, min_samples_leaf=4, max_features=sqrt, max_depth=90, bootstrap=True, total=   3.3s\n",
      "[CV] n_estimators=400, min_samples_split=10, min_samples_leaf=4, max_features=sqrt, max_depth=90, bootstrap=True \n",
      "[CV]  n_estimators=800, min_samples_split=2, min_samples_leaf=4, max_features=sqrt, max_depth=90, bootstrap=True, total=   7.1s\n",
      "[CV] n_estimators=400, min_samples_split=10, min_samples_leaf=4, max_features=sqrt, max_depth=90, bootstrap=True \n",
      "[CV]  n_estimators=800, min_samples_split=2, min_samples_leaf=4, max_features=sqrt, max_depth=90, bootstrap=True, total=   7.1s\n",
      "[CV] n_estimators=200, min_samples_split=5, min_samples_leaf=2, max_features=auto, max_depth=90, bootstrap=False \n",
      "[CV]  n_estimators=800, min_samples_split=2, min_samples_leaf=4, max_features=sqrt, max_depth=90, bootstrap=True, total=   7.0s\n",
      "[CV] n_estimators=200, min_samples_split=5, min_samples_leaf=2, max_features=auto, max_depth=90, bootstrap=False \n",
      "[CV]  n_estimators=400, min_samples_split=10, min_samples_leaf=4, max_features=sqrt, max_depth=90, bootstrap=True, total=   3.6s\n",
      "[CV] n_estimators=200, min_samples_split=5, min_samples_leaf=2, max_features=auto, max_depth=90, bootstrap=False \n",
      "[CV]  n_estimators=400, min_samples_split=10, min_samples_leaf=4, max_features=sqrt, max_depth=90, bootstrap=True, total=   3.6s\n",
      "[CV] n_estimators=1000, min_samples_split=2, min_samples_leaf=1, max_features=sqrt, max_depth=110, bootstrap=True \n",
      "[CV]  n_estimators=200, min_samples_split=5, min_samples_leaf=2, max_features=auto, max_depth=90, bootstrap=False, total=   6.0s\n",
      "[CV] n_estimators=1000, min_samples_split=2, min_samples_leaf=1, max_features=sqrt, max_depth=110, bootstrap=True \n",
      "[CV]  n_estimators=200, min_samples_split=5, min_samples_leaf=2, max_features=auto, max_depth=90, bootstrap=False, total=   6.0s\n",
      "[CV] n_estimators=1000, min_samples_split=2, min_samples_leaf=1, max_features=sqrt, max_depth=110, bootstrap=True \n"
     ]
    },
    {
     "name": "stdout",
     "output_type": "stream",
     "text": [
      "[CV]  n_estimators=200, min_samples_split=5, min_samples_leaf=2, max_features=auto, max_depth=90, bootstrap=False, total=   5.9s\n",
      "[CV] n_estimators=2000, min_samples_split=2, min_samples_leaf=2, max_features=auto, max_depth=90, bootstrap=True \n",
      "[CV]  n_estimators=1000, min_samples_split=2, min_samples_leaf=1, max_features=sqrt, max_depth=110, bootstrap=True, total=  12.8s\n",
      "[CV] n_estimators=2000, min_samples_split=2, min_samples_leaf=2, max_features=auto, max_depth=90, bootstrap=True \n",
      "[CV]  n_estimators=1000, min_samples_split=2, min_samples_leaf=1, max_features=sqrt, max_depth=110, bootstrap=True, total=  12.9s\n",
      "[CV] n_estimators=2000, min_samples_split=2, min_samples_leaf=2, max_features=auto, max_depth=90, bootstrap=True \n",
      "[CV]  n_estimators=1000, min_samples_split=2, min_samples_leaf=1, max_features=sqrt, max_depth=110, bootstrap=True, total=  13.0s\n",
      "[CV] n_estimators=400, min_samples_split=10, min_samples_leaf=4, max_features=sqrt, max_depth=80, bootstrap=False \n",
      "[CV]  n_estimators=400, min_samples_split=10, min_samples_leaf=4, max_features=sqrt, max_depth=80, bootstrap=False, total=   4.5s\n",
      "[CV] n_estimators=400, min_samples_split=10, min_samples_leaf=4, max_features=sqrt, max_depth=80, bootstrap=False \n",
      "[CV]  n_estimators=400, min_samples_split=10, min_samples_leaf=4, max_features=sqrt, max_depth=80, bootstrap=False, total=   4.5s\n",
      "[CV] n_estimators=400, min_samples_split=10, min_samples_leaf=4, max_features=sqrt, max_depth=80, bootstrap=False \n",
      "[CV]  n_estimators=400, min_samples_split=10, min_samples_leaf=4, max_features=sqrt, max_depth=80, bootstrap=False, total=   4.5s\n",
      "[CV] n_estimators=1200, min_samples_split=2, min_samples_leaf=4, max_features=sqrt, max_depth=70, bootstrap=False \n",
      "[CV]  n_estimators=2000, min_samples_split=2, min_samples_leaf=2, max_features=auto, max_depth=90, bootstrap=True, total=  40.6s\n",
      "[CV] n_estimators=1200, min_samples_split=2, min_samples_leaf=4, max_features=sqrt, max_depth=70, bootstrap=False \n",
      "[CV]  n_estimators=1200, min_samples_split=2, min_samples_leaf=4, max_features=sqrt, max_depth=70, bootstrap=False, total=  14.1s\n",
      "[CV] n_estimators=1200, min_samples_split=2, min_samples_leaf=4, max_features=sqrt, max_depth=70, bootstrap=False \n",
      "[CV]  n_estimators=2000, min_samples_split=2, min_samples_leaf=2, max_features=auto, max_depth=90, bootstrap=True, total=  41.1s\n",
      "[CV] n_estimators=600, min_samples_split=2, min_samples_leaf=2, max_features=sqrt, max_depth=110, bootstrap=False \n",
      "[CV]  n_estimators=2000, min_samples_split=2, min_samples_leaf=2, max_features=auto, max_depth=90, bootstrap=True, total=  40.8s\n",
      "[CV] n_estimators=600, min_samples_split=2, min_samples_leaf=2, max_features=sqrt, max_depth=110, bootstrap=False \n",
      "[CV]  n_estimators=1200, min_samples_split=2, min_samples_leaf=4, max_features=sqrt, max_depth=70, bootstrap=False, total=  14.2s\n",
      "[CV] n_estimators=600, min_samples_split=2, min_samples_leaf=2, max_features=sqrt, max_depth=110, bootstrap=False \n",
      "[CV]  n_estimators=1200, min_samples_split=2, min_samples_leaf=4, max_features=sqrt, max_depth=70, bootstrap=False, total=  14.2s\n",
      "[CV] n_estimators=1800, min_samples_split=2, min_samples_leaf=1, max_features=auto, max_depth=20, bootstrap=False \n",
      "[CV]  n_estimators=600, min_samples_split=2, min_samples_leaf=2, max_features=sqrt, max_depth=110, bootstrap=False, total=   8.5s\n",
      "[CV] n_estimators=1800, min_samples_split=2, min_samples_leaf=1, max_features=auto, max_depth=20, bootstrap=False \n",
      "[CV]  n_estimators=600, min_samples_split=2, min_samples_leaf=2, max_features=sqrt, max_depth=110, bootstrap=False, total=   8.4s\n",
      "[CV] n_estimators=1800, min_samples_split=2, min_samples_leaf=1, max_features=auto, max_depth=20, bootstrap=False \n",
      "[CV]  n_estimators=600, min_samples_split=2, min_samples_leaf=2, max_features=sqrt, max_depth=110, bootstrap=False, total=   8.5s\n",
      "[CV] n_estimators=2000, min_samples_split=10, min_samples_leaf=2, max_features=auto, max_depth=50, bootstrap=False \n",
      "[CV]  n_estimators=2000, min_samples_split=10, min_samples_leaf=2, max_features=auto, max_depth=50, bootstrap=False, total=  52.2s\n",
      "[CV] n_estimators=2000, min_samples_split=10, min_samples_leaf=2, max_features=auto, max_depth=50, bootstrap=False \n",
      "[CV]  n_estimators=1800, min_samples_split=2, min_samples_leaf=1, max_features=auto, max_depth=20, bootstrap=False, total= 1.1min\n",
      "[CV] n_estimators=2000, min_samples_split=10, min_samples_leaf=2, max_features=auto, max_depth=50, bootstrap=False \n",
      "[CV]  n_estimators=1800, min_samples_split=2, min_samples_leaf=1, max_features=auto, max_depth=20, bootstrap=False, total= 1.1min\n",
      "[CV] n_estimators=1000, min_samples_split=10, min_samples_leaf=4, max_features=auto, max_depth=50, bootstrap=False \n",
      "[CV]  n_estimators=1800, min_samples_split=2, min_samples_leaf=1, max_features=auto, max_depth=20, bootstrap=False, total= 1.1min\n",
      "[CV] n_estimators=1000, min_samples_split=10, min_samples_leaf=4, max_features=auto, max_depth=50, bootstrap=False \n"
     ]
    },
    {
     "name": "stderr",
     "output_type": "stream",
     "text": [
      "[Parallel(n_jobs=-1)]: Done 154 tasks      | elapsed: 13.1min\n"
     ]
    },
    {
     "name": "stdout",
     "output_type": "stream",
     "text": [
      "[CV]  n_estimators=1000, min_samples_split=10, min_samples_leaf=4, max_features=auto, max_depth=50, bootstrap=False, total=  24.5s\n",
      "[CV] n_estimators=1000, min_samples_split=10, min_samples_leaf=4, max_features=auto, max_depth=50, bootstrap=False \n",
      "[CV]  n_estimators=1000, min_samples_split=10, min_samples_leaf=4, max_features=auto, max_depth=50, bootstrap=False, total=  24.6s\n",
      "[CV] n_estimators=1000, min_samples_split=5, min_samples_leaf=4, max_features=auto, max_depth=30, bootstrap=False \n",
      "[CV]  n_estimators=2000, min_samples_split=10, min_samples_leaf=2, max_features=auto, max_depth=50, bootstrap=False, total=  52.4s\n",
      "[CV] n_estimators=1000, min_samples_split=5, min_samples_leaf=4, max_features=auto, max_depth=30, bootstrap=False \n",
      "[CV]  n_estimators=1000, min_samples_split=10, min_samples_leaf=4, max_features=auto, max_depth=50, bootstrap=False, total=  24.7s\n",
      "[CV] n_estimators=1000, min_samples_split=5, min_samples_leaf=4, max_features=auto, max_depth=30, bootstrap=False \n",
      "[CV]  n_estimators=2000, min_samples_split=10, min_samples_leaf=2, max_features=auto, max_depth=50, bootstrap=False, total=  52.7s\n",
      "[CV] n_estimators=1400, min_samples_split=5, min_samples_leaf=2, max_features=sqrt, max_depth=None, bootstrap=False \n",
      "[CV]  n_estimators=1000, min_samples_split=5, min_samples_leaf=4, max_features=auto, max_depth=30, bootstrap=False, total=  25.4s\n",
      "[CV] n_estimators=1400, min_samples_split=5, min_samples_leaf=2, max_features=sqrt, max_depth=None, bootstrap=False \n",
      "[CV]  n_estimators=1000, min_samples_split=5, min_samples_leaf=4, max_features=auto, max_depth=30, bootstrap=False, total=  25.4s\n",
      "[CV] n_estimators=1400, min_samples_split=5, min_samples_leaf=2, max_features=sqrt, max_depth=None, bootstrap=False \n",
      "[CV]  n_estimators=1400, min_samples_split=5, min_samples_leaf=2, max_features=sqrt, max_depth=None, bootstrap=False, total=  18.5s\n",
      "[CV] n_estimators=600, min_samples_split=2, min_samples_leaf=4, max_features=sqrt, max_depth=60, bootstrap=False \n",
      "[CV]  n_estimators=1400, min_samples_split=5, min_samples_leaf=2, max_features=sqrt, max_depth=None, bootstrap=False, total=  18.7s\n",
      "[CV] n_estimators=600, min_samples_split=2, min_samples_leaf=4, max_features=sqrt, max_depth=60, bootstrap=False \n",
      "[CV]  n_estimators=1000, min_samples_split=5, min_samples_leaf=4, max_features=auto, max_depth=30, bootstrap=False, total=  26.0s\n",
      "[CV] n_estimators=600, min_samples_split=2, min_samples_leaf=4, max_features=sqrt, max_depth=60, bootstrap=False \n",
      "[CV]  n_estimators=600, min_samples_split=2, min_samples_leaf=4, max_features=sqrt, max_depth=60, bootstrap=False, total=   7.1s\n",
      "[CV] n_estimators=1600, min_samples_split=5, min_samples_leaf=1, max_features=auto, max_depth=10, bootstrap=True \n",
      "[CV]  n_estimators=600, min_samples_split=2, min_samples_leaf=4, max_features=sqrt, max_depth=60, bootstrap=False, total=   7.1s\n",
      "[CV] n_estimators=1600, min_samples_split=5, min_samples_leaf=1, max_features=auto, max_depth=10, bootstrap=True \n",
      "[CV]  n_estimators=600, min_samples_split=2, min_samples_leaf=4, max_features=sqrt, max_depth=60, bootstrap=False, total=   7.2s\n",
      "[CV] n_estimators=1600, min_samples_split=5, min_samples_leaf=1, max_features=auto, max_depth=10, bootstrap=True \n",
      "[CV]  n_estimators=1400, min_samples_split=5, min_samples_leaf=2, max_features=sqrt, max_depth=None, bootstrap=False, total=  18.7s\n",
      "[CV] n_estimators=1800, min_samples_split=2, min_samples_leaf=2, max_features=auto, max_depth=80, bootstrap=True \n",
      "[CV]  n_estimators=1600, min_samples_split=5, min_samples_leaf=1, max_features=auto, max_depth=10, bootstrap=True, total=  24.5s\n",
      "[CV] n_estimators=1800, min_samples_split=2, min_samples_leaf=2, max_features=auto, max_depth=80, bootstrap=True \n",
      "[CV]  n_estimators=1600, min_samples_split=5, min_samples_leaf=1, max_features=auto, max_depth=10, bootstrap=True, total=  24.5s\n",
      "[CV] n_estimators=1800, min_samples_split=2, min_samples_leaf=2, max_features=auto, max_depth=80, bootstrap=True \n",
      "[CV]  n_estimators=1600, min_samples_split=5, min_samples_leaf=1, max_features=auto, max_depth=10, bootstrap=True, total=  24.5s\n",
      "[CV] n_estimators=1400, min_samples_split=2, min_samples_leaf=1, max_features=auto, max_depth=100, bootstrap=True \n",
      "[CV]  n_estimators=1800, min_samples_split=2, min_samples_leaf=2, max_features=auto, max_depth=80, bootstrap=True, total=  36.9s\n",
      "[CV] n_estimators=1400, min_samples_split=2, min_samples_leaf=1, max_features=auto, max_depth=100, bootstrap=True \n",
      "[CV]  n_estimators=1800, min_samples_split=2, min_samples_leaf=2, max_features=auto, max_depth=80, bootstrap=True, total=  36.5s\n",
      "[CV] n_estimators=1400, min_samples_split=2, min_samples_leaf=1, max_features=auto, max_depth=100, bootstrap=True \n",
      "[CV]  n_estimators=1800, min_samples_split=2, min_samples_leaf=2, max_features=auto, max_depth=80, bootstrap=True, total=  36.7s\n",
      "[CV] n_estimators=1400, min_samples_split=10, min_samples_leaf=2, max_features=sqrt, max_depth=80, bootstrap=True \n",
      "[CV]  n_estimators=1400, min_samples_split=2, min_samples_leaf=1, max_features=auto, max_depth=100, bootstrap=True, total=  34.9s\n",
      "[CV] n_estimators=1400, min_samples_split=10, min_samples_leaf=2, max_features=sqrt, max_depth=80, bootstrap=True \n",
      "[CV]  n_estimators=1400, min_samples_split=10, min_samples_leaf=2, max_features=sqrt, max_depth=80, bootstrap=True, total=  12.1s\n",
      "[CV] n_estimators=1400, min_samples_split=10, min_samples_leaf=2, max_features=sqrt, max_depth=80, bootstrap=True \n",
      "[CV]  n_estimators=1400, min_samples_split=10, min_samples_leaf=2, max_features=sqrt, max_depth=80, bootstrap=True, total=  12.0s\n",
      "[CV] n_estimators=200, min_samples_split=2, min_samples_leaf=1, max_features=sqrt, max_depth=50, bootstrap=True \n",
      "[CV]  n_estimators=200, min_samples_split=2, min_samples_leaf=1, max_features=sqrt, max_depth=50, bootstrap=True, total=   2.6s\n",
      "[CV] n_estimators=200, min_samples_split=2, min_samples_leaf=1, max_features=sqrt, max_depth=50, bootstrap=True \n",
      "[CV]  n_estimators=1400, min_samples_split=2, min_samples_leaf=1, max_features=auto, max_depth=100, bootstrap=True, total=  35.2s\n",
      "[CV] n_estimators=200, min_samples_split=2, min_samples_leaf=1, max_features=sqrt, max_depth=50, bootstrap=True \n",
      "[CV]  n_estimators=200, min_samples_split=2, min_samples_leaf=1, max_features=sqrt, max_depth=50, bootstrap=True, total=   2.6s\n",
      "[CV] n_estimators=400, min_samples_split=2, min_samples_leaf=4, max_features=sqrt, max_depth=10, bootstrap=True \n",
      "[CV]  n_estimators=200, min_samples_split=2, min_samples_leaf=1, max_features=sqrt, max_depth=50, bootstrap=True, total=   2.6s\n",
      "[CV] n_estimators=400, min_samples_split=2, min_samples_leaf=4, max_features=sqrt, max_depth=10, bootstrap=True \n",
      "[CV]  n_estimators=400, min_samples_split=2, min_samples_leaf=4, max_features=sqrt, max_depth=10, bootstrap=True, total=   3.0s\n",
      "[CV] n_estimators=400, min_samples_split=2, min_samples_leaf=4, max_features=sqrt, max_depth=10, bootstrap=True \n",
      "[CV]  n_estimators=400, min_samples_split=2, min_samples_leaf=4, max_features=sqrt, max_depth=10, bootstrap=True, total=   2.9s\n",
      "[CV] n_estimators=1000, min_samples_split=10, min_samples_leaf=4, max_features=auto, max_depth=80, bootstrap=False \n",
      "[CV]  n_estimators=400, min_samples_split=2, min_samples_leaf=4, max_features=sqrt, max_depth=10, bootstrap=True, total=   3.0s\n",
      "[CV] n_estimators=1000, min_samples_split=10, min_samples_leaf=4, max_features=auto, max_depth=80, bootstrap=False \n",
      "[CV]  n_estimators=1400, min_samples_split=10, min_samples_leaf=2, max_features=sqrt, max_depth=80, bootstrap=True, total=  12.4s\n",
      "[CV] n_estimators=1000, min_samples_split=10, min_samples_leaf=4, max_features=auto, max_depth=80, bootstrap=False \n",
      "[CV]  n_estimators=1400, min_samples_split=2, min_samples_leaf=1, max_features=auto, max_depth=100, bootstrap=True, total=  35.6s\n",
      "[CV] n_estimators=1200, min_samples_split=10, min_samples_leaf=2, max_features=auto, max_depth=None, bootstrap=False \n",
      "[CV]  n_estimators=1000, min_samples_split=10, min_samples_leaf=4, max_features=auto, max_depth=80, bootstrap=False, total=  24.5s\n",
      "[CV] n_estimators=1200, min_samples_split=10, min_samples_leaf=2, max_features=auto, max_depth=None, bootstrap=False \n",
      "[CV]  n_estimators=1000, min_samples_split=10, min_samples_leaf=4, max_features=auto, max_depth=80, bootstrap=False, total=  24.5s\n"
     ]
    },
    {
     "name": "stdout",
     "output_type": "stream",
     "text": [
      "[CV] n_estimators=1200, min_samples_split=10, min_samples_leaf=2, max_features=auto, max_depth=None, bootstrap=False \n",
      "[CV]  n_estimators=1000, min_samples_split=10, min_samples_leaf=4, max_features=auto, max_depth=80, bootstrap=False, total=  25.1s\n",
      "[CV] n_estimators=1600, min_samples_split=10, min_samples_leaf=1, max_features=sqrt, max_depth=20, bootstrap=True \n",
      "[CV]  n_estimators=1200, min_samples_split=10, min_samples_leaf=2, max_features=auto, max_depth=None, bootstrap=False, total=  31.1s\n",
      "[CV] n_estimators=1600, min_samples_split=10, min_samples_leaf=1, max_features=sqrt, max_depth=20, bootstrap=True \n",
      "[CV]  n_estimators=1600, min_samples_split=10, min_samples_leaf=1, max_features=sqrt, max_depth=20, bootstrap=True, total=  13.8s\n",
      "[CV] n_estimators=1600, min_samples_split=10, min_samples_leaf=1, max_features=sqrt, max_depth=20, bootstrap=True \n",
      "[CV]  n_estimators=1600, min_samples_split=10, min_samples_leaf=1, max_features=sqrt, max_depth=20, bootstrap=True, total=  14.1s\n",
      "[CV] n_estimators=1600, min_samples_split=10, min_samples_leaf=2, max_features=auto, max_depth=None, bootstrap=True \n",
      "[CV]  n_estimators=1200, min_samples_split=10, min_samples_leaf=2, max_features=auto, max_depth=None, bootstrap=False, total=  31.7s\n",
      "[CV] n_estimators=1600, min_samples_split=10, min_samples_leaf=2, max_features=auto, max_depth=None, bootstrap=True \n",
      "[CV]  n_estimators=1600, min_samples_split=10, min_samples_leaf=1, max_features=sqrt, max_depth=20, bootstrap=True, total=  14.1s\n",
      "[CV] n_estimators=1600, min_samples_split=10, min_samples_leaf=2, max_features=auto, max_depth=None, bootstrap=True \n",
      "[CV]  n_estimators=1200, min_samples_split=10, min_samples_leaf=2, max_features=auto, max_depth=None, bootstrap=False, total=  31.9s\n",
      "[CV] n_estimators=1800, min_samples_split=2, min_samples_leaf=4, max_features=auto, max_depth=10, bootstrap=False \n",
      "[CV]  n_estimators=1600, min_samples_split=10, min_samples_leaf=2, max_features=auto, max_depth=None, bootstrap=True, total=  27.9s\n",
      "[CV] n_estimators=1800, min_samples_split=2, min_samples_leaf=4, max_features=auto, max_depth=10, bootstrap=False \n",
      "[CV]  n_estimators=1600, min_samples_split=10, min_samples_leaf=2, max_features=auto, max_depth=None, bootstrap=True, total=  28.5s\n",
      "[CV] n_estimators=1800, min_samples_split=2, min_samples_leaf=4, max_features=auto, max_depth=10, bootstrap=False \n",
      "[CV]  n_estimators=1600, min_samples_split=10, min_samples_leaf=2, max_features=auto, max_depth=None, bootstrap=True, total=  28.4s\n",
      "[CV] n_estimators=1400, min_samples_split=2, min_samples_leaf=2, max_features=auto, max_depth=70, bootstrap=True \n",
      "[CV]  n_estimators=1800, min_samples_split=2, min_samples_leaf=4, max_features=auto, max_depth=10, bootstrap=False, total=  36.7s\n",
      "[CV] n_estimators=1400, min_samples_split=2, min_samples_leaf=2, max_features=auto, max_depth=70, bootstrap=True \n",
      "[CV]  n_estimators=1400, min_samples_split=2, min_samples_leaf=2, max_features=auto, max_depth=70, bootstrap=True, total=  28.6s\n",
      "[CV] n_estimators=1400, min_samples_split=2, min_samples_leaf=2, max_features=auto, max_depth=70, bootstrap=True \n",
      "[CV]  n_estimators=1800, min_samples_split=2, min_samples_leaf=4, max_features=auto, max_depth=10, bootstrap=False, total=  36.6s\n",
      "[CV] n_estimators=1000, min_samples_split=10, min_samples_leaf=1, max_features=sqrt, max_depth=80, bootstrap=False \n",
      "[CV]  n_estimators=1800, min_samples_split=2, min_samples_leaf=4, max_features=auto, max_depth=10, bootstrap=False, total=  36.3s\n",
      "[CV] n_estimators=1000, min_samples_split=10, min_samples_leaf=1, max_features=sqrt, max_depth=80, bootstrap=False \n",
      "[CV]  n_estimators=1400, min_samples_split=2, min_samples_leaf=2, max_features=auto, max_depth=70, bootstrap=True, total=  28.5s\n",
      "[CV] n_estimators=1000, min_samples_split=10, min_samples_leaf=1, max_features=sqrt, max_depth=80, bootstrap=False \n",
      "[CV]  n_estimators=1000, min_samples_split=10, min_samples_leaf=1, max_features=sqrt, max_depth=80, bootstrap=False, total=  12.2s\n",
      "[CV] n_estimators=2000, min_samples_split=10, min_samples_leaf=2, max_features=auto, max_depth=60, bootstrap=False \n",
      "[CV]  n_estimators=1000, min_samples_split=10, min_samples_leaf=1, max_features=sqrt, max_depth=80, bootstrap=False, total=  12.3s\n",
      "[CV] n_estimators=2000, min_samples_split=10, min_samples_leaf=2, max_features=auto, max_depth=60, bootstrap=False \n",
      "[CV]  n_estimators=1000, min_samples_split=10, min_samples_leaf=1, max_features=sqrt, max_depth=80, bootstrap=False, total=  12.4s\n",
      "[CV] n_estimators=2000, min_samples_split=10, min_samples_leaf=2, max_features=auto, max_depth=60, bootstrap=False \n",
      "[CV]  n_estimators=1400, min_samples_split=2, min_samples_leaf=2, max_features=auto, max_depth=70, bootstrap=True, total=  28.7s\n",
      "[CV] n_estimators=1400, min_samples_split=2, min_samples_leaf=4, max_features=sqrt, max_depth=80, bootstrap=False \n",
      "[CV]  n_estimators=1400, min_samples_split=2, min_samples_leaf=4, max_features=sqrt, max_depth=80, bootstrap=False, total=  16.3s\n",
      "[CV] n_estimators=1400, min_samples_split=2, min_samples_leaf=4, max_features=sqrt, max_depth=80, bootstrap=False \n",
      "[CV]  n_estimators=1400, min_samples_split=2, min_samples_leaf=4, max_features=sqrt, max_depth=80, bootstrap=False, total=  16.1s\n",
      "[CV] n_estimators=1400, min_samples_split=2, min_samples_leaf=4, max_features=sqrt, max_depth=80, bootstrap=False \n",
      "[CV]  n_estimators=2000, min_samples_split=10, min_samples_leaf=2, max_features=auto, max_depth=60, bootstrap=False, total=  52.6s\n",
      "[CV] n_estimators=800, min_samples_split=2, min_samples_leaf=4, max_features=sqrt, max_depth=20, bootstrap=False \n",
      "[CV]  n_estimators=2000, min_samples_split=10, min_samples_leaf=2, max_features=auto, max_depth=60, bootstrap=False, total=  52.8s\n",
      "[CV] n_estimators=800, min_samples_split=2, min_samples_leaf=4, max_features=sqrt, max_depth=20, bootstrap=False \n",
      "[CV]  n_estimators=2000, min_samples_split=10, min_samples_leaf=2, max_features=auto, max_depth=60, bootstrap=False, total=  52.2s\n",
      "[CV] n_estimators=800, min_samples_split=2, min_samples_leaf=4, max_features=sqrt, max_depth=20, bootstrap=False \n",
      "[CV]  n_estimators=800, min_samples_split=2, min_samples_leaf=4, max_features=sqrt, max_depth=20, bootstrap=False, total=   9.5s\n",
      "[CV] n_estimators=1800, min_samples_split=5, min_samples_leaf=2, max_features=sqrt, max_depth=60, bootstrap=True \n",
      "[CV]  n_estimators=1400, min_samples_split=2, min_samples_leaf=4, max_features=sqrt, max_depth=80, bootstrap=False, total=  16.6s\n",
      "[CV] n_estimators=1800, min_samples_split=5, min_samples_leaf=2, max_features=sqrt, max_depth=60, bootstrap=True \n",
      "[CV]  n_estimators=800, min_samples_split=2, min_samples_leaf=4, max_features=sqrt, max_depth=20, bootstrap=False, total=   9.3s\n",
      "[CV] n_estimators=1800, min_samples_split=5, min_samples_leaf=2, max_features=sqrt, max_depth=60, bootstrap=True \n",
      "[CV]  n_estimators=800, min_samples_split=2, min_samples_leaf=4, max_features=sqrt, max_depth=20, bootstrap=False, total=   9.5s\n",
      "[CV] n_estimators=400, min_samples_split=5, min_samples_leaf=1, max_features=auto, max_depth=90, bootstrap=False \n",
      "[CV]  n_estimators=400, min_samples_split=5, min_samples_leaf=1, max_features=auto, max_depth=90, bootstrap=False, total=  12.6s\n",
      "[CV] n_estimators=400, min_samples_split=5, min_samples_leaf=1, max_features=auto, max_depth=90, bootstrap=False \n",
      "[CV]  n_estimators=1800, min_samples_split=5, min_samples_leaf=2, max_features=sqrt, max_depth=60, bootstrap=True, total=  17.7s\n",
      "[CV] n_estimators=400, min_samples_split=5, min_samples_leaf=1, max_features=auto, max_depth=90, bootstrap=False \n",
      "[CV]  n_estimators=1800, min_samples_split=5, min_samples_leaf=2, max_features=sqrt, max_depth=60, bootstrap=True, total=  17.7s\n",
      "[CV] n_estimators=1600, min_samples_split=5, min_samples_leaf=1, max_features=auto, max_depth=90, bootstrap=True \n",
      "[CV]  n_estimators=1800, min_samples_split=5, min_samples_leaf=2, max_features=sqrt, max_depth=60, bootstrap=True, total=  17.6s\n",
      "[CV] n_estimators=1600, min_samples_split=5, min_samples_leaf=1, max_features=auto, max_depth=90, bootstrap=True \n",
      "[CV]  n_estimators=400, min_samples_split=5, min_samples_leaf=1, max_features=auto, max_depth=90, bootstrap=False, total=  12.6s\n",
      "[CV] n_estimators=1600, min_samples_split=5, min_samples_leaf=1, max_features=auto, max_depth=90, bootstrap=True \n"
     ]
    },
    {
     "name": "stdout",
     "output_type": "stream",
     "text": [
      "[CV]  n_estimators=400, min_samples_split=5, min_samples_leaf=1, max_features=auto, max_depth=90, bootstrap=False, total=  12.6s\n",
      "[CV] n_estimators=400, min_samples_split=10, min_samples_leaf=2, max_features=sqrt, max_depth=90, bootstrap=False \n",
      "[CV]  n_estimators=400, min_samples_split=10, min_samples_leaf=2, max_features=sqrt, max_depth=90, bootstrap=False, total=   4.7s\n",
      "[CV] n_estimators=400, min_samples_split=10, min_samples_leaf=2, max_features=sqrt, max_depth=90, bootstrap=False \n",
      "[CV]  n_estimators=400, min_samples_split=10, min_samples_leaf=2, max_features=sqrt, max_depth=90, bootstrap=False, total=   4.7s\n",
      "[CV] n_estimators=400, min_samples_split=10, min_samples_leaf=2, max_features=sqrt, max_depth=90, bootstrap=False \n",
      "[CV]  n_estimators=400, min_samples_split=10, min_samples_leaf=2, max_features=sqrt, max_depth=90, bootstrap=False, total=   4.8s\n",
      "[CV] n_estimators=1600, min_samples_split=10, min_samples_leaf=1, max_features=sqrt, max_depth=None, bootstrap=True \n",
      "[CV]  n_estimators=1600, min_samples_split=5, min_samples_leaf=1, max_features=auto, max_depth=90, bootstrap=True, total=  33.3s\n",
      "[CV] n_estimators=1600, min_samples_split=10, min_samples_leaf=1, max_features=sqrt, max_depth=None, bootstrap=True \n",
      "[CV]  n_estimators=1600, min_samples_split=5, min_samples_leaf=1, max_features=auto, max_depth=90, bootstrap=True, total=  33.3s\n",
      "[CV] n_estimators=1600, min_samples_split=10, min_samples_leaf=1, max_features=sqrt, max_depth=None, bootstrap=True \n",
      "[CV]  n_estimators=1600, min_samples_split=10, min_samples_leaf=1, max_features=sqrt, max_depth=None, bootstrap=True, total=  14.3s\n",
      "[CV] n_estimators=2000, min_samples_split=5, min_samples_leaf=1, max_features=sqrt, max_depth=100, bootstrap=True \n",
      "[CV]  n_estimators=1600, min_samples_split=5, min_samples_leaf=1, max_features=auto, max_depth=90, bootstrap=True, total=  33.8s\n",
      "[CV] n_estimators=2000, min_samples_split=5, min_samples_leaf=1, max_features=sqrt, max_depth=100, bootstrap=True \n",
      "[CV]  n_estimators=1600, min_samples_split=10, min_samples_leaf=1, max_features=sqrt, max_depth=None, bootstrap=True, total=  14.5s\n",
      "[CV] n_estimators=2000, min_samples_split=5, min_samples_leaf=1, max_features=sqrt, max_depth=100, bootstrap=True \n",
      "[CV]  n_estimators=1600, min_samples_split=10, min_samples_leaf=1, max_features=sqrt, max_depth=None, bootstrap=True, total=  14.6s\n",
      "[CV] n_estimators=1000, min_samples_split=5, min_samples_leaf=2, max_features=sqrt, max_depth=10, bootstrap=True \n",
      "[CV]  n_estimators=1000, min_samples_split=5, min_samples_leaf=2, max_features=sqrt, max_depth=10, bootstrap=True, total=   7.6s\n",
      "[CV] n_estimators=1000, min_samples_split=5, min_samples_leaf=2, max_features=sqrt, max_depth=10, bootstrap=True \n",
      "[CV]  n_estimators=2000, min_samples_split=5, min_samples_leaf=1, max_features=sqrt, max_depth=100, bootstrap=True, total=  21.0s\n",
      "[CV] n_estimators=1000, min_samples_split=5, min_samples_leaf=2, max_features=sqrt, max_depth=10, bootstrap=True \n",
      "[CV]  n_estimators=2000, min_samples_split=5, min_samples_leaf=1, max_features=sqrt, max_depth=100, bootstrap=True, total=  20.9s\n",
      "[CV] n_estimators=200, min_samples_split=5, min_samples_leaf=4, max_features=auto, max_depth=80, bootstrap=True \n",
      "[CV]  n_estimators=1000, min_samples_split=5, min_samples_leaf=2, max_features=sqrt, max_depth=10, bootstrap=True, total=   7.7s\n",
      "[CV] n_estimators=200, min_samples_split=5, min_samples_leaf=4, max_features=auto, max_depth=80, bootstrap=True \n",
      "[CV]  n_estimators=200, min_samples_split=5, min_samples_leaf=4, max_features=auto, max_depth=80, bootstrap=True, total=   3.5s\n",
      "[CV] n_estimators=200, min_samples_split=5, min_samples_leaf=4, max_features=auto, max_depth=80, bootstrap=True \n",
      "[CV]  n_estimators=200, min_samples_split=5, min_samples_leaf=4, max_features=auto, max_depth=80, bootstrap=True, total=   3.5s\n",
      "[CV] n_estimators=2000, min_samples_split=2, min_samples_leaf=4, max_features=auto, max_depth=60, bootstrap=False \n",
      "[CV]  n_estimators=2000, min_samples_split=5, min_samples_leaf=1, max_features=sqrt, max_depth=100, bootstrap=True, total=  20.8s\n",
      "[CV] n_estimators=2000, min_samples_split=2, min_samples_leaf=4, max_features=auto, max_depth=60, bootstrap=False \n",
      "[CV]  n_estimators=1000, min_samples_split=5, min_samples_leaf=2, max_features=sqrt, max_depth=10, bootstrap=True, total=   7.7s\n",
      "[CV] n_estimators=2000, min_samples_split=2, min_samples_leaf=4, max_features=auto, max_depth=60, bootstrap=False \n",
      "[CV]  n_estimators=200, min_samples_split=5, min_samples_leaf=4, max_features=auto, max_depth=80, bootstrap=True, total=   3.6s\n",
      "[CV] n_estimators=600, min_samples_split=10, min_samples_leaf=2, max_features=auto, max_depth=100, bootstrap=True \n",
      "[CV]  n_estimators=600, min_samples_split=10, min_samples_leaf=2, max_features=auto, max_depth=100, bootstrap=True, total=  10.5s\n",
      "[CV] n_estimators=600, min_samples_split=10, min_samples_leaf=2, max_features=auto, max_depth=100, bootstrap=True \n",
      "[CV]  n_estimators=600, min_samples_split=10, min_samples_leaf=2, max_features=auto, max_depth=100, bootstrap=True, total=  10.5s\n",
      "[CV] n_estimators=600, min_samples_split=10, min_samples_leaf=2, max_features=auto, max_depth=100, bootstrap=True \n",
      "[CV]  n_estimators=600, min_samples_split=10, min_samples_leaf=2, max_features=auto, max_depth=100, bootstrap=True, total=  10.5s\n",
      "[CV] n_estimators=1000, min_samples_split=5, min_samples_leaf=4, max_features=auto, max_depth=100, bootstrap=True \n",
      "[CV]  n_estimators=2000, min_samples_split=2, min_samples_leaf=4, max_features=auto, max_depth=60, bootstrap=False, total=  50.4s\n",
      "[CV] n_estimators=1000, min_samples_split=5, min_samples_leaf=4, max_features=auto, max_depth=100, bootstrap=True \n",
      "[CV]  n_estimators=1000, min_samples_split=5, min_samples_leaf=4, max_features=auto, max_depth=100, bootstrap=True, total=  17.0s\n",
      "[CV] n_estimators=1000, min_samples_split=5, min_samples_leaf=4, max_features=auto, max_depth=100, bootstrap=True \n",
      "[CV]  n_estimators=2000, min_samples_split=2, min_samples_leaf=4, max_features=auto, max_depth=60, bootstrap=False, total=  51.0s\n",
      "[CV] n_estimators=800, min_samples_split=10, min_samples_leaf=2, max_features=auto, max_depth=None, bootstrap=False \n",
      "[CV]  n_estimators=2000, min_samples_split=2, min_samples_leaf=4, max_features=auto, max_depth=60, bootstrap=False, total=  51.3s\n",
      "[CV] n_estimators=800, min_samples_split=10, min_samples_leaf=2, max_features=auto, max_depth=None, bootstrap=False \n",
      "[CV]  n_estimators=1000, min_samples_split=5, min_samples_leaf=4, max_features=auto, max_depth=100, bootstrap=True, total=  17.1s\n",
      "[CV] n_estimators=800, min_samples_split=10, min_samples_leaf=2, max_features=auto, max_depth=None, bootstrap=False \n",
      "[CV]  n_estimators=1000, min_samples_split=5, min_samples_leaf=4, max_features=auto, max_depth=100, bootstrap=True, total=  17.2s\n",
      "[CV] n_estimators=800, min_samples_split=5, min_samples_leaf=4, max_features=sqrt, max_depth=70, bootstrap=False \n",
      "[CV]  n_estimators=800, min_samples_split=10, min_samples_leaf=2, max_features=auto, max_depth=None, bootstrap=False, total=  21.1s\n",
      "[CV] n_estimators=800, min_samples_split=5, min_samples_leaf=4, max_features=sqrt, max_depth=70, bootstrap=False \n",
      "[CV]  n_estimators=800, min_samples_split=10, min_samples_leaf=2, max_features=auto, max_depth=None, bootstrap=False, total=  21.0s\n",
      "[CV] n_estimators=800, min_samples_split=5, min_samples_leaf=4, max_features=sqrt, max_depth=70, bootstrap=False \n",
      "[CV]  n_estimators=800, min_samples_split=5, min_samples_leaf=4, max_features=sqrt, max_depth=70, bootstrap=False, total=   9.3s\n",
      "[CV] n_estimators=600, min_samples_split=10, min_samples_leaf=1, max_features=sqrt, max_depth=40, bootstrap=False \n",
      "[CV]  n_estimators=800, min_samples_split=5, min_samples_leaf=4, max_features=sqrt, max_depth=70, bootstrap=False, total=   9.5s\n",
      "[CV] n_estimators=600, min_samples_split=10, min_samples_leaf=1, max_features=sqrt, max_depth=40, bootstrap=False \n",
      "[CV]  n_estimators=800, min_samples_split=5, min_samples_leaf=4, max_features=sqrt, max_depth=70, bootstrap=False, total=   9.3s\n",
      "[CV] n_estimators=600, min_samples_split=10, min_samples_leaf=1, max_features=sqrt, max_depth=40, bootstrap=False \n",
      "[CV]  n_estimators=600, min_samples_split=10, min_samples_leaf=1, max_features=sqrt, max_depth=40, bootstrap=False, total=   7.3s\n"
     ]
    },
    {
     "name": "stdout",
     "output_type": "stream",
     "text": [
      "[CV] n_estimators=400, min_samples_split=5, min_samples_leaf=1, max_features=sqrt, max_depth=100, bootstrap=True \n",
      "[CV]  n_estimators=800, min_samples_split=10, min_samples_leaf=2, max_features=auto, max_depth=None, bootstrap=False, total=  21.3s\n",
      "[CV] n_estimators=400, min_samples_split=5, min_samples_leaf=1, max_features=sqrt, max_depth=100, bootstrap=True \n",
      "[CV]  n_estimators=600, min_samples_split=10, min_samples_leaf=1, max_features=sqrt, max_depth=40, bootstrap=False, total=   7.5s\n",
      "[CV] n_estimators=400, min_samples_split=5, min_samples_leaf=1, max_features=sqrt, max_depth=100, bootstrap=True \n",
      "[CV]  n_estimators=400, min_samples_split=5, min_samples_leaf=1, max_features=sqrt, max_depth=100, bootstrap=True, total=   4.2s\n",
      "[CV] n_estimators=1600, min_samples_split=2, min_samples_leaf=4, max_features=sqrt, max_depth=80, bootstrap=True \n",
      "[CV]  n_estimators=600, min_samples_split=10, min_samples_leaf=1, max_features=sqrt, max_depth=40, bootstrap=False, total=   7.4s\n",
      "[CV] n_estimators=1600, min_samples_split=2, min_samples_leaf=4, max_features=sqrt, max_depth=80, bootstrap=True \n",
      "[CV]  n_estimators=400, min_samples_split=5, min_samples_leaf=1, max_features=sqrt, max_depth=100, bootstrap=True, total=   4.3s\n",
      "[CV] n_estimators=1600, min_samples_split=2, min_samples_leaf=4, max_features=sqrt, max_depth=80, bootstrap=True \n",
      "[CV]  n_estimators=400, min_samples_split=5, min_samples_leaf=1, max_features=sqrt, max_depth=100, bootstrap=True, total=   4.2s\n",
      "[CV] n_estimators=800, min_samples_split=10, min_samples_leaf=4, max_features=sqrt, max_depth=100, bootstrap=True \n",
      "[CV]  n_estimators=800, min_samples_split=10, min_samples_leaf=4, max_features=sqrt, max_depth=100, bootstrap=True, total=   6.6s\n",
      "[CV] n_estimators=800, min_samples_split=10, min_samples_leaf=4, max_features=sqrt, max_depth=100, bootstrap=True \n",
      "[CV]  n_estimators=1600, min_samples_split=2, min_samples_leaf=4, max_features=sqrt, max_depth=80, bootstrap=True, total=  14.1s\n",
      "[CV] n_estimators=800, min_samples_split=10, min_samples_leaf=4, max_features=sqrt, max_depth=100, bootstrap=True \n",
      "[CV]  n_estimators=1600, min_samples_split=2, min_samples_leaf=4, max_features=sqrt, max_depth=80, bootstrap=True, total=  14.2s\n",
      "[CV] n_estimators=1000, min_samples_split=10, min_samples_leaf=2, max_features=sqrt, max_depth=10, bootstrap=True \n",
      "[CV]  n_estimators=1600, min_samples_split=2, min_samples_leaf=4, max_features=sqrt, max_depth=80, bootstrap=True, total=  14.0s\n",
      "[CV] n_estimators=1000, min_samples_split=10, min_samples_leaf=2, max_features=sqrt, max_depth=10, bootstrap=True \n",
      "[CV]  n_estimators=800, min_samples_split=10, min_samples_leaf=4, max_features=sqrt, max_depth=100, bootstrap=True, total=   7.0s\n",
      "[CV] n_estimators=1000, min_samples_split=10, min_samples_leaf=2, max_features=sqrt, max_depth=10, bootstrap=True \n",
      "[CV]  n_estimators=800, min_samples_split=10, min_samples_leaf=4, max_features=sqrt, max_depth=100, bootstrap=True, total=   6.7s\n",
      "[CV] n_estimators=600, min_samples_split=10, min_samples_leaf=1, max_features=sqrt, max_depth=110, bootstrap=True \n",
      "[CV]  n_estimators=1000, min_samples_split=10, min_samples_leaf=2, max_features=sqrt, max_depth=10, bootstrap=True, total=   7.5s\n",
      "[CV] n_estimators=600, min_samples_split=10, min_samples_leaf=1, max_features=sqrt, max_depth=110, bootstrap=True \n",
      "[CV]  n_estimators=1000, min_samples_split=10, min_samples_leaf=2, max_features=sqrt, max_depth=10, bootstrap=True, total=   7.4s\n",
      "[CV] n_estimators=600, min_samples_split=10, min_samples_leaf=1, max_features=sqrt, max_depth=110, bootstrap=True \n",
      "[CV]  n_estimators=1000, min_samples_split=10, min_samples_leaf=2, max_features=sqrt, max_depth=10, bootstrap=True, total=   7.4s\n",
      "[CV] n_estimators=2000, min_samples_split=5, min_samples_leaf=4, max_features=sqrt, max_depth=None, bootstrap=False \n",
      "[CV]  n_estimators=600, min_samples_split=10, min_samples_leaf=1, max_features=sqrt, max_depth=110, bootstrap=True, total=   5.5s\n",
      "[CV] n_estimators=2000, min_samples_split=5, min_samples_leaf=4, max_features=sqrt, max_depth=None, bootstrap=False \n",
      "[CV]  n_estimators=600, min_samples_split=10, min_samples_leaf=1, max_features=sqrt, max_depth=110, bootstrap=True, total=   5.6s\n",
      "[CV] n_estimators=2000, min_samples_split=5, min_samples_leaf=4, max_features=sqrt, max_depth=None, bootstrap=False \n",
      "[CV]  n_estimators=600, min_samples_split=10, min_samples_leaf=1, max_features=sqrt, max_depth=110, bootstrap=True, total=   5.4s\n",
      "[CV] n_estimators=800, min_samples_split=5, min_samples_leaf=1, max_features=sqrt, max_depth=40, bootstrap=True \n",
      "[CV]  n_estimators=800, min_samples_split=5, min_samples_leaf=1, max_features=sqrt, max_depth=40, bootstrap=True, total=   8.1s\n",
      "[CV] n_estimators=800, min_samples_split=5, min_samples_leaf=1, max_features=sqrt, max_depth=40, bootstrap=True \n",
      "[CV]  n_estimators=800, min_samples_split=5, min_samples_leaf=1, max_features=sqrt, max_depth=40, bootstrap=True, total=   8.1s\n",
      "[CV] n_estimators=800, min_samples_split=5, min_samples_leaf=1, max_features=sqrt, max_depth=40, bootstrap=True \n",
      "[CV]  n_estimators=2000, min_samples_split=5, min_samples_leaf=4, max_features=sqrt, max_depth=None, bootstrap=False, total=  23.6s\n",
      "[CV] n_estimators=600, min_samples_split=2, min_samples_leaf=4, max_features=auto, max_depth=40, bootstrap=True \n",
      "[CV]  n_estimators=2000, min_samples_split=5, min_samples_leaf=4, max_features=sqrt, max_depth=None, bootstrap=False, total=  23.4s\n",
      "[CV] n_estimators=600, min_samples_split=2, min_samples_leaf=4, max_features=auto, max_depth=40, bootstrap=True \n",
      "[CV]  n_estimators=2000, min_samples_split=5, min_samples_leaf=4, max_features=sqrt, max_depth=None, bootstrap=False, total=  23.4s\n",
      "[CV] n_estimators=600, min_samples_split=2, min_samples_leaf=4, max_features=auto, max_depth=40, bootstrap=True \n",
      "[CV]  n_estimators=800, min_samples_split=5, min_samples_leaf=1, max_features=sqrt, max_depth=40, bootstrap=True, total=   8.3s\n",
      "[CV] n_estimators=600, min_samples_split=2, min_samples_leaf=4, max_features=sqrt, max_depth=30, bootstrap=False \n",
      "[CV]  n_estimators=600, min_samples_split=2, min_samples_leaf=4, max_features=auto, max_depth=40, bootstrap=True, total=  10.5s\n",
      "[CV] n_estimators=600, min_samples_split=2, min_samples_leaf=4, max_features=sqrt, max_depth=30, bootstrap=False \n",
      "[CV]  n_estimators=600, min_samples_split=2, min_samples_leaf=4, max_features=auto, max_depth=40, bootstrap=True, total=  10.3s\n",
      "[CV] n_estimators=600, min_samples_split=2, min_samples_leaf=4, max_features=sqrt, max_depth=30, bootstrap=False \n",
      "[CV]  n_estimators=600, min_samples_split=2, min_samples_leaf=4, max_features=auto, max_depth=40, bootstrap=True, total=  10.5s\n",
      "[CV] n_estimators=400, min_samples_split=10, min_samples_leaf=2, max_features=auto, max_depth=40, bootstrap=False \n",
      "[CV]  n_estimators=600, min_samples_split=2, min_samples_leaf=4, max_features=sqrt, max_depth=30, bootstrap=False, total=   7.1s\n",
      "[CV] n_estimators=400, min_samples_split=10, min_samples_leaf=2, max_features=auto, max_depth=40, bootstrap=False \n",
      "[CV]  n_estimators=600, min_samples_split=2, min_samples_leaf=4, max_features=sqrt, max_depth=30, bootstrap=False, total=   7.1s\n",
      "[CV] n_estimators=400, min_samples_split=10, min_samples_leaf=2, max_features=auto, max_depth=40, bootstrap=False \n",
      "[CV]  n_estimators=600, min_samples_split=2, min_samples_leaf=4, max_features=sqrt, max_depth=30, bootstrap=False, total=   7.1s\n",
      "[CV] n_estimators=1000, min_samples_split=2, min_samples_leaf=1, max_features=auto, max_depth=10, bootstrap=False \n",
      "[CV]  n_estimators=400, min_samples_split=10, min_samples_leaf=2, max_features=auto, max_depth=40, bootstrap=False, total=  10.5s\n",
      "[CV] n_estimators=1000, min_samples_split=2, min_samples_leaf=1, max_features=auto, max_depth=10, bootstrap=False \n",
      "[CV]  n_estimators=400, min_samples_split=10, min_samples_leaf=2, max_features=auto, max_depth=40, bootstrap=False, total=  10.5s\n",
      "[CV] n_estimators=1000, min_samples_split=2, min_samples_leaf=1, max_features=auto, max_depth=10, bootstrap=False \n",
      "[CV]  n_estimators=400, min_samples_split=10, min_samples_leaf=2, max_features=auto, max_depth=40, bootstrap=False, total=  10.6s\n",
      "[CV] n_estimators=200, min_samples_split=5, min_samples_leaf=4, max_features=auto, max_depth=100, bootstrap=False \n",
      "[CV]  n_estimators=200, min_samples_split=5, min_samples_leaf=4, max_features=auto, max_depth=100, bootstrap=False, total=   5.1s\n"
     ]
    },
    {
     "name": "stdout",
     "output_type": "stream",
     "text": [
      "[CV] n_estimators=200, min_samples_split=5, min_samples_leaf=4, max_features=auto, max_depth=100, bootstrap=False \n",
      "[CV]  n_estimators=200, min_samples_split=5, min_samples_leaf=4, max_features=auto, max_depth=100, bootstrap=False, total=   5.0s\n",
      "[CV] n_estimators=200, min_samples_split=5, min_samples_leaf=4, max_features=auto, max_depth=100, bootstrap=False \n",
      "[CV]  n_estimators=1000, min_samples_split=2, min_samples_leaf=1, max_features=auto, max_depth=10, bootstrap=False, total=  21.3s\n",
      "[CV] n_estimators=2000, min_samples_split=2, min_samples_leaf=2, max_features=sqrt, max_depth=20, bootstrap=True \n",
      "[CV]  n_estimators=200, min_samples_split=5, min_samples_leaf=4, max_features=auto, max_depth=100, bootstrap=False, total=   5.2s\n",
      "[CV] n_estimators=2000, min_samples_split=2, min_samples_leaf=2, max_features=sqrt, max_depth=20, bootstrap=True \n",
      "[CV]  n_estimators=1000, min_samples_split=2, min_samples_leaf=1, max_features=auto, max_depth=10, bootstrap=False, total=  21.5s\n",
      "[CV] n_estimators=2000, min_samples_split=2, min_samples_leaf=2, max_features=sqrt, max_depth=20, bootstrap=True \n",
      "[CV]  n_estimators=1000, min_samples_split=2, min_samples_leaf=1, max_features=auto, max_depth=10, bootstrap=False, total=  21.5s\n",
      "[CV] n_estimators=2000, min_samples_split=10, min_samples_leaf=2, max_features=auto, max_depth=40, bootstrap=True \n",
      "[CV]  n_estimators=2000, min_samples_split=2, min_samples_leaf=2, max_features=sqrt, max_depth=20, bootstrap=True, total=  20.0s\n",
      "[CV] n_estimators=2000, min_samples_split=10, min_samples_leaf=2, max_features=auto, max_depth=40, bootstrap=True \n",
      "[CV]  n_estimators=2000, min_samples_split=2, min_samples_leaf=2, max_features=sqrt, max_depth=20, bootstrap=True, total=  20.4s\n",
      "[CV] n_estimators=2000, min_samples_split=10, min_samples_leaf=2, max_features=auto, max_depth=40, bootstrap=True \n",
      "[CV]  n_estimators=2000, min_samples_split=2, min_samples_leaf=2, max_features=sqrt, max_depth=20, bootstrap=True, total=  19.9s\n",
      "[CV]  n_estimators=2000, min_samples_split=10, min_samples_leaf=2, max_features=auto, max_depth=40, bootstrap=True, total=  35.1s\n",
      "[CV]  n_estimators=2000, min_samples_split=10, min_samples_leaf=2, max_features=auto, max_depth=40, bootstrap=True, total=  25.6s\n",
      "[CV]  n_estimators=2000, min_samples_split=10, min_samples_leaf=2, max_features=auto, max_depth=40, bootstrap=True, total=  28.5s\n"
     ]
    },
    {
     "name": "stderr",
     "output_type": "stream",
     "text": [
      "[Parallel(n_jobs=-1)]: Done 300 out of 300 | elapsed: 25.0min finished\n"
     ]
    },
    {
     "data": {
      "text/plain": [
       "RandomizedSearchCV(cv=3, error_score='raise',\n",
       "          estimator=RandomForestRegressor(bootstrap=True, criterion='mse', max_depth=None,\n",
       "           max_features='auto', max_leaf_nodes=None,\n",
       "           min_impurity_decrease=0.0, min_impurity_split=None,\n",
       "           min_samples_leaf=1, min_samples_split=2,\n",
       "           min_weight_fraction_leaf=0.0, n_estimators=10, n_jobs=1,\n",
       "           oob_score=False, random_state=None, verbose=0, warm_start=False),\n",
       "          fit_params=None, iid=True, n_iter=100, n_jobs=-1,\n",
       "          param_distributions={'n_estimators': [200, 400, 600, 800, 1000, 1200, 1400, 1600, 1800, 2000], 'max_features': ['auto', 'sqrt'], 'max_depth': [10, 20, 30, 40, 50, 60, 70, 80, 90, 100, 110, None], 'min_samples_split': [2, 5, 10], 'min_samples_leaf': [1, 2, 4], 'bootstrap': [True, False]},\n",
       "          pre_dispatch='2*n_jobs', random_state=42, refit=True,\n",
       "          return_train_score='warn', scoring=None, verbose=2)"
      ]
     },
     "execution_count": 362,
     "metadata": {},
     "output_type": "execute_result"
    }
   ],
   "source": [
    "# Use the random grid to search for best hyperparameters\n",
    "# First create the base model to tune\n",
    "RF = RandomForestRegressor()\n",
    "# Random search of parameters, using 3 fold cross validation, \n",
    "# search across 100 different combinations, and use all available cores\n",
    "RF_random = RandomizedSearchCV(estimator = RF, param_distributions = random_grid, n_iter = 100, cv = 3, verbose=2, random_state=42, n_jobs = -1)\n",
    "# Fit the random search model\n",
    "RF_random.fit(X_train, Y_train)"
   ]
  },
  {
   "cell_type": "code",
   "execution_count": 363,
   "metadata": {},
   "outputs": [
    {
     "data": {
      "text/plain": [
       "{'n_estimators': 800,\n",
       " 'min_samples_split': 5,\n",
       " 'min_samples_leaf': 2,\n",
       " 'max_features': 'auto',\n",
       " 'max_depth': None,\n",
       " 'bootstrap': True}"
      ]
     },
     "execution_count": 363,
     "metadata": {},
     "output_type": "execute_result"
    }
   ],
   "source": [
    "RF_random.best_params_"
   ]
  },
  {
   "cell_type": "markdown",
   "metadata": {},
   "source": [
    "{'n_estimators': 800,\n",
    " 'min_samples_split': 5,\n",
    " 'min_samples_leaf': 2,\n",
    " 'max_features': 'auto',\n",
    " 'max_depth': None,\n",
    " 'bootstrap': True}"
   ]
  },
  {
   "cell_type": "code",
   "execution_count": 364,
   "metadata": {},
   "outputs": [
    {
     "name": "stdout",
     "output_type": "stream",
     "text": [
      "'RF': -4996.061808 (488.860699)\n"
     ]
    }
   ],
   "source": [
    "models=[]\n",
    "models.append(('RF',RandomForestRegressor(\n",
    "n_estimators=800,\n",
    "max_features='auto',\n",
    "max_depth=None,\n",
    "min_samples_split=5,\n",
    "min_samples_leaf=2,\n",
    "bootstrap=True\n",
    ")))\n",
    "results=[]\n",
    "names=[]\n",
    "for name, model in models:\n",
    "    kfold=KFold(n_splits=num_folds,random_state=seed,shuffle=True)\n",
    "    cv_results=cross_val_score(model,X_train,Y_train,cv=kfold,scoring=scoring)\n",
    "    results.append(cv_results)\n",
    "    names.append(name)\n",
    "    message=\"%a: %f (%f)\" % (name,cv_results.mean(),cv_results.std())\n",
    "    print(message)"
   ]
  },
  {
   "cell_type": "code",
   "execution_count": 366,
   "metadata": {},
   "outputs": [
    {
     "name": "stdout",
     "output_type": "stream",
     "text": [
      "4918.456800412322\n"
     ]
    }
   ],
   "source": [
    "model=RandomForestRegressor(\n",
    "n_estimators=800,\n",
    "max_features='auto',\n",
    "max_depth=None,\n",
    "min_samples_split=5,\n",
    "min_samples_leaf=2,\n",
    "bootstrap=True\n",
    ")\n",
    "results=[]\n",
    "model.fit(X=X_train,y=Y_train)\n",
    "predictions=model.predict(X_validation)\n",
    "print(mean_squared_error(Y_validation,predictions))"
   ]
  }
 ],
 "metadata": {
  "kernelspec": {
   "display_name": "Python 3",
   "language": "python",
   "name": "python3"
  },
  "language_info": {
   "codemirror_mode": {
    "name": "ipython",
    "version": 3
   },
   "file_extension": ".py",
   "mimetype": "text/x-python",
   "name": "python",
   "nbconvert_exporter": "python",
   "pygments_lexer": "ipython3",
   "version": "3.6.5"
  }
 },
 "nbformat": 4,
 "nbformat_minor": 2
}
